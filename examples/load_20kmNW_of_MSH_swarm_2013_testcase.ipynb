{
 "cells": [
  {
   "cell_type": "markdown",
   "metadata": {},
   "source": [
    "# SeisBench Testcase Prediction (Detection/Picking) On Earthquake Swarms in the PNSN Network\n",
    "This notebook provides a worked example of using pre-trained ML models in SeisBench using data from two earthquake swarms within the PNSN network:\n",
    "1. The May 2017 earthquake swarm near Bremerton  \n",
    "        - **Note** this example uses just 2 days of the swarm: May 10-11, 2017. Catalog searches show the swarm can broadly be defined between May 8 and November 2017 (potentially longer - a declustering analysis would better define this).  \n",
    "![Event map of earthquakes in the seismic swarm near Bremerton, WA](data/2017-05-10_BRM/image.png)  \n",
    "\n",
    "\n",
    "2. The August 23-24, 2013 earthquake swarm near Mount St. Helens\n",
    "\n",
    "\n",
    "#### Attribution\n",
    "- Code structure based on discussions with Yiyu Ni (University of Washington)  \n",
    "- \"Earthquake swarm NE of Bremerton\" blog post by Renate Hartog on May 11, 2017  \n",
    "https://www.pnsn.org/blog/2017/05/11/earthquake-swarm-ne-of-bremerton\n",
    "- \"Peppy seismic swarm 20 km NW of Mount St. Helens\" blog post by John Vidale on August 24, 2013  \n",
    "https://pnsn.org/blog/2013/08/24/peppy-seismic-swarm-20-km-nw-of-mount-st-helens"
   ]
  },
  {
   "cell_type": "code",
   "execution_count": 16,
   "metadata": {},
   "outputs": [],
   "source": [
    "# Import dependencies\n",
    "from seisbench.models import EQTransformer, PhaseNet\n",
    "from obspy import UTCDateTime\n",
    "from obspy.clients.fdsn import Client\n",
    "import torch\n",
    "import pandas as pd\n",
    "import matplotlib.pyplot as plt\n",
    "import os\n"
   ]
  },
  {
   "cell_type": "code",
   "execution_count": 46,
   "metadata": {},
   "outputs": [
    {
     "name": "stdout",
     "output_type": "stream",
     "text": [
      "{'starttime': UTCDateTime(2017, 5, 10, 0, 0), 'endtime': UTCDateTime(2017, 5, 11, 23, 59, 59), 'latitude': 47.5828, 'longitude': -122.57841, 'maxradius': 0.17995483133733434}\n"
     ]
    }
   ],
   "source": [
    "def m2deg(x):\n",
    "    return x/111139.\n",
    "\n",
    "# Define fields for query\n",
    "fields = ('starttime','endtime','latitude','longitude','maxradius')\n",
    "# Define data selection kwargs \n",
    "dict_BRM_eve = dict(zip(fields,[UTCDateTime(\"2017-05-11T00:00:00\"),\\\n",
    "                                UTCDateTime(\"2017-05-12T23:59:59\"),\\\n",
    "                                47.5828,-122.57841,m2deg(7.5e3)]))\n",
    "dict_BRM_sta = dict(zip(fields,[UTCDateTime(\"2017-05-10T00:00:00\"),\\\n",
    "                                UTCDateTime(\"2017-05-11T23:59:59\"),\\\n",
    "                                47.5828,-122.57841,m2deg(20e3)]))\n",
    "\n",
    "# dict_MSH_sta = dict(zip(fields,[UTCDateTime(\"2017-05-11T00:00:00\"),\\\n",
    "#                                 UTCDateTime(\"2017-05-12T23:59:59\"),\\\n",
    "#                                 47.5828,-122.57841,\\\n",
    "#                                 7500.,50e3]))\n",
    "\n",
    "\n",
    "# dict_MSH = dict(zip(fields,[]))\n",
    "\n",
    "# Set desired query key-word arguments for subsequent blocks\n",
    "e_kwargs = dict_BRM_eve\n",
    "s_kwargs = dict_BRM_sta\n",
    "\n",
    "print(s_kwargs)"
   ]
  },
  {
   "cell_type": "code",
   "execution_count": 39,
   "metadata": {},
   "outputs": [
    {
     "data": {
      "text/plain": [
       "0.0022227799999999997"
      ]
     },
     "execution_count": 39,
     "metadata": {},
     "output_type": "execute_result"
    }
   ],
   "source": [
    "m2deg(50e3)"
   ]
  },
  {
   "cell_type": "code",
   "execution_count": 49,
   "metadata": {},
   "outputs": [],
   "source": [
    "# Initialize Client\n",
    "client = Client('IRIS')\n",
    "# Download inventory with specified query down to channel \n",
    "# (ML generally operates on data w/o instrument response correction)\n",
    "inv = client.get_stations(**s_kwargs,level='channel')\n"
   ]
  },
  {
   "cell_type": "code",
   "execution_count": 50,
   "metadata": {},
   "outputs": [
    {
     "name": "stdout",
     "output_type": "stream",
     "text": [
      "Inventory created at 2023-10-05T22:05:37.583300Z\n",
      "\tCreated by: IRIS WEB SERVICE: fdsnws-station | version: 1.1.52\n",
      "\t\t    http://service.iris.edu/fdsnws/station/1/query?starttime=2017-05-...\n",
      "\tSending institution: IRIS-DMC (IRIS-DMC)\n",
      "\tContains:\n",
      "\t\tNetworks (4):\n",
      "\t\t\tGS, NP, SY, UW\n",
      "\t\tStations (48):\n",
      "\t\t\tGS.BAL (Seattle urban array)\n",
      "\t\t\tGS.CIN (Seattle urban array)\n",
      "\t\t\tGS.CTR (Seattle Center)\n",
      "\t\t\tGS.FINI (Seattle urban array)\n",
      "\t\t\tGS.LAU (Seattle urban array)\n",
      "\t\t\tGS.NOB (Seattle urban array)\n",
      "\t\t\tGS.PIE (Seattle urban array)\n",
      "\t\t\tGS.PIO2 (Seattle urban array)\n",
      "\t\t\tGS.SOC3 (Seattle urban array)\n",
      "\t\t\tGS.UNK (Seattle urban array)\n",
      "\t\t\tGS.WE2 (Seattle urban array)\n",
      "\t\t\tNP.7010 (WA:Seattle;Crowne Plaza Hotel)\n",
      "\t\t\tNP.7032 (WA:West Seattle;FS 29)\n",
      "\t\t\tNP.7037 (WA:Seattle;Ship Canal Locks)\n",
      "\t\t\tNP.7050 (WA:Seattle;New Fed Courthouse)\n",
      "\t\t\tNP.7051 (WA:Bremerton;New FS No. 1)\n",
      "\t\t\tSY.GNW (GNW synthetic)\n",
      "\t\t\tUW.ALKI (Alki Wastewater Plant, Seattle, WA, USA)\n",
      "\t\t\tUW.BABE (Bainbridge, WA, USA)\n",
      "\t\t\tUW.GMW (Gold Mountain, WA, USA)\n",
      "\t\t\tUW.GNW (Green Mountain, WA, USA)\n",
      "\t\t\tUW.GTWN (Georgetown Playfield ANSS-SMO)\n",
      "\t\t\tUW.HART (Harbor Island, Seattle, WA, USA)\n",
      "\t\t\tUW.HOLY (Holy Rosary ANSS-SMO)\n",
      "\t\t\tUW.KCAM (King County Airport Maintenance Shop, Seattle, WA, USA)\n",
      "\t\t\tUW.KDK (Kingdome, Seattle, WA, USA)\n",
      "\t\t\tUW.KIMR (Kitsap County HHW Collection Facility, Bremerton, WA, USA)\n",
      "\t\t\tUW.KINR (North Road Shop, Poulsbo, WA, USA)\n",
      "\t\t\tUW.KITP (Kitsap Treatment Plant, WA, USA)\n",
      "\t\t\tUW.LAWT (Lawton, Seattle, WA, USA)\n",
      "\t\t\tUW.MNWA (Manchester, WA)\n",
      "\t\t\tUW.PIER (Pier 30, Seattle, WA)\n",
      "\t\t\tUW.PSNS (Puget Sound Naval Shipyard - ANSS SMO)\n",
      "\t\t\tUW.QADA (NW 61st St., Ballard, Seattle, WA)\n",
      "\t\t\tUW.QCOM (City of Seattle Department of Technology)\n",
      "\t\t\tUW.QDHS (Seattle, WA, USA)\n",
      "\t\t\tUW.QGNG (30th Ave NW, Seattle, WA)\n",
      "\t\t\tUW.QHAN (39th Avenue SW, Seattle, WA)\n",
      "\t\t\tUW.QNWT (Seattle, WA, USA)\n",
      "\t\t\tUW.QOUT (Seattle, WA, USA)\n",
      "\t\t\tUW.QPAL (Seattle, WA, USA)\n",
      "\t\t\tUW.QPRK (Seattle, WA, USA)\n",
      "\t\t\tUW.RAD1 (RAD site 1, Seattle, WA)\n",
      "\t\t\tUW.RAD4 (RAD site 4, Seattle, WA)\n",
      "\t\t\tUW.RAD6 (RAD site 6, Seattle, WA)\n",
      "\t\t\tUW.SLA (Seattle Liquefaction Array)\n",
      "\t\t\tUW.SSS2 (John Stanford Center, Seattle, WA, USA)\n",
      "\t\t\tUW.VVHS (Vashon HS ANSS-SMO)\n",
      "\t\tChannels (201):\n",
      "\t\t\tGS.BAL..HNZ, GS.BAL..HN1, GS.BAL..HN2, GS.CIN..HNZ, GS.CIN..HN1, \n",
      "\t\t\tGS.CIN..HN2, GS.CTR..HNZ, GS.CTR..HN1, GS.CTR..HN2, GS.FINI..HNZ, \n",
      "\t\t\tGS.FINI..HN1, GS.FINI..HN2, GS.LAU..HNZ, GS.LAU..HN1, GS.LAU..HN2, \n",
      "\t\t\tGS.NOB..HNZ, GS.NOB..HN1, GS.NOB..HN2, GS.PIE..HNZ, GS.PIE..HN1, \n",
      "\t\t\tGS.PIE..HN2, GS.PIO2..HNZ, GS.PIO2..HN1, GS.PIO2..HN2, GS.SOC3..HNZ\n",
      "\t\t\tGS.SOC3..HN1, GS.SOC3..HN2, GS.UNK..HNZ, GS.UNK..HN1, GS.UNK..HN2\n",
      "\t\t\tGS.WE2..EHZ, GS.WE2..EH1, GS.WE2..EH2, GS.WE2..HNZ, GS.WE2..HN1, \n",
      "\t\t\tGS.WE2..HN2, NP.7010.1E.HN2, NP.7010.1W.HN2, NP.7010.1W.HN3, \n",
      "\t\t\tNP.7010.3E.HN2, NP.7010.3W.HN2, NP.7010.3W.HN3, NP.7010.B0.HNZ, \n",
      "\t\t\tNP.7010.B0.HN2, NP.7010.B0.HN3, NP.7010.BE.HNZ, NP.7010.BE.HN2, \n",
      "\t\t\tNP.7010.BW.HNZ, NP.7010.GE.HN2, NP.7010.GW.HN2, NP.7010.GW.HN3, \n",
      "\t\t\tNP.7032.0B.HNZ, NP.7032.0B.HNN, NP.7032.0B.HNE, NP.7037.0B.HNZ, \n",
      "\t\t\tNP.7037.0B.HN2, NP.7037.0B.HN3, NP.7050.3E.HN2, NP.7050.3E.HN3, \n",
      "\t\t\tNP.7050.3N.HN3, NP.7050.9E.HN2, NP.7050.9E.HN3, NP.7050.9N.HNE, \n",
      "\t\t\tNP.7050.BE.HNZ, NP.7050.BN.HNZ, NP.7050.BW.HNZ, NP.7050.BW.HN2, \n",
      "\t\t\tNP.7050.BW.HN3, NP.7050.LE.HN2, NP.7050.LE.HN3, NP.7050.LN.HN3, \n",
      "\t\t\tNP.7050.LS.HN3, NP.7050.RE.HN2, NP.7050.RE.HN3, NP.7050.RN.HN3, \n",
      "\t\t\tNP.7051..HNZ, NP.7051..HNN, NP.7051..HNE, SY.GNW.S1.LXZ, \n",
      "\t\t\tSY.GNW.S1.LXN, SY.GNW.S1.LXE, SY.GNW.S3.MXZ, SY.GNW.S3.MXN, \n",
      "\t\t\tSY.GNW.S3.MXE, UW.ALKI..HNZ, UW.ALKI..HNN, UW.ALKI..HNE, \n",
      "\t\t\tUW.BABE..ENZ, UW.BABE..ENN, UW.BABE..ENE, UW.GMW..EHZ, UW.GMW..ENZ\n",
      "\t\t\tUW.GMW..ENN, UW.GMW..ENE, UW.GNW..BHZ, UW.GNW..BHN, UW.GNW..BHE, \n",
      "\t\t\tUW.GNW..ENZ, UW.GNW..ENN, UW.GNW..ENE, UW.GTWN..ENZ, UW.GTWN..ENN, \n",
      "\t\t\tUW.GTWN..ENE, UW.HART..ENZ, UW.HART..ENN, UW.HART..ENE, \n",
      "\t\t\tUW.HOLY..ENZ, UW.HOLY..ENN, UW.HOLY..ENE, UW.KCAM..ENZ, \n",
      "\t\t\tUW.KCAM..ENN, UW.KCAM..ENE, UW.KDK..ENZ, UW.KDK..ENN, UW.KDK..ENE, \n",
      "\t\t\tUW.KIMR..ENZ, UW.KIMR..ENN, UW.KIMR..ENE, UW.KINR..ENZ, \n",
      "\t\t\tUW.KINR..ENN, UW.KINR..ENE, UW.KITP..ENZ, UW.KITP..ENN, \n",
      "\t\t\tUW.KITP..ENE, UW.LAWT..ENZ, UW.LAWT..ENN, UW.LAWT..ENE, \n",
      "\t\t\tUW.MNWA..ENZ, UW.MNWA..ENN, UW.MNWA..ENE, UW.PIER..HNZ, \n",
      "\t\t\tUW.PIER..HNN, UW.PIER..HNE, UW.PSNS..ENZ, UW.PSNS..ENN, \n",
      "\t\t\tUW.PSNS..ENE, UW.QADA..HNZ, UW.QADA..HNN, UW.QADA..HNE, \n",
      "\t\t\tUW.QADA.01.HNZ, UW.QADA.01.HNN, UW.QADA.01.HNE, UW.QCOM.01.HNZ, \n",
      "\t\t\tUW.QCOM.01.HNN, UW.QCOM.01.HNE, UW.QDHS.01.HNZ, UW.QDHS.01.HNN, \n",
      "\t\t\tUW.QDHS.01.HNE, UW.QGNG.01.HNZ, UW.QGNG.01.HNN, UW.QGNG.01.HNE, \n",
      "\t\t\tUW.QHAN.01.HNZ, UW.QHAN.01.HNN, UW.QHAN.01.HNE, UW.QNWT.01.HNZ, \n",
      "\t\t\tUW.QNWT.01.HNN, UW.QNWT.01.HNE, UW.QOUT.01.HNZ, UW.QOUT.01.HNN, \n",
      "\t\t\tUW.QOUT.01.HNE, UW.QPAL.01.HNZ, UW.QPAL.01.HNN, UW.QPAL.01.HNE, \n",
      "\t\t\tUW.QPRK.01.HNZ, UW.QPRK.01.HNN, UW.QPRK.01.HNE, UW.RAD1..HHZ, \n",
      "\t\t\tUW.RAD1..HHN, UW.RAD1..HHE, UW.RAD4..HHZ, UW.RAD4..HHN, \n",
      "\t\t\tUW.RAD4..HHE, UW.RAD6..HHZ, UW.RAD6..HHN, UW.RAD6..HHE, \n",
      "\t\t\tUW.SLA.00.HNZ, UW.SLA.00.HN1, UW.SLA.00.HN2, UW.SLA.01.HNZ, \n",
      "\t\t\tUW.SLA.01.HNN, UW.SLA.01.HNE, UW.SLA.02.HNZ, UW.SLA.02.HNN, \n",
      "\t\t\tUW.SLA.02.HNE, UW.SLA.03.HNZ, UW.SLA.03.HNN, UW.SLA.03.HNE, \n",
      "\t\t\tUW.SLA.60.HDO, UW.SLA.61.HDD, UW.SLA.62.HDD, UW.SLA.63.HDD, \n",
      "\t\t\tUW.SLA.64.HDD, UW.SLA.65.HDD, UW.SLA.66.HDD, UW.SSS2..ENZ, \n",
      "\t\t\tUW.SSS2..ENN, UW.SSS2..ENE, UW.VVHS..EHZ, UW.VVHS..ENZ, \n",
      "\t\t\tUW.VVHS..ENN, UW.VVHS..ENE\n"
     ]
    }
   ],
   "source": [
    "# Display Sensor Network\n",
    "print(inv)"
   ]
  },
  {
   "cell_type": "code",
   "execution_count": 51,
   "metadata": {},
   "outputs": [],
   "source": [
    "# Download catalog\n",
    "cat = client.get_events(**e_kwargs)"
   ]
  },
  {
   "cell_type": "code",
   "execution_count": 53,
   "metadata": {},
   "outputs": [
    {
     "data": {
      "text/plain": [
       "19 Event(s) in Catalog:\n",
       "2017-05-12T02:02:56.860000Z | +47.607, -122.543 | 1.04 Ml\n",
       "2017-05-11T22:05:13.400000Z | +47.605, -122.549 | 1.58 Ml\n",
       "...\n",
       "2017-05-11T01:49:33.960000Z | +47.607, -122.544 | 0.31 Md\n",
       "2017-05-11T00:41:03.700000Z | +47.598, -122.546 | 0.98 Ml\n",
       "To see all events call 'print(CatalogObject.__str__(print_all=True))'"
      ]
     },
     "execution_count": 53,
     "metadata": {},
     "output_type": "execute_result"
    }
   ],
   "source": [
    "cat"
   ]
  },
  {
   "cell_type": "code",
   "execution_count": null,
   "metadata": {},
   "outputs": [],
   "source": [
    "# Load PNSN catalog data from custom queries for Bremerton-Adjacent Swarm (BRM)\n",
    "df_BRM_full = pd.read_csv(os.path.join('data','2017-05-10_BRM','pnsn_event_catalog_2017_BRM_cluster.csv'),\\\n",
    "                          parse_dates=['Time UTC'],index_col='Time UTC')\n",
    "# Sort by index\n",
    "df_BRM_full = df_BRM_full.sort_index()\n",
    "\n",
    "print(df_BRM_full)"
   ]
  },
  {
   "cell_type": "code",
   "execution_count": null,
   "metadata": {},
   "outputs": [],
   "source": [
    "# Plot the catalog\n",
    "fig = plt.figure(figsize=(10,10))\n",
    "axa = fig.add_subplot(211)\n",
    "axa.plot(df_BRM_full['Magnitude'],'.')\n",
    "axa.set_xlabel('UTC Date Time')\n",
    "axa.set_ylabel('Magnitude (mixed methods)')\n",
    "axb = axa.twinx()\n",
    "axb.plot(df_BRM_full['Magnitude'].cumsum(),'r-',alpha=0.5)\n",
    "axb.set_ylabel('Cumulative magnitude',labelpad=15)\n",
    "\n",
    "# Define window to assess\n",
    "TS = pd.Timestamp(\"2017-05-11\")\n",
    "TE = pd.Timestamp(\"2017-05-13T00:00:00\")\n",
    "\n",
    "axa.fill_between([TS,TE],[axa.get_ylim()[0]]*2,[axa.get_ylim()[1]]*2,color='yellow')\n",
    "\n",
    "\n",
    "axc = fig.add_subplot(212)\n",
    "IND = (df_BRM_full.index >= TS) & (df_BRM_full.index <= TE)\n",
    "axc.plot(df_BRM_full[IND]['Magnitude'],'.')\n",
    "axd = axc.twinx()\n",
    "axd.plot((10**df_BRM_full[IND]['Magnitude']).cumsum(),'r-',alpha=0.5)\n",
    "\n",
    "# axc = fig.add_subplot(223)\n",
    "# ch = axc.scatter(df_BRM_full['Lon'],df_BRM_full['Lat'],s = 5**df_BRM_full['Magnitude'],c=df_BRM_full.index)\n",
    "# plt.colorbar(ax=axc,cax=ch)"
   ]
  },
  {
   "cell_type": "markdown",
   "metadata": {},
   "source": [
    "### Data selection\n",
    "Use the following fields to define an event and station query kwargs for use with the `obspy`\n",
    " - **starttime**: [obspy.UTCDateTime] Start time of query in UTC\n",
    " - **endtime**:      [obspy.UTCDateTime] End time of query in UTC\n",
    "- **latitude**:     [float] centroid latitude for queries in *degrees North*\n",
    " - **longitude**:    [float] centroid longitude for queries in *degrees East*\n",
    " - **minradius**: [float] minimum radius for query in *meters*\n",
    " - **Sradius**: [float] radius for Station query in *meters*"
   ]
  },
  {
   "cell_type": "code",
   "execution_count": null,
   "metadata": {},
   "outputs": [],
   "source": []
  },
  {
   "cell_type": "code",
   "execution_count": null,
   "metadata": {},
   "outputs": [],
   "source": [
    "# Use IRIS webservices / FDSN to query station, event, and waveform data \n"
   ]
  }
 ],
 "metadata": {
  "kernelspec": {
   "display_name": "Python 3",
   "language": "python",
   "name": "python3"
  },
  "language_info": {
   "codemirror_mode": {
    "name": "ipython",
    "version": 3
   },
   "file_extension": ".py",
   "mimetype": "text/x-python",
   "name": "python",
   "nbconvert_exporter": "python",
   "pygments_lexer": "ipython3",
   "version": "3.11.5"
  },
  "orig_nbformat": 4
 },
 "nbformat": 4,
 "nbformat_minor": 2
}
