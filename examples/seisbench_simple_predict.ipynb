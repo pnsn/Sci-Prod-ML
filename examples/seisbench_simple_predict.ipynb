{
 "cells": [
  {
   "cell_type": "markdown",
   "metadata": {},
   "source": [
    "# SeisBench Simple Prediction (Detection/Picking) Examples \n",
    "This notebook provides a worked example of using pre-trained ML models in SeisBench using data from two earthquake swarms within the PNSN network:\n",
    "1. the August 23-24 2013 earthquake swarm near Mount St. Helens\n",
    "2. the May 2017 earthquake swarm near Bremerton  \n",
    "        - **Note** this example uses just 2 days of the swarm: May 10-11 2017\n",
    "\n",
    "#### Attribution\n",
    "- Code structure based on discussions with Yiyu Ni (University of Washington)  \n",
    "- \"Peppy seismic swarm 20 km NW of Mount St. Helens\" blog post by John Vidale on August 24, 2013  \n",
    "https://pnsn.org/blog/2013/08/24/peppy-seismic-swarm-20-km-nw-of-mount-st-helens\n",
    "- \"Earthquake swarm NE of Bremerton\" blog post by Renate Hartog on May 11, 2017 \n",
    "https://www.pnsn.org/blog/2017/05/11/earthquake-swarm-ne-of-bremerton"
   ]
  },
  {
   "cell_type": "code",
   "execution_count": 1,
   "metadata": {},
   "outputs": [],
   "source": [
    "# Import dependencies\n",
    "from seisbench.models import EQTransformer\n",
    "from obspy import UTCDateTime\n",
    "import torch"
   ]
  },
  {
   "cell_type": "markdown",
   "metadata": {},
   "source": [
    "### Data selection\n",
    "Use the following fields to define an event and station query\n",
    " - **TS**: [obspy.UTCDateTime] Start time of query in UTC\n",
    " - **TE**:      [obspy.UTCDateTime] End time of query in UTC\n",
    "- **lat0**:     [float] centroid latitude for queries in *degrees North*\n",
    " - **lon0**:    [float] centroid longitude for queries in *degrees East*\n",
    " - **Eradius**: [float] radius for Earthquake query in *meters*\n",
    " - **Sradius**: [float] radius for Station query in *meters*"
   ]
  },
  {
   "cell_type": "code",
   "execution_count": null,
   "metadata": {},
   "outputs": [],
   "source": [
    "# Define fields for query\n",
    "fields = ('TS','TE','lat0','lon0','Eradius','Sradius')\n",
    "# Define data selection kwargs \n",
    "dict_BRM = dict(zip(fields,[UTCDateTime(\"2017-05-10T00:00:00\"),\\\n",
    "                            UTCDateTime(\"2017-05-11T23:59:59\"),\\\n",
    "                            47.5828,-122.57841,\\\n",
    "                            8e3,50e3]))\n",
    "\n",
    "# dict_MSH = dict(zip(fields,[]))\n",
    "\n",
    "\n"
   ]
  },
  {
   "cell_type": "code",
   "execution_count": null,
   "metadata": {},
   "outputs": [],
   "source": [
    "# Use IRIS webservices / FDSN to query station, event, and waveform data \n"
   ]
  }
 ],
 "metadata": {
  "kernelspec": {
   "display_name": "Python 3",
   "language": "python",
   "name": "python3"
  },
  "language_info": {
   "codemirror_mode": {
    "name": "ipython",
    "version": 3
   },
   "file_extension": ".py",
   "mimetype": "text/x-python",
   "name": "python",
   "nbconvert_exporter": "python",
   "pygments_lexer": "ipython3",
   "version": "3.11.5"
  },
  "orig_nbformat": 4
 },
 "nbformat": 4,
 "nbformat_minor": 2
}
