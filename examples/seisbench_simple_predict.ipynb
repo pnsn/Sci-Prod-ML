{
 "cells": [
  {
   "cell_type": "markdown",
   "metadata": {},
   "source": [
    "### SeisBench Simple Prediction Examples \n",
    "This notebook provides a worked example of using pre-trained ML models in SeisBench "
   ]
  }
 ],
 "metadata": {
  "kernelspec": {
   "display_name": "Python 3",
   "language": "python",
   "name": "python3"
  },
  "language_info": {
   "name": "python",
   "version": "3.11.5"
  },
  "orig_nbformat": 4
 },
 "nbformat": 4,
 "nbformat_minor": 2
}
