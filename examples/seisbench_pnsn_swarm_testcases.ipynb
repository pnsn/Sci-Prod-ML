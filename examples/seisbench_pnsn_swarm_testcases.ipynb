{
 "cells": [
  {
   "cell_type": "markdown",
   "metadata": {},
   "source": [
    "# SeisBench Testcase Prediction (Detection/Picking) On Earthquake Swarms in the PNSN Network\n",
    "This notebook provides a worked example of using pre-trained ML models in SeisBench using data from two earthquake swarms within the PNSN network:\n",
    "1. the May 2017 earthquake swarm near Bremerton  \n",
    "        - **Note** this example uses just 2 days of the swarm: May 10-11, 2017. Catalog searches show the swarm can broadly be defined between May 8 - July \n",
    "2. the August 23-24, 2013 earthquake swarm near Mount St. Helens\n",
    "\n",
    "#### Attribution\n",
    "- Code structure based on discussions with Yiyu Ni (University of Washington)  \n",
    "- \"Peppy seismic swarm 20 km NW of Mount St. Helens\" blog post by John Vidale on August 24, 2013  \n",
    "https://pnsn.org/blog/2013/08/24/peppy-seismic-swarm-20-km-nw-of-mount-st-helens\n",
    "- \"Earthquake swarm NE of Bremerton\" blog post by Renate Hartog on May 11, 2017  \n",
    "https://www.pnsn.org/blog/2017/05/11/earthquake-swarm-ne-of-bremerton"
   ]
  },
  {
   "cell_type": "code",
   "execution_count": 7,
   "metadata": {},
   "outputs": [],
   "source": [
    "# Import dependencies\n",
    "from seisbench.models import EQTransformer, PhaseNet\n",
    "from obspy import UTCDateTime\n",
    "import torch\n",
    "import pandas as pd\n",
    "import matplotlib.pyplot as plt\n",
    "import os\n",
    "%matplotlib\n",
    "\n"
   ]
  },
  {
   "cell_type": "code",
   "execution_count": 18,
   "metadata": {},
   "outputs": [
    {
     "name": "stdout",
     "output_type": "stream",
     "text": [
      "                         Evid  Magnitude Magnitude Type    Epoch(UTC)  \\\n",
      "Time UTC                                                                \n",
      "2017-01-25 14:03:20  61230427        0.9              l  1.485353e+09   \n",
      "2017-01-25 14:03:57  60132008        0.2              d  1.485353e+09   \n",
      "2017-01-25 17:03:40  61230447        1.0              l  1.485364e+09   \n",
      "2017-03-15 17:57:25  61257761        1.2              l  1.489601e+09   \n",
      "2017-05-03 19:20:36  61277931        3.3              l  1.493839e+09   \n",
      "...                       ...        ...            ...           ...   \n",
      "2018-04-06 14:40:31  61377731        1.6              l  1.523026e+09   \n",
      "2018-04-10 14:36:39  61378401        0.5              d  1.523371e+09   \n",
      "2018-04-24 05:00:49  61365397        0.9              l  1.524546e+09   \n",
      "2018-05-06 19:21:33  61370492        1.0              l  1.525634e+09   \n",
      "2018-05-08 15:27:01  61371382        1.5              l  1.525793e+09   \n",
      "\n",
      "                                  Time Local               Distance From  \\\n",
      "Time UTC                                                                   \n",
      "2017-01-25 14:03:20  2017/01/25 06:03:20 PST   4.3 km from Bremerton, WA   \n",
      "2017-01-25 14:03:57  2017/01/25 06:03:57 PST  10.1 km from Bremerton, WA   \n",
      "2017-01-25 17:03:40  2017/01/25 09:03:40 PST   3.2 km from Bremerton, WA   \n",
      "2017-03-15 17:57:25  2017/03/15 10:57:25 PDT  11.5 km from Bremerton, WA   \n",
      "2017-05-03 19:20:36  2017/05/03 12:20:36 PDT   2.9 km from Bremerton, WA   \n",
      "...                                      ...                         ...   \n",
      "2018-04-06 14:40:31  2018/04/06 07:40:31 PDT   2.1 km from Bremerton, WA   \n",
      "2018-04-10 14:36:39  2018/04/10 07:36:39 PDT   6.8 km from Bremerton, WA   \n",
      "2018-04-24 05:00:49  2018/04/23 22:00:49 PDT   3.2 km from Bremerton, WA   \n",
      "2018-05-06 19:21:33  2018/05/06 12:21:33 PDT   7.7 km from Bremerton, WA   \n",
      "2018-05-08 15:27:01  2018/05/08 08:27:01 PDT   6.3 km from Bremerton, WA   \n",
      "\n",
      "                         Lat       Lon  Depth Km  Depth Mi  \n",
      "Time UTC                                                    \n",
      "2017-01-25 14:03:20  47.5277 -122.6317      22.7      14.0  \n",
      "2017-01-25 14:03:57  47.5715 -122.4955       8.3       5.2  \n",
      "2017-01-25 17:03:40  47.5413 -122.6488      21.2      13.1  \n",
      "2017-03-15 17:57:25  47.6303 -122.5095       6.1       3.8  \n",
      "2017-05-03 19:20:36  47.5733 -122.5932      25.7      15.9  \n",
      "...                      ...       ...       ...       ...  \n",
      "2018-04-06 14:40:31  47.5832 -122.6153      24.6      15.2  \n",
      "2018-04-10 14:36:39  47.5828 -122.5435      22.1      13.7  \n",
      "2018-04-24 05:00:49  47.5922 -122.6095      22.7      14.1  \n",
      "2018-05-06 19:21:33  47.5993 -122.5397      18.8      11.6  \n",
      "2018-05-08 15:27:01  47.5900 -122.5530      18.9      11.7  \n",
      "\n",
      "[159 rows x 10 columns]\n"
     ]
    }
   ],
   "source": [
    "# Load PNSN catalog data from custom queries for Bremerton-Adjacent Swarm (BRM)\n",
    "df_BRM_full = pd.read_csv(os.path.join('data','2017-05-10_BRM','pnsn_event_catalog_2017_BRM_cluster.csv'),\\\n",
    "                          parse_dates=['Time UTC'],index_col='Time UTC')\n",
    "# Sort by index\n",
    "df_BRM_full = df_BRM_full.sort_index()\n",
    "\n",
    "print(df_BRM_full)"
   ]
  },
  {
   "cell_type": "code",
   "execution_count": 31,
   "metadata": {},
   "outputs": [
    {
     "name": "stdout",
     "output_type": "stream",
     "text": [
      "Using matplotlib backend: <object object at 0x13518a880>\n"
     ]
    },
    {
     "ename": "RuntimeError",
     "evalue": "No mappable was found to use for colorbar creation. First define a mappable such as an image (with imshow) or a contour set (with contourf).",
     "output_type": "error",
     "traceback": [
      "\u001b[0;31m---------------------------------------------------------------------------\u001b[0m",
      "\u001b[0;31mRuntimeError\u001b[0m                              Traceback (most recent call last)",
      "\u001b[1;32m/Users/nates/Code/PNSN/Sci-Prod-ML/examples/seisbench_simple_predict.ipynb Cell 4\u001b[0m line \u001b[0;36m1\n\u001b[1;32m     <a href='vscode-notebook-cell:/Users/nates/Code/PNSN/Sci-Prod-ML/examples/seisbench_simple_predict.ipynb#W6sZmlsZQ%3D%3D?line=11'>12</a>\u001b[0m axc \u001b[39m=\u001b[39m fig\u001b[39m.\u001b[39madd_subplot(\u001b[39m223\u001b[39m)\n\u001b[1;32m     <a href='vscode-notebook-cell:/Users/nates/Code/PNSN/Sci-Prod-ML/examples/seisbench_simple_predict.ipynb#W6sZmlsZQ%3D%3D?line=12'>13</a>\u001b[0m ch \u001b[39m=\u001b[39m axc\u001b[39m.\u001b[39mscatter(df_BRM_full[\u001b[39m'\u001b[39m\u001b[39mLon\u001b[39m\u001b[39m'\u001b[39m],df_BRM_full[\u001b[39m'\u001b[39m\u001b[39mLat\u001b[39m\u001b[39m'\u001b[39m],s \u001b[39m=\u001b[39m \u001b[39m5\u001b[39m\u001b[39m*\u001b[39m\u001b[39m*\u001b[39mdf_BRM_full[\u001b[39m'\u001b[39m\u001b[39mMagnitude\u001b[39m\u001b[39m'\u001b[39m],c\u001b[39m=\u001b[39mdf_BRM_full\u001b[39m.\u001b[39mindex)\n\u001b[0;32m---> <a href='vscode-notebook-cell:/Users/nates/Code/PNSN/Sci-Prod-ML/examples/seisbench_simple_predict.ipynb#W6sZmlsZQ%3D%3D?line=13'>14</a>\u001b[0m plt\u001b[39m.\u001b[39;49mcolorbar(ax\u001b[39m=\u001b[39;49maxc,cax\u001b[39m=\u001b[39;49mch)\n",
      "File \u001b[0;32m~/miniconda3/envs/seisbench/lib/python3.11/site-packages/matplotlib/pyplot.py:2322\u001b[0m, in \u001b[0;36mcolorbar\u001b[0;34m(mappable, cax, ax, **kwargs)\u001b[0m\n\u001b[1;32m   2320\u001b[0m     mappable \u001b[39m=\u001b[39m gci()\n\u001b[1;32m   2321\u001b[0m     \u001b[39mif\u001b[39;00m mappable \u001b[39mis\u001b[39;00m \u001b[39mNone\u001b[39;00m:\n\u001b[0;32m-> 2322\u001b[0m         \u001b[39mraise\u001b[39;00m \u001b[39mRuntimeError\u001b[39;00m(\u001b[39m'\u001b[39m\u001b[39mNo mappable was found to use for colorbar \u001b[39m\u001b[39m'\u001b[39m\n\u001b[1;32m   2323\u001b[0m                            \u001b[39m'\u001b[39m\u001b[39mcreation. First define a mappable such as \u001b[39m\u001b[39m'\u001b[39m\n\u001b[1;32m   2324\u001b[0m                            \u001b[39m'\u001b[39m\u001b[39man image (with imshow) or a contour set (\u001b[39m\u001b[39m'\u001b[39m\n\u001b[1;32m   2325\u001b[0m                            \u001b[39m'\u001b[39m\u001b[39mwith contourf).\u001b[39m\u001b[39m'\u001b[39m)\n\u001b[1;32m   2326\u001b[0m ret \u001b[39m=\u001b[39m gcf()\u001b[39m.\u001b[39mcolorbar(mappable, cax\u001b[39m=\u001b[39mcax, ax\u001b[39m=\u001b[39max, \u001b[39m*\u001b[39m\u001b[39m*\u001b[39mkwargs)\n\u001b[1;32m   2327\u001b[0m \u001b[39mreturn\u001b[39;00m ret\n",
      "\u001b[0;31mRuntimeError\u001b[0m: No mappable was found to use for colorbar creation. First define a mappable such as an image (with imshow) or a contour set (with contourf)."
     ]
    }
   ],
   "source": [
    "# Plot the catalog\n",
    "fig = plt.figure(figsize=(10,10))\n",
    "axa = fig.add_subplot(211)\n",
    "axa.plot(df_BRM_full['Magnitude'],'.')\n",
    "axa.set_xlabel('UTC Date Time')\n",
    "axa.set_ylabel('Magnitude (mixed methods)')\n",
    "axb = axa.twinx()\n",
    "axb.plot(df_BRM_full['Magnitude'].cumsum(),'r-',alpha=0.5)\n",
    "axb.set_ylabel('Cumulative magnitude',labelpad=15)\n",
    "\n",
    "axc = fig.add_subplot(223)\n",
    "ch = axc.scatter(df_BRM_full['Lon'],df_BRM_full['Lat'],s = 5**df_BRM_full['Magnitude'],c=df_BRM_full.index)\n",
    "# plt.colorbar(ax=axc,cax=ch)"
   ]
  },
  {
   "cell_type": "markdown",
   "metadata": {},
   "source": [
    "### Data selection\n",
    "Use the following fields to define an event and station query\n",
    " - **TS**: [obspy.UTCDateTime] Start time of query in UTC\n",
    " - **TE**:      [obspy.UTCDateTime] End time of query in UTC\n",
    "- **lat0**:     [float] centroid latitude for queries in *degrees North*\n",
    " - **lon0**:    [float] centroid longitude for queries in *degrees East*\n",
    " - **Eradius**: [float] radius for Earthquake query in *meters*\n",
    " - **Sradius**: [float] radius for Station query in *meters*"
   ]
  },
  {
   "cell_type": "code",
   "execution_count": 4,
   "metadata": {},
   "outputs": [
    {
     "name": "stdout",
     "output_type": "stream",
     "text": [
      "Selected query parameters\n",
      "{'TS': UTCDateTime(2017, 5, 10, 0, 0), 'TE': UTCDateTime(2017, 5, 11, 23, 59, 59), 'lat0': 47.5828, 'lon0': -122.57841, 'Eradius': 8000.0, 'Sradius': 50000.0}\n"
     ]
    }
   ],
   "source": [
    "# Define fields for query\n",
    "fields = ('TS','TE','lat0','lon0','Eradius','Sradius')\n",
    "# Define data selection kwargs \n",
    "dict_BRM = dict(zip(fields,[UTCDateTime(\"2017-05-10T00:00:00\"),\\\n",
    "                            UTCDateTime(\"2017-05-11T23:59:59\"),\\\n",
    "                            47.5828,-122.57841,\\\n",
    "                            7500.,50e3]))\n",
    "\n",
    "# dict_MSH = dict(zip(fields,[]))\n",
    "\n",
    "# Set desired query key-word arguments for subsequent blocks\n",
    "q_kwargs = dict_BRM\n",
    "# Display parameters\n",
    "print('Selected query parameters')\n",
    "print(q_kwargs)\n"
   ]
  },
  {
   "cell_type": "code",
   "execution_count": null,
   "metadata": {},
   "outputs": [],
   "source": [
    "# Use IRIS webservices / FDSN to query station, event, and waveform data \n"
   ]
  }
 ],
 "metadata": {
  "kernelspec": {
   "display_name": "Python 3",
   "language": "python",
   "name": "python3"
  },
  "language_info": {
   "codemirror_mode": {
    "name": "ipython",
    "version": 3
   },
   "file_extension": ".py",
   "mimetype": "text/x-python",
   "name": "python",
   "nbconvert_exporter": "python",
   "pygments_lexer": "ipython3",
   "version": "3.11.5"
  },
  "orig_nbformat": 4
 },
 "nbformat": 4,
 "nbformat_minor": 2
}
