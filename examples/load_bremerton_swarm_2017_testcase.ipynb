{
 "cells": [
  {
   "cell_type": "markdown",
   "metadata": {},
   "source": [
    "# Testcase Data Retrieval for Earthquake Swarms in the PNSN Network\n",
    "This notebook provides a worked example of data retrieval for the following earthquake swarm within the PNSN network:  \n",
    "The May 2017 earthquake swarm near Bremerton  \n",
    "        - **Note** this example uses just 2 days of the swarm: May 10-11, 2017.  \n",
    "        - Catalog searches show the swarm can broadly be defined between May 8 and November 2017  \n",
    "        - ...potentially longer - a declustering analysis would better define this.  \n",
    "![Event map of earthquakes in the seismic swarm near Bremerton, WA](data/2017-05-10_BRM/image.png)  \n",
    "\n",
    "\n",
    "- \"Earthquake swarm NE of Bremerton\" blog post by Renate Hartog on May 11, 2017  \n",
    "https://www.pnsn.org/blog/2017/05/11/earthquake-swarm-ne-of-bremerton\n",
    "\n",
    "\n",
    "### Script Author\n",
    "Nathan Stevens: ntsteven@uw.edu"
   ]
  },
  {
   "cell_type": "code",
   "execution_count": 10,
   "metadata": {},
   "outputs": [],
   "source": [
    "# Import dependencies\n",
    "from obspy import UTCDateTime\n",
    "from obspy.clients.fdsn import Client\n",
    "import pandas as pd\n",
    "import matplotlib.pyplot as plt\n",
    "import os\n",
    "\n",
    "\n",
    "# Define small helper function - I know it's somewhere in ObsPy, but this was easier than hunting it down...\n",
    "def m2deg(x):\n",
    "    \"\"\"\n",
    "    Convert distance `x` from meters to great-circle degrees on Earth\n",
    "    \"\"\"\n",
    "    return x/111139."
   ]
  },
  {
   "cell_type": "code",
   "execution_count": 11,
   "metadata": {},
   "outputs": [],
   "source": [
    "# Initialize Client\n",
    "client = Client('IRIS')"
   ]
  },
  {
   "cell_type": "markdown",
   "metadata": {},
   "source": [
    "### Data selection\n",
    "Use the following fields to define an event and station query kwargs for use with the `obspy`\n",
    " - **starttime**: [obspy.UTCDateTime] Start time of query in UTC\n",
    " - **endtime**:      [obspy.UTCDateTime] End time of query in UTC\n",
    " - **latitude**:     [float] centroid latitude for queries in *degrees North*\n",
    " - **longitude**:    [float] centroid longitude for queries in *degrees East*\n",
    " - **maxradius**: [float] maximum radius for query in *degrees*"
   ]
  },
  {
   "cell_type": "code",
   "execution_count": 16,
   "metadata": {},
   "outputs": [],
   "source": [
    "# Define fields for query\n",
    "fields = ('starttime','endtime','latitude','longitude','maxradius')\n",
    "TSstr = \"2017-05-11T00:00:00\"\n",
    "TEstr = \"2017-05-12T23:59:59\"\n",
    "# Define data selection kwargs for events from IRIS catalog\n",
    "qevent_kwargs = dict(zip(fields,[UTCDateTime(TSstr),\\\n",
    "                                UTCDateTime(TEstr),\\\n",
    "                                47.5828,-122.57841,m2deg(7.5e3)]))\n",
    "# Define data selection kwargs for stations in IRIS catalog\n",
    "qstation_kwargs = dict(zip(fields,[UTCDateTime(TSstr),\\\n",
    "                                   UTCDateTime(TEstr),\\\n",
    "                                47.5828,-122.57841,m2deg(20e3)]))\n",
    "\n",
    "# Limit channels to those coming from broadbands ?H? and accelerometers ?N?\n",
    "CLIST = 'HHZ,HHN,HH1,HHE,HH2,ENZ,EN1,ENN,EN2,ENE,BHZ,BHN,BHZ'"
   ]
  },
  {
   "cell_type": "code",
   "execution_count": 17,
   "metadata": {},
   "outputs": [
    {
     "name": "stdout",
     "output_type": "stream",
     "text": [
      "Inventory created at 2023-10-05T23:38:36.657900Z\n",
      "\tCreated by: IRIS WEB SERVICE: fdsnws-station | version: 1.1.52\n",
      "\t\t    http://service.iris.edu/fdsnws/station/1/query?starttime=2017-05-...\n",
      "\tSending institution: IRIS-DMC (IRIS-DMC)\n",
      "\tContains:\n",
      "\t\tNetworks (1):\n",
      "\t\t\tUW\n",
      "\t\tStations (22):\n",
      "\t\t\tUW.BABE (Bainbridge, WA, USA)\n",
      "\t\t\tUW.BES3 (Bremerton Swarm Portable 3, WA, USA)\n",
      "\t\t\tUW.BES4 (Bremerton Swarm Portable 4, WA, USA)\n",
      "\t\t\tUW.BES5 (Bremerton Swarm Portable 5, WA, USA)\n",
      "\t\t\tUW.GMW (Gold Mountain, WA, USA)\n",
      "\t\t\tUW.GNW (Green Mountain, WA, USA)\n",
      "\t\t\tUW.GTWN (Georgetown Playfield ANSS-SMO)\n",
      "\t\t\tUW.HART (Harbor Island, Seattle, WA, USA)\n",
      "\t\t\tUW.HOLY (Holy Rosary ANSS-SMO)\n",
      "\t\t\tUW.KCAM (King County Airport Maintenance Shop, Seattle, WA, USA)\n",
      "\t\t\tUW.KDK (Kingdome, Seattle, WA, USA)\n",
      "\t\t\tUW.KIMR (Kitsap County HHW Collection Facility, Bremerton, WA, USA)\n",
      "\t\t\tUW.KINR (North Road Shop, Poulsbo, WA, USA)\n",
      "\t\t\tUW.KITP (Kitsap Treatment Plant, WA, USA)\n",
      "\t\t\tUW.LAWT (Lawton, Seattle, WA, USA)\n",
      "\t\t\tUW.MNWA (Manchester, WA)\n",
      "\t\t\tUW.PSNS (Puget Sound Naval Shipyard - ANSS SMO)\n",
      "\t\t\tUW.RAD1 (RAD site 1, Seattle, WA)\n",
      "\t\t\tUW.RAD4 (RAD site 4, Seattle, WA)\n",
      "\t\t\tUW.RAD6 (RAD site 6, Seattle, WA)\n",
      "\t\t\tUW.SSS2 (John Stanford Center, Seattle, WA, USA)\n",
      "\t\t\tUW.VVHS (Vashon HS ANSS-SMO)\n",
      "\t\tChannels (77):\n",
      "\t\t\tUW.BABE..ENZ, UW.BABE..ENN, UW.BABE..ENE, UW.BES3..ENZ, \n",
      "\t\t\tUW.BES3..ENN, UW.BES3..ENE, UW.BES3..HHZ, UW.BES3..HHN, \n",
      "\t\t\tUW.BES3..HHE, UW.BES4..ENZ, UW.BES4..ENN, UW.BES4..ENE, \n",
      "\t\t\tUW.BES4..HHZ, UW.BES4..HHN, UW.BES4..HHE, UW.BES5..ENZ, \n",
      "\t\t\tUW.BES5..ENN, UW.BES5..ENE, UW.BES5..HHZ, UW.BES5..HHN, \n",
      "\t\t\tUW.BES5..HHE, UW.GMW..ENZ, UW.GMW..ENN, UW.GMW..ENE, UW.GNW..BHZ, \n",
      "\t\t\tUW.GNW..BHN, UW.GNW..ENZ, UW.GNW..ENN, UW.GNW..ENE, UW.GTWN..ENZ, \n",
      "\t\t\tUW.GTWN..ENN, UW.GTWN..ENE, UW.HART..ENZ, UW.HART..ENN, \n",
      "\t\t\tUW.HART..ENE, UW.HOLY..ENZ, UW.HOLY..ENN, UW.HOLY..ENE, \n",
      "\t\t\tUW.KCAM..ENZ, UW.KCAM..ENN, UW.KCAM..ENE, UW.KDK..ENZ, UW.KDK..ENN\n",
      "\t\t\tUW.KDK..ENE, UW.KIMR..ENZ, UW.KIMR..ENN, UW.KIMR..ENE, \n",
      "\t\t\tUW.KINR..ENZ, UW.KINR..ENN, UW.KINR..ENE, UW.KITP..ENZ, \n",
      "\t\t\tUW.KITP..ENN, UW.KITP..ENE, UW.LAWT..ENZ, UW.LAWT..ENN, \n",
      "\t\t\tUW.LAWT..ENE, UW.MNWA..ENZ, UW.MNWA..ENN, UW.MNWA..ENE, \n",
      "\t\t\tUW.PSNS..ENZ, UW.PSNS..ENN, UW.PSNS..ENE, UW.RAD1..HHZ, \n",
      "\t\t\tUW.RAD1..HHN, UW.RAD1..HHE, UW.RAD4..HHZ, UW.RAD4..HHN, \n",
      "\t\t\tUW.RAD4..HHE, UW.RAD6..HHZ, UW.RAD6..HHN, UW.RAD6..HHE, \n",
      "\t\t\tUW.SSS2..ENZ, UW.SSS2..ENN, UW.SSS2..ENE, UW.VVHS..ENZ, \n",
      "\t\t\tUW.VVHS..ENN, UW.VVHS..ENE\n"
     ]
    }
   ],
   "source": [
    "# Download inventory with specified query down to channel \n",
    "# (ML generally operates on data w/o instrument response correction)\n",
    "inv = client.get_stations(**qstation_kwargs,level='channel',channel=CLIST)#,channel='??[ZNE12]')\n",
    "print(inv)"
   ]
  },
  {
   "cell_type": "code",
   "execution_count": null,
   "metadata": {},
   "outputs": [],
   "source": [
    "# Download catalog from Client\n",
    "cat = client.get_events(**qevent_kwargs)\n",
    "print(cat.__str__(print_all=True))"
   ]
  },
  {
   "cell_type": "code",
   "execution_count": null,
   "metadata": {},
   "outputs": [],
   "source": [
    "# Load PNSN queried catalog data from custom queries for Bremerton-Adjacent Swarm (BRM)\n",
    "df_BRM_full = pd.read_csv(os.path.join('data','2017-05-10_BRM','pnsn_event_catalog_2017_BRM_cluster.csv'),\\\n",
    "                          parse_dates=['Time UTC'],index_col='Time UTC')\n",
    "# Sort by index\n",
    "df_BRM_full = df_BRM_full.sort_index()\n",
    "# Filter by query times\n",
    "# Translate from obspy.UTCDateTime --> pandas.Timestamp\n",
    "pdTS = pd.Timestamp(TSstr)\n",
    "pdTE = pd.Timestamp(TEstr)\n",
    "\n",
    "# Filter to period of interest\n",
    "df_EVE = df_BRM_full[(df_BRM_full.index >= pdTS) & (df_BRM_full.index <= pdTE)]\n",
    "print(len(df_EVE))\n",
    "print(df_EVE)\n"
   ]
  },
  {
   "cell_type": "code",
   "execution_count": null,
   "metadata": {},
   "outputs": [],
   "source": [
    "# Use inventory to pull data for the period of interest and save to disk in 1 hour chunks\n",
    "ts = UTCDateTime(TSstr)\n",
    "te = ts + 3600.\n",
    "save_dir = os.path.join('data','2017-05_BRM')\n",
    "while ts < UTCDateTime(TEstr):\n",
    "    st = client.get_waveforms(starttime=ts,endtime=te)\n",
    "    ts += 3600.\n",
    "    te += 3600.\n"
   ]
  },
  {
   "cell_type": "code",
   "execution_count": null,
   "metadata": {},
   "outputs": [],
   "source": [
    "# Use IRIS webservices / FDSN to query station, event, and waveform data \n"
   ]
  },
  {
   "cell_type": "code",
   "execution_count": null,
   "metadata": {},
   "outputs": [],
   "source": [
    "# # Plot the catalog\n",
    "# fig = plt.figure(figsize=(10,10))\n",
    "# axa = fig.add_subplot(211)\n",
    "# axa.plot(df_BRM_full['Magnitude'],'.')\n",
    "# axa.set_xlabel('UTC Date Time')\n",
    "# axa.set_ylabel('Magnitude (mixed methods)')\n",
    "# axb = axa.twinx()\n",
    "# axb.plot(df_BRM_full['Magnitude'].cumsum(),'r-',alpha=0.5)\n",
    "# axb.set_ylabel('Cumulative magnitude',labelpad=15)\n",
    "\n",
    "# # # Define window to assess\n",
    "# # TS = pd.Timestamp(\"2017-05-11\")\n",
    "# # TE = pd.Timestamp(\"2017-05-13T00:00:00\")\n",
    "\n",
    "# axa.fill_between([TS,TE],[axa.get_ylim()[0]]*2,[axa.get_ylim()[1]]*2,color='yellow')\n",
    "\n",
    "\n",
    "# axc = fig.add_subplot(212)\n",
    "# IND = (df_BRM_full.index >= TS) & (df_BRM_full.index <= TE)\n",
    "# axc.plot(df_BRM_full[IND]['Magnitude'],'.')\n",
    "# axd = axc.twinx()\n",
    "# axd.plot((10**df_BRM_full[IND]['Magnitude']).cumsum(),'r-',alpha=0.5)\n",
    "\n",
    "# # axc = fig.add_subplot(223)\n",
    "# # ch = axc.scatter(df_BRM_full['Lon'],df_BRM_full['Lat'],s = 5**df_BRM_full['Magnitude'],c=df_BRM_full.index)\n",
    "# # plt.colorbar(ax=axc,cax=ch)"
   ]
  }
 ],
 "metadata": {
  "kernelspec": {
   "display_name": "Python 3",
   "language": "python",
   "name": "python3"
  },
  "language_info": {
   "codemirror_mode": {
    "name": "ipython",
    "version": 3
   },
   "file_extension": ".py",
   "mimetype": "text/x-python",
   "name": "python",
   "nbconvert_exporter": "python",
   "pygments_lexer": "ipython3",
   "version": "3.11.5"
  },
  "orig_nbformat": 4
 },
 "nbformat": 4,
 "nbformat_minor": 2
}
