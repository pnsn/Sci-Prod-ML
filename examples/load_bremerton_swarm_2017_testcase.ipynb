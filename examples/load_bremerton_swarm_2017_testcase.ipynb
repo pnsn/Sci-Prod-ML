{
 "cells": [
  {
   "cell_type": "markdown",
   "metadata": {},
   "source": [
    "# Testcase Data Retrieval for Earthquake Swarms in the PNSN Network\n",
    "This notebook provides a worked example of data retrieval for the following earthquake swarm within the PNSN network:  \n",
    "The May 2017 earthquake swarm near Bremerton  \n",
    "        - **Note** this example uses just 2 days of the swarm: May 10-11, 2017.  \n",
    "        - Catalog searches show the swarm can broadly be defined between May 8 and November 2017  \n",
    "        - ...potentially longer - a declustering analysis would better define this.  \n",
    "![Event map of earthquakes in the seismic swarm near Bremerton, WA](data/2017-05_BRM/image.png)  \n",
    "\n",
    "\n",
    "- \"Earthquake swarm NE of Bremerton\" blog post by Renate Hartog on May 11, 2017  \n",
    "https://www.pnsn.org/blog/2017/05/11/earthquake-swarm-ne-of-bremerton\n",
    "\n",
    "\n",
    "### Script Author\n",
    "Nathan Stevens: ntsteven@uw.edu"
   ]
  },
  {
   "cell_type": "code",
   "execution_count": 7,
   "metadata": {},
   "outputs": [],
   "source": [
    "# Import dependencies\n",
    "from obspy import UTCDateTime, Stream\n",
    "from obspy.clients.fdsn import Client\n",
    "from obspy.clients.fdsn.mass_downloader import CircularDomain, Restrictions, MassDownloader\n",
    "import pandas as pd\n",
    "import numpy as np\n",
    "import matplotlib.pyplot as plt\n",
    "import plotly.express as px\n",
    "import os\n",
    "\n",
    "\n",
    "# Define small helper function - I know it's somewhere in ObsPy, but this was easier than hunting it down...\n",
    "m2deg = lambda x:x/111139."
   ]
  },
  {
   "cell_type": "code",
   "execution_count": 8,
   "metadata": {},
   "outputs": [],
   "source": [
    "# Initialize Client\n",
    "client = Client('IRIS')"
   ]
  },
  {
   "cell_type": "markdown",
   "metadata": {},
   "source": [
    "### Data selection\n",
    "Use the following fields to define an event and station query kwargs for use with the `obspy`\n",
    " - **starttime**: [obspy.UTCDateTime] Start time of query in UTC\n",
    " - **endtime**:      [obspy.UTCDateTime] End time of query in UTC\n",
    " - **latitude**:     [float] centroid latitude for queries in *degrees North*\n",
    " - **longitude**:    [float] centroid longitude for queries in *degrees East*\n",
    " - **maxradius**: [float] maximum radius for query in *degrees*"
   ]
  },
  {
   "cell_type": "code",
   "execution_count": 9,
   "metadata": {},
   "outputs": [
    {
     "data": {
      "text/plain": [
       "0.2699322470060015"
      ]
     },
     "execution_count": 9,
     "metadata": {},
     "output_type": "execute_result"
    }
   ],
   "source": [
    "# Define fields for query\n",
    "fields = ('starttime','endtime','latitude','longitude','maxradius')\n",
    "TSstr = \"2017-05-11T00:00:00\"\n",
    "TEstr = \"2017-05-13T00:00:00\"\n",
    "# TEstr = \"2017-05-12T23:59:59\"\n",
    "# Define data selection kwargs for events from IRIS catalog\n",
    "qevent_kwargs = dict(zip(fields,[UTCDateTime(TSstr),\\\n",
    "                                UTCDateTime(TEstr),\\\n",
    "                                47.5828,-122.57841,m2deg(1e4)]))\n",
    "# Define data selection kwargs for stations in IRIS catalog\n",
    "qstation_kwargs = dict(zip(fields,[UTCDateTime(TSstr),\\\n",
    "                                   UTCDateTime(TEstr),\\\n",
    "                                47.5828,-122.57841,m2deg(30e3)]))\n",
    "\n",
    "# Limit channels to those coming from broadbands ?H? and accelerometers ?N?\n",
    "CLIST = 'HHZ,HHN,HH1,HHE,HH2,ENZ,EN1,ENN,EN2,ENE,BHZ,BHN,BHZ,EHZ,EH1,EHN,EH2,EHE'\n",
    "\n",
    "qstation_kwargs['maxradius']"
   ]
  },
  {
   "cell_type": "code",
   "execution_count": 10,
   "metadata": {},
   "outputs": [
    {
     "name": "stdout",
     "output_type": "stream",
     "text": [
      "Network UW (Pacific Northwest Seismic Network (PNSN))\n",
      "\tStation Count: 30/860 (Selected/Total)\n",
      "\t1963-01-01T00:00:00.000000Z - --\n",
      "\tAccess: open\n",
      "\tContains:\n",
      "\t\tStations (30):\n",
      "\t\t\tUW.BABE (Bainbridge, WA, USA)\n",
      "\t\t\tUW.BES3 (Bremerton Swarm Portable 3, WA, USA)\n",
      "\t\t\tUW.BES4 (Bremerton Swarm Portable 4, WA, USA)\n",
      "\t\t\tUW.BES5 (Bremerton Swarm Portable 5, WA, USA)\n",
      "\t\t\tUW.BRKS (Brookside, WA, USA)\n",
      "\t\t\tUW.BSFP (Boeing Fire Protection, WA, USA)\n",
      "\t\t\tUW.GMW (Gold Mountain, WA, USA)\n",
      "\t\t\tUW.GNW (Green Mountain, WA, USA)\n",
      "\t\t\tUW.GTWN (Georgetown Playfield ANSS-SMO)\n",
      "\t\t\tUW.HART (Harbor Island, Seattle, WA, USA)\n",
      "\t\t\tUW.HOLY (Holy Rosary ANSS-SMO)\n",
      "\t\t\tUW.KCAM (King County Airport Maintenance Shop, Seattle, WA, USA)\n",
      "\t\t\tUW.KDK (Kingdome, Seattle, WA, USA)\n",
      "\t\t\tUW.KIMB (Kimball School, Seattle, WA, USA)\n",
      "\t\t\tUW.KIMR (Kitsap County HHW Collection Facility, Bremerton, WA, USA)\n",
      "\t\t\tUW.KINR (North Road Shop, Poulsbo, WA, USA)\n",
      "\t\t\tUW.KITP (Kitsap Treatment Plant, WA, USA)\n",
      "\t\t\tUW.LAWT (Lawton, Seattle, WA, USA)\n",
      "\t\t\tUW.MNWA (Manchester, WA)\n",
      "\t\t\tUW.NOWS (NOAA, Seattle, WA, USA)\n",
      "\t\t\tUW.PSNS (Puget Sound Naval Shipyard - ANSS SMO)\n",
      "\t\t\tUW.RAD1 (RAD site 1, Seattle, WA)\n",
      "\t\t\tUW.RAD4 (RAD site 4, Seattle, WA)\n",
      "\t\t\tUW.RAD6 (RAD site 6, Seattle, WA)\n",
      "\t\t\tUW.SCC (Shoreline CC, Shoreline, WA, USA)\n",
      "\t\t\tUW.SEA (Seattle (Wood Anderson SMO))\n",
      "\t\t\tUW.SP2 (Seward Park, Seattle, WA, USA)\n",
      "\t\t\tUW.SSS2 (John Stanford Center, Seattle, WA, USA)\n",
      "\t\t\tUW.TKCO (King CO EOC, Seattle, WA, USA)\n",
      "\t\t\tUW.VVHS (Vashon HS ANSS-SMO)\n",
      "\t\tChannels (105):\n",
      "\t\t\tUW.BABE..ENZ, UW.BABE..ENN, UW.BABE..ENE, UW.BES3..ENZ, \n",
      "\t\t\tUW.BES3..ENN, UW.BES3..ENE, UW.BES3..HHZ, UW.BES3..HHN, \n",
      "\t\t\tUW.BES3..HHE, UW.BES4..ENZ, UW.BES4..ENN, UW.BES4..ENE, \n",
      "\t\t\tUW.BES4..HHZ, UW.BES4..HHN, UW.BES4..HHE, UW.BES5..ENZ, \n",
      "\t\t\tUW.BES5..ENN, UW.BES5..ENE, UW.BES5..HHZ, UW.BES5..HHN, \n",
      "\t\t\tUW.BES5..HHE, UW.BRKS..ENZ, UW.BRKS..ENN, UW.BRKS..ENE, \n",
      "\t\t\tUW.BSFP..ENZ, UW.BSFP..ENN, UW.BSFP..ENE, UW.GMW..EHZ, UW.GMW..ENZ\n",
      "\t\t\tUW.GMW..ENN, UW.GMW..ENE, UW.GNW..BHZ, UW.GNW..BHN, UW.GNW..ENZ, \n",
      "\t\t\tUW.GNW..ENN, UW.GNW..ENE, UW.GTWN..ENZ, UW.GTWN..ENN, UW.GTWN..ENE\n",
      "\t\t\tUW.HART..ENZ, UW.HART..ENN, UW.HART..ENE, UW.HOLY..ENZ, \n",
      "\t\t\tUW.HOLY..ENN, UW.HOLY..ENE, UW.KCAM..ENZ, UW.KCAM..ENN, \n",
      "\t\t\tUW.KCAM..ENE, UW.KDK..ENZ, UW.KDK..ENN, UW.KDK..ENE, UW.KIMB..ENZ, \n",
      "\t\t\tUW.KIMB..ENN, UW.KIMB..ENE, UW.KIMR..ENZ, UW.KIMR..ENN, \n",
      "\t\t\tUW.KIMR..ENE, UW.KINR..ENZ, UW.KINR..ENN, UW.KINR..ENE, \n",
      "\t\t\tUW.KITP..ENZ, UW.KITP..ENN, UW.KITP..ENE, UW.LAWT..ENZ, \n",
      "\t\t\tUW.LAWT..ENN, UW.LAWT..ENE, UW.MNWA..ENZ, UW.MNWA..ENN, \n",
      "\t\t\tUW.MNWA..ENE, UW.NOWS..ENZ, UW.NOWS..ENN, UW.NOWS..ENE, \n",
      "\t\t\tUW.PSNS..ENZ, UW.PSNS..ENN, UW.PSNS..ENE, UW.RAD1..HHZ, \n",
      "\t\t\tUW.RAD1..HHN, UW.RAD1..HHE, UW.RAD4..HHZ, UW.RAD4..HHN, \n",
      "\t\t\tUW.RAD4..HHE, UW.RAD6..HHZ, UW.RAD6..HHN, UW.RAD6..HHE, UW.SCC..ENZ\n",
      "\t\t\tUW.SCC..ENN, UW.SCC..ENE, UW.SEA..ENZ, UW.SEA..ENN, UW.SEA..ENE, \n",
      "\t\t\tUW.SP2..BHZ, UW.SP2..BHN, UW.SP2..ENZ, UW.SP2..ENN, UW.SP2..ENE, \n",
      "\t\t\tUW.SSS2..ENZ, UW.SSS2..ENN, UW.SSS2..ENE, UW.TKCO..ENZ, \n",
      "\t\t\tUW.TKCO..ENN, UW.TKCO..ENE, UW.VVHS..EHZ, UW.VVHS..ENZ, \n",
      "\t\t\tUW.VVHS..ENN, UW.VVHS..ENE\n"
     ]
    }
   ],
   "source": [
    "# Download inventory with specified query down to channel \n",
    "# (ML generally operates on data w/o instrument response correction)\n",
    "inv = client.get_stations(**qstation_kwargs,level='channel',channel=CLIST)#,channel='??[ZNE12]')\n",
    "print(inv.networks[-1])"
   ]
  },
  {
   "cell_type": "code",
   "execution_count": 11,
   "metadata": {},
   "outputs": [
    {
     "name": "stdout",
     "output_type": "stream",
     "text": [
      "Event:\t2017-05-11T22:05:13.400000Z | +47.605, -122.549 | 1.58 Ml\n",
      "\n",
      "\t            resource_id: ResourceIdentifier(id=\"smi:service.iris.edu/fdsnws/event/1/query?eventid=10156882\")\n",
      "\t             event_type: 'earthquake'\n",
      "\t    preferred_origin_id: ResourceIdentifier(id=\"smi:service.iris.edu/fdsnws/event/1/query?originid=22034754\")\n",
      "\t preferred_magnitude_id: ResourceIdentifier(id=\"smi:service.iris.edu/fdsnws/event/1/query?magnitudeid=179139698\")\n",
      "\t                   ---------\n",
      "\t     event_descriptions: 1 Elements\n",
      "\t                origins: 1 Elements\n",
      "\t             magnitudes: 2 Elements\n"
     ]
    }
   ],
   "source": [
    "# Download catalog from Client\n",
    "cat = client.get_events(**qevent_kwargs,includearrivals=True,includeallmagnitudes=True,includeallorigins=True)\n",
    "# print(cat.__str__(print_all=True))\n",
    "print(cat.events[1])"
   ]
  },
  {
   "cell_type": "code",
   "execution_count": 12,
   "metadata": {},
   "outputs": [
    {
     "name": "stdout",
     "output_type": "stream",
     "text": [
      "19\n",
      "                         Evid  Magnitude Magnitude Type    Epoch(UTC)  \\\n",
      "Time UTC                                                                \n",
      "2017-05-11 00:41:03  61264902        1.0              l  1.494463e+09   \n",
      "2017-05-11 01:49:33  61264912        0.3              d  1.494467e+09   \n",
      "2017-05-11 02:31:17  61264922        1.5              l  1.494470e+09   \n",
      "2017-05-11 07:35:24  61265017        3.5              l  1.494488e+09   \n",
      "2017-05-11 07:40:44  61265022        1.0              l  1.494488e+09   \n",
      "2017-05-11 07:41:13  60134708        0.3              d  1.494488e+09   \n",
      "2017-05-11 08:19:37  61265037        1.3              l  1.494491e+09   \n",
      "2017-05-11 08:37:57  61265047        1.5              l  1.494492e+09   \n",
      "2017-05-11 09:00:56  61265062        1.1              l  1.494493e+09   \n",
      "2017-05-11 09:04:43  61265067        0.8              l  1.494493e+09   \n",
      "2017-05-11 09:19:09  61265072        2.1              l  1.494494e+09   \n",
      "2017-05-11 09:27:40  61265077        1.1              l  1.494495e+09   \n",
      "2017-05-11 09:36:36  61265082        2.6              l  1.494495e+09   \n",
      "2017-05-11 10:27:18  61265092        1.3              l  1.494498e+09   \n",
      "2017-05-11 13:57:45  61265172        0.3              d  1.494511e+09   \n",
      "2017-05-11 22:02:48  61265307        1.1              l  1.494540e+09   \n",
      "2017-05-11 22:04:52  61265312        1.5              l  1.494540e+09   \n",
      "2017-05-11 22:05:13  60134908        1.6              l  1.494540e+09   \n",
      "2017-05-12 02:02:56  61265372        1.0              l  1.494555e+09   \n",
      "\n",
      "                                  Time Local              Distance From  \\\n",
      "Time UTC                                                                  \n",
      "2017-05-11 00:41:03  2017/05/10 17:41:03 PDT  7.2 km from Bremerton, WA   \n",
      "2017-05-11 01:49:33  2017/05/10 18:49:33 PDT  7.9 km from Bremerton, WA   \n",
      "2017-05-11 02:31:17  2017/05/10 19:31:17 PDT  5.4 km from Bremerton, WA   \n",
      "2017-05-11 07:35:24  2017/05/11 00:35:24 PDT  4.2 km from Bremerton, WA   \n",
      "2017-05-11 07:40:44  2017/05/11 00:40:44 PDT  9.6 km from Bremerton, WA   \n",
      "2017-05-11 07:41:13  2017/05/11 00:41:13 PDT  7.3 km from Bremerton, WA   \n",
      "2017-05-11 08:19:37  2017/05/11 01:19:37 PDT  5.9 km from Bremerton, WA   \n",
      "2017-05-11 08:37:57  2017/05/11 01:37:57 PDT  5.3 km from Bremerton, WA   \n",
      "2017-05-11 09:00:56  2017/05/11 02:00:56 PDT  7.7 km from Bremerton, WA   \n",
      "2017-05-11 09:04:43  2017/05/11 02:04:43 PDT  3.8 km from Bremerton, WA   \n",
      "2017-05-11 09:19:09  2017/05/11 02:19:09 PDT  5.1 km from Bremerton, WA   \n",
      "2017-05-11 09:27:40  2017/05/11 02:27:40 PDT  6.7 km from Bremerton, WA   \n",
      "2017-05-11 09:36:36  2017/05/11 02:36:36 PDT  5.5 km from Bremerton, WA   \n",
      "2017-05-11 10:27:18  2017/05/11 03:27:18 PDT  5.9 km from Bremerton, WA   \n",
      "2017-05-11 13:57:45  2017/05/11 06:57:45 PDT  8.8 km from Bremerton, WA   \n",
      "2017-05-11 22:02:48  2017/05/11 15:02:48 PDT  5.6 km from Bremerton, WA   \n",
      "2017-05-11 22:04:52  2017/05/11 15:04:52 PDT  9.6 km from Bremerton, WA   \n",
      "2017-05-11 22:05:13  2017/05/11 15:05:13 PDT  7.4 km from Bremerton, WA   \n",
      "2017-05-12 02:02:56  2017/05/11 19:02:56 PDT  7.9 km from Bremerton, WA   \n",
      "\n",
      "                         Lat       Lon  Depth Km  Depth Mi  \n",
      "Time UTC                                                    \n",
      "2017-05-11 00:41:03  47.5977 -122.5462      19.1      11.8  \n",
      "2017-05-11 01:49:33  47.6067 -122.5437      18.2      11.3  \n",
      "2017-05-11 02:31:17  47.5963 -122.5733      23.3      14.5  \n",
      "2017-05-11 07:35:24  47.5887 -122.5842      24.1      14.9  \n",
      "2017-05-11 07:40:44  47.6168 -122.5262      16.3      10.1  \n",
      "2017-05-11 07:41:13  47.5668 -122.5332      19.6      12.2  \n",
      "2017-05-11 08:19:37  47.5980 -122.5662      20.0      12.4  \n",
      "2017-05-11 08:37:57  47.5952 -122.5733      21.2      13.2  \n",
      "2017-05-11 09:00:56  47.6083 -122.5477      18.8      11.6  \n",
      "2017-05-11 09:04:43  47.5907 -122.5940      21.8      13.5  \n",
      "2017-05-11 09:19:09  47.5958 -122.5778      21.6      13.4  \n",
      "2017-05-11 09:27:40  47.6000 -122.5552      21.8      13.5  \n",
      "2017-05-11 09:36:36  47.5897 -122.5647      21.6      13.4  \n",
      "2017-05-11 10:27:18  47.5940 -122.5627      21.3      13.2  \n",
      "2017-05-11 13:57:45  47.5923 -122.5200      11.3       7.0  \n",
      "2017-05-11 22:02:48  47.5557 -122.5568      21.1      13.1  \n",
      "2017-05-11 22:04:52  47.6202 -122.5305      17.4      10.8  \n",
      "2017-05-11 22:05:13  47.6047 -122.5487      18.7      11.6  \n",
      "2017-05-12 02:02:56  47.6070 -122.5435      18.3      11.3  \n"
     ]
    }
   ],
   "source": [
    "# Load PNSN queried catalog data from custom queries for Bremerton-Adjacent Swarm (BRM)\n",
    "df_BRM_full = pd.read_csv(os.path.join('data','2017-05_BRM','pnsn_event_catalog_2017_BRM_cluster.csv'),\\\n",
    "                          parse_dates=['Time UTC'],index_col='Time UTC')\n",
    "# Sort by index\n",
    "df_BRM_full = df_BRM_full.sort_index()\n",
    "# Filter by query times\n",
    "# Translate from obspy.UTCDateTime --> pandas.Timestamp\n",
    "pdTS = pd.Timestamp(TSstr)\n",
    "pdTE = pd.Timestamp(TEstr)\n",
    "\n",
    "# Filter to period of interest\n",
    "df_EVE = df_BRM_full[(df_BRM_full.index >= pdTS) & (df_BRM_full.index <= pdTE)]\n",
    "print(len(df_EVE))\n",
    "print(df_EVE)\n"
   ]
  },
  {
   "cell_type": "code",
   "execution_count": 13,
   "metadata": {},
   "outputs": [
    {
     "name": "stdout",
     "output_type": "stream",
     "text": [
      "   network station   latitude   longitude  elevation\n",
      "0       GM    AB13  47.618205 -122.287154      67.23\n",
      "1       GM    AB14  47.612638 -122.290006     101.59\n",
      "2       GM    AB15  47.614959 -122.300982      94.72\n",
      "3       GM    AB16  47.615641 -122.295617      56.28\n",
      "4       GM    AB17  47.612461 -122.303320      97.29\n",
      "5       GS     WE2  47.574501 -122.384102     116.00\n",
      "6       UW    BABE  47.605650 -122.536520      84.10\n",
      "7       UW    BES3  47.642021 -122.525337      57.00\n",
      "8       UW    BES4  47.642681 -122.646469      63.00\n",
      "9       UW    BES5  47.584480 -122.568871       4.00\n",
      "10      UW    BRKS  47.755196 -122.290131      23.00\n",
      "11      UW    BSFP  47.531864 -122.307770       4.00\n",
      "12      UW     GMW  47.548800 -122.785460     520.00\n",
      "13      UW     GNW  47.564130 -122.824980     220.00\n",
      "14      UW    GTWN  47.551212 -122.322006       9.00\n",
      "15      UW    HART  47.583765 -122.350098       2.00\n",
      "16      UW    HOLY  47.565400 -122.383600     106.00\n",
      "17      UW    KCAM  47.544200 -122.318480       6.00\n",
      "18      UW     KDK  47.595030 -122.333530       4.20\n",
      "19      UW    KIMB  47.574800 -122.302800      69.00\n",
      "20      UW    KIMR  47.502669 -122.768563     121.81\n",
      "21      UW    KINR  47.752022 -122.644035       8.36\n",
      "22      UW    KITP  47.675201 -122.629745      49.00\n",
      "23      UW    LAWT  47.656940 -122.390620      49.00\n",
      "24      UW    MNWA  47.565029 -122.534142       8.00\n",
      "25      UW    NOWS  47.686300 -122.254440      21.00\n",
      "26      UW    PSNS  47.562729 -122.637634      26.00\n",
      "27      UW    RAD1  47.636130 -122.363338     120.10\n",
      "28      UW    RAD4  47.638039 -122.354970     121.50\n",
      "29      UW    RAD6  47.633671 -122.351162     137.40\n",
      "30      UW     SCC  47.749649 -122.361053     147.00\n",
      "31      UW     SEA  47.654209 -122.309380      30.00\n",
      "32      UW     SP2  47.556290 -122.249229      22.20\n",
      "33      UW    SSS2  47.581800 -122.331090       5.00\n",
      "34      UW    TKCO  47.536680 -122.301650       5.00\n",
      "35      UW    VVHS  47.423355 -122.455276      98.00\n"
     ]
    }
   ],
   "source": [
    "# Compile station locations \n",
    "sta_llh = []\n",
    "for N_ in inv.networks:\n",
    "    for S_ in N_.stations:\n",
    "        sta_llh.append([N_.code,S_.code,S_.latitude,S_.longitude,S_.elevation])\n",
    "\n",
    "df_STA = pd.DataFrame(sta_llh,columns=['network','station','latitude','longitude','elevation'])\n",
    "\n",
    "print(df_STA)     "
   ]
  },
  {
   "cell_type": "code",
   "execution_count": 14,
   "metadata": {},
   "outputs": [
    {
     "data": {
      "text/plain": [
       "<matplotlib.legend.Legend at 0x1588ff820>"
      ]
     },
     "execution_count": 14,
     "metadata": {},
     "output_type": "execute_result"
    },
    {
     "data": {
      "image/png": "[encoded data removed]",
      "text/plain": [
       "<Figure size 1000x1000 with 1 Axes>"
      ]
     },
     "metadata": {},
     "output_type": "display_data"
    }
   ],
   "source": [
    "# Plot stations and events\n",
    "fig = plt.figure(figsize=(10,10))\n",
    "ax = fig.add_subplot(111)\n",
    "ax.scatter(df_EVE['Lon'],df_EVE['Lat'],c=df_EVE.index,s=(16*df_EVE['Magnitude'].values)**2,cmap='viridis',alpha=0.5)\n",
    "for N_ in df_STA['network'].unique():\n",
    "    ind = df_STA['network']==N_\n",
    "    ax.plot(df_STA[ind]['longitude'],df_STA[ind]['latitude'],'v',ms=6,label=N_)\n",
    "\n",
    "for i_ in range(len(df_STA)):\n",
    "    ax.text(df_STA['longitude'].values[i_],df_STA['latitude'].values[i_],df_STA['station'].values[i_])\n",
    "ax.legend()\n",
    "\n",
    "\n"
   ]
  },
  {
   "cell_type": "code",
   "execution_count": 22,
   "metadata": {},
   "outputs": [
    {
     "data": {
      "text/plain": [
       "<Figure size 640x480 with 0 Axes>"
      ]
     },
     "metadata": {},
     "output_type": "display_data"
    }
   ],
   "source": [
    "plt.figure()\n",
    "px.scatter_geo(df_STA,lon='longitude',lat='latitude',color='network')\n",
    "plt.show()"
   ]
  },
  {
   "cell_type": "markdown",
   "metadata": {},
   "source": []
  },
  {
   "cell_type": "markdown",
   "metadata": {},
   "source": [
    "# Produce a file list for rsync from a PNW_store server\n",
    "**Note** this must to be run in a separate terminal for security reasons  \n",
    "Command formula for remote --files-from `rsync` call:  \n",
    "`rsync -v --files-from=pnws_query.txt {USR}@{SERVER ADDRESS}:{PATH TO PNW{YEAR} CONTAINING DIR} {DESTINATION}`"
   ]
  },
  {
   "cell_type": "code",
   "execution_count": 23,
   "metadata": {},
   "outputs": [
    {
     "data": {
      "text/plain": [
       "['PNW2017/GM/2017/131/AB13.GM.2017.131',\n",
       " 'PNW2017/GM/2017/131/AB14.GM.2017.131',\n",
       " 'PNW2017/GM/2017/131/AB15.GM.2017.131',\n",
       " 'PNW2017/GM/2017/131/AB16.GM.2017.131',\n",
       " 'PNW2017/GM/2017/131/AB17.GM.2017.131',\n",
       " 'PNW2017/GS/2017/131/WE2.GS.2017.131',\n",
       " 'PNW2017/UW/2017/131/BABE.UW.2017.131',\n",
       " 'PNW2017/UW/2017/131/BES3.UW.2017.131',\n",
       " 'PNW2017/UW/2017/131/BES4.UW.2017.131',\n",
       " 'PNW2017/UW/2017/131/BES5.UW.2017.131',\n",
       " 'PNW2017/UW/2017/131/BRKS.UW.2017.131',\n",
       " 'PNW2017/UW/2017/131/BSFP.UW.2017.131',\n",
       " 'PNW2017/UW/2017/131/GMW.UW.2017.131',\n",
       " 'PNW2017/UW/2017/131/GNW.UW.2017.131',\n",
       " 'PNW2017/UW/2017/131/GTWN.UW.2017.131',\n",
       " 'PNW2017/UW/2017/131/HART.UW.2017.131',\n",
       " 'PNW2017/UW/2017/131/HOLY.UW.2017.131',\n",
       " 'PNW2017/UW/2017/131/KCAM.UW.2017.131',\n",
       " 'PNW2017/UW/2017/131/KDK.UW.2017.131',\n",
       " 'PNW2017/UW/2017/131/KIMB.UW.2017.131',\n",
       " 'PNW2017/UW/2017/131/KIMR.UW.2017.131',\n",
       " 'PNW2017/UW/2017/131/KINR.UW.2017.131',\n",
       " 'PNW2017/UW/2017/131/KITP.UW.2017.131',\n",
       " 'PNW2017/UW/2017/131/LAWT.UW.2017.131',\n",
       " 'PNW2017/UW/2017/131/MNWA.UW.2017.131',\n",
       " 'PNW2017/UW/2017/131/NOWS.UW.2017.131',\n",
       " 'PNW2017/UW/2017/131/PSNS.UW.2017.131',\n",
       " 'PNW2017/UW/2017/131/RAD1.UW.2017.131',\n",
       " 'PNW2017/UW/2017/131/RAD4.UW.2017.131',\n",
       " 'PNW2017/UW/2017/131/RAD6.UW.2017.131',\n",
       " 'PNW2017/UW/2017/131/SCC.UW.2017.131',\n",
       " 'PNW2017/UW/2017/131/SEA.UW.2017.131',\n",
       " 'PNW2017/UW/2017/131/SP2.UW.2017.131',\n",
       " 'PNW2017/UW/2017/131/SSS2.UW.2017.131',\n",
       " 'PNW2017/UW/2017/131/TKCO.UW.2017.131',\n",
       " 'PNW2017/UW/2017/131/VVHS.UW.2017.131',\n",
       " 'PNW2017/GM/2017/132/AB13.GM.2017.132',\n",
       " 'PNW2017/GM/2017/132/AB14.GM.2017.132',\n",
       " 'PNW2017/GM/2017/132/AB15.GM.2017.132',\n",
       " 'PNW2017/GM/2017/132/AB16.GM.2017.132',\n",
       " 'PNW2017/GM/2017/132/AB17.GM.2017.132',\n",
       " 'PNW2017/GS/2017/132/WE2.GS.2017.132',\n",
       " 'PNW2017/UW/2017/132/BABE.UW.2017.132',\n",
       " 'PNW2017/UW/2017/132/BES3.UW.2017.132',\n",
       " 'PNW2017/UW/2017/132/BES4.UW.2017.132',\n",
       " 'PNW2017/UW/2017/132/BES5.UW.2017.132',\n",
       " 'PNW2017/UW/2017/132/BRKS.UW.2017.132',\n",
       " 'PNW2017/UW/2017/132/BSFP.UW.2017.132',\n",
       " 'PNW2017/UW/2017/132/GMW.UW.2017.132',\n",
       " 'PNW2017/UW/2017/132/GNW.UW.2017.132',\n",
       " 'PNW2017/UW/2017/132/GTWN.UW.2017.132',\n",
       " 'PNW2017/UW/2017/132/HART.UW.2017.132',\n",
       " 'PNW2017/UW/2017/132/HOLY.UW.2017.132',\n",
       " 'PNW2017/UW/2017/132/KCAM.UW.2017.132',\n",
       " 'PNW2017/UW/2017/132/KDK.UW.2017.132',\n",
       " 'PNW2017/UW/2017/132/KIMB.UW.2017.132',\n",
       " 'PNW2017/UW/2017/132/KIMR.UW.2017.132',\n",
       " 'PNW2017/UW/2017/132/KINR.UW.2017.132',\n",
       " 'PNW2017/UW/2017/132/KITP.UW.2017.132',\n",
       " 'PNW2017/UW/2017/132/LAWT.UW.2017.132',\n",
       " 'PNW2017/UW/2017/132/MNWA.UW.2017.132',\n",
       " 'PNW2017/UW/2017/132/NOWS.UW.2017.132',\n",
       " 'PNW2017/UW/2017/132/PSNS.UW.2017.132',\n",
       " 'PNW2017/UW/2017/132/RAD1.UW.2017.132',\n",
       " 'PNW2017/UW/2017/132/RAD4.UW.2017.132',\n",
       " 'PNW2017/UW/2017/132/RAD6.UW.2017.132',\n",
       " 'PNW2017/UW/2017/132/SCC.UW.2017.132',\n",
       " 'PNW2017/UW/2017/132/SEA.UW.2017.132',\n",
       " 'PNW2017/UW/2017/132/SP2.UW.2017.132',\n",
       " 'PNW2017/UW/2017/132/SSS2.UW.2017.132',\n",
       " 'PNW2017/UW/2017/132/TKCO.UW.2017.132',\n",
       " 'PNW2017/UW/2017/132/VVHS.UW.2017.132']"
      ]
     },
     "execution_count": 23,
     "metadata": {},
     "output_type": "execute_result"
    }
   ],
   "source": [
    "q_fmtstr =  'PNW{YEAR}/{NET}/{YEAR}/{JD}/{STA}.{NET}.{YEAR}.{JD}'\n",
    "qlist = []\n",
    "with open('./data/2017-05_BRM/pnws_query.txt','w') as f_:\n",
    "    for J_ in range(2):\n",
    "        JD = UTCDateTime(TSstr).julday + J_\n",
    "        for N_ in inv.networks:\n",
    "            for S_ in N_.stations:\n",
    "                iquery = q_fmtstr.format(HDD='wd07',STA=S_.code,NET=N_.code,YEAR=2017,JD=JD)\n",
    "                qlist.append(iquery)\n",
    "                f_.write(iquery+'\\n')\n",
    "\n",
    "f_.close()\n",
    "qlist"
   ]
  },
  {
   "cell_type": "markdown",
   "metadata": {},
   "source": [
    "### TRASH BEYOND HERE"
   ]
  },
  {
   "cell_type": "code",
   "execution_count": null,
   "metadata": {},
   "outputs": [],
   "source": [
    "# # Get continuous waveforms using BULK request - this produces hole-y data\n",
    "# ts = UTCDateTime(TSstr)\n",
    "# te = ts + 3600.\n",
    "# out_file_FMT = os.path.join('data','2017-05_BRM','{NET}','{STA}','{NET}.{STA}.{CP}.{TS}.{CHANS}.mseed')\n",
    "# bulk = []         \n",
    "# while ts < UTCDateTime(TEstr):\n",
    "#     print('Running window %s -- %s'%(ts.isoformat(),te.isoformat()))\n",
    "#     # Compose bulk request\n",
    "#     bulk = []\n",
    "#     for N_ in inv.networks:\n",
    "#         for S_ in N_.stations:\n",
    "#             try:\n",
    "#                 os.makedirs(os.path.join('data','2017-05_BRM',N_.code,S_.code))\n",
    "#             except:\n",
    "#                 pass\n",
    "#             for C_ in S_.channels:\n",
    "#                 CC_ = C_.code\n",
    "#                 LC_ = C_.location_code\n",
    "#                 bulk.append((N_.code,S_.code,LC_,CC_,ts,te))\n",
    "#     # Execute bulk request for chosen windowed timeframe for a given station\n",
    "#     st = client.get_waveforms_bulk(bulk)\n",
    "\n",
    "#     # Format and save waveforms in ML-compliant ordering - MSEED @ station level with Z,[N1],[E2] channel sequencing\n",
    "#     for N_ in inv.networks:\n",
    "#         for S_ in N_.stations:\n",
    "#             sst = st.copy().select(network=N_.code,station=S_.code)\n",
    "#             nchans = len(sst)\n",
    "\n",
    "#             # If 3-C station, bundle data as normal\n",
    "#             if nchans == 3:\n",
    "#                 ist = Stream()\n",
    "#                 ist += sst.select(channel='??Z')\n",
    "#                 ist += sst.select(channel='??[N1]')\n",
    "#                 ist += sst.select(channel='??[E1]')            \n",
    "#                 CCODES = ist[0].stats.channel[-1] + ist[1].stats.channel[-1] + ist[2].stats.channel[-1]\n",
    "#                 outname = out_file_FMT.format(NET=N_.code,STA=S_.code,CP=sst[0].stats.channel[:2],CHANS=CCODES,TS=ts.isoformat())\n",
    "#                 ist.write(outname,fmt='MSEED')\n",
    "#             # If 1-C station, use the \"trick\" from Retailleau et al. (2022)\n",
    "#             elif nchans == 1:\n",
    "#                 ist = Stream()\n",
    "#                 ist += sst[0]\n",
    "#                 tr1f = sst[0].copy()\n",
    "#                 tr1f.stats.channel+= 'N'  \n",
    "#                 ist += tr1f\n",
    "#                 tr2f = sst[0].copy()\n",
    "#                 tr2f.stats.channel+= 'E'\n",
    "#                 ist += tr2f\n",
    "#                 CCODES = sst[0].stats.channel[-1] + 'ZZ'\n",
    "#                 outname = out_file_FMT.format(NET=N_.code,STA=S_.code,CP=sst[0].stats.channel[:2],CHANS=CCODES,TS=ts.isoformat())\n",
    "#                 ist.write(outname,fmt='MSEED')\n",
    "#             # Deal with multi-sensor/-sampling_rate stations\n",
    "#             elif nchans > 3 and nchans%3 == 0:\n",
    "#                 CPlist = []\n",
    "#                 for C_ in S_.channels:\n",
    "#                     if C_.code[:2] not in CPlist:\n",
    "#                         CPlist.append(C_.code[:2])\n",
    "#                 for CP_ in CPlist:\n",
    "#                     ist = Stream()\n",
    "#                     ist += sst.select(channel=CP_+'Z')\n",
    "#                     ist += sst.select(channel=CP_+'[N1]')\n",
    "#                     ist += sst.select(channel=CP_+'[E1]')            \n",
    "#                     CCODES = ist[0].stats.channel[-1] + ist[1].stats.channel[-1] + ist[2].stats.channel[-1]\n",
    "#                     outname = out_file_FMT.format(NET=N_.code,STA=S_.code,CP=CP_,CHANS=CCODES,TS=ts.isoformat())\n",
    "#                     ist.write(outname,fmt='MSEED')\n",
    "            \n",
    "#     # Advance indices for WHILE loop\n",
    "#     ts += 3600.\n",
    "#     te += 3600.\n",
    "\n"
   ]
  },
  {
   "cell_type": "code",
   "execution_count": null,
   "metadata": {},
   "outputs": [],
   "source": [
    "# # Use inventory to pull data for the period of interest and save to disk in 1 hour chunks\n",
    "# ts = UTCDateTime(TSstr)\n",
    "# te = ts + 3600.\n",
    "# save_dir = os.path.join('data','2017-05_BRM')\n",
    "# while ts < UTCDateTime(TEstr):\n",
    "#     st = client.get_waveforms(starttime=ts,endtime=te)\n",
    "#     ts += 3600.\n",
    "#     te += 3600.\n"
   ]
  },
  {
   "cell_type": "code",
   "execution_count": null,
   "metadata": {},
   "outputs": [],
   "source": [
    "# # Get continuous waveforms - OBSOLITED - This method fails to get extensive data\n",
    "# ts = UTCDateTime(TSstr)\n",
    "# te = ts + 3600.\n",
    "# out_file_FMT = os.path.join('data','2017-05_BRM','{NET}','{STA}','{NET}.{STA}.{LOC}.{CHAN}.{TS}.mseed')\n",
    "             \n",
    "# while ts < UTCDateTime(TEstr):\n",
    "#     print('Running window %s -- %s'%(ts.isoformat(),te.isoformat()))\n",
    "#     for N_ in inv.networks:\n",
    "#         # try:\n",
    "#         #     os.makedirs(os.path.join('data','2017-05_BRM',str(N_.code)))\n",
    "#         # except:\n",
    "#         #     pass\n",
    "#         for S_ in N_.stations:\n",
    "#             st = Stream()\n",
    "#             # try:\n",
    "#             #     os.mkdir(os.path.join('data','2017-05_BRM',str(N_.code),str(S_.code)))\n",
    "#             # except:\n",
    "#             #     pass\n",
    "#             for C_ in S_.channels:\n",
    "#                 CC_ = C_.code\n",
    "#                 LC_ = C_.location_code\n",
    "#                 out_file = out_file_FMT.format(NET=N_.code,STA=S_.code,LOC=LC_,CHAN=CC_,TS=ts.isoformat())\n",
    "#                 try:\n",
    "#                     tr = client.get_waveforms(N_.code,S_.code,LC_,CC_,ts,te)[0]\n",
    "#                     try: \n",
    "#                         os.mkdirs(os.path.join('data','2017-05_BRM',str(N_.code),str(S_.code)))\n",
    "#                     except:\n",
    "#                         pass\n",
    "#                     tr.write(out_file,fmt='MSEED')\n",
    "#                 except:\n",
    "#                     pass\n",
    "#     ts += 3600.\n",
    "#     te += 3600."
   ]
  },
  {
   "cell_type": "code",
   "execution_count": null,
   "metadata": {},
   "outputs": [],
   "source": [
    "# # Use IRIS webservices / FDSN to query waveform data \n",
    "# # Based on mass_downloader example on docs.github.org: https://docs.obspy.org/packages/autogen/obspy.clients.fdsn.mass_downloader.html\n",
    "# domain = CircularDomain(**dict((k_,qstation_kwargs[k_]) for k_ in ['latitude','longitude','maxradius']),minradius=.0)\n",
    "\n",
    "# restrictions = Restrictions(starttime=UTCDateTime(TSstr),endtime=UTCDateTime(TEstr),\n",
    "#                             chunklength_in_sec=3600.)\n",
    "#                             # limit_stations_to_inventory=inv,chunklength_in_sec=3600)\n",
    "# mdl = MassDownloader()\n",
    "# mdl.download(domain,restrictions,threads_per_client=2,\\\n",
    "#              mseed_storage=os.path.join('data','2017-05_BRM'),\\\n",
    "#              stationxml_storage=os.path.join('data','2017-05_BRM','{network}','{station}.xml'))"
   ]
  },
  {
   "cell_type": "code",
   "execution_count": null,
   "metadata": {},
   "outputs": [],
   "source": [
    "# # Plot the catalog\n",
    "# fig = plt.figure(figsize=(10,10))\n",
    "# axa = fig.add_subplot(211)\n",
    "# axa.plot(df_BRM_full['Magnitude'],'.')\n",
    "# axa.set_xlabel('UTC Date Time')\n",
    "# axa.set_ylabel('Magnitude (mixed methods)')\n",
    "# axb = axa.twinx()\n",
    "# axb.plot(df_BRM_full['Magnitude'].cumsum(),'r-',alpha=0.5)\n",
    "# axb.set_ylabel('Cumulative magnitude',labelpad=15)\n",
    "\n",
    "# # # Define window to assess\n",
    "# # TS = pd.Timestamp(\"2017-05-11\")\n",
    "# # TE = pd.Timestamp(\"2017-05-13T00:00:00\")\n",
    "\n",
    "# axa.fill_between([TS,TE],[axa.get_ylim()[0]]*2,[axa.get_ylim()[1]]*2,color='yellow')\n",
    "\n",
    "\n",
    "# axc = fig.add_subplot(212)\n",
    "# IND = (df_BRM_full.index >= TS) & (df_BRM_full.index <= TE)\n",
    "# axc.plot(df_BRM_full[IND]['Magnitude'],'.')\n",
    "# axd = axc.twinx()\n",
    "# axd.plot((10**df_BRM_full[IND]['Magnitude']).cumsum(),'r-',alpha=0.5)\n",
    "\n",
    "# # axc = fig.add_subplot(223)\n",
    "# # ch = axc.scatter(df_BRM_full['Lon'],df_BRM_full['Lat'],s = 5**df_BRM_full['Magnitude'],c=df_BRM_full.index)\n",
    "# # plt.colorbar(ax=axc,cax=ch)"
   ]
  }
 ],
 "metadata": {
  "kernelspec": {
   "display_name": "Python 3",
   "language": "python",
   "name": "python3"
  },
  "language_info": {
   "codemirror_mode": {
    "name": "ipython",
    "version": 3
   },
   "file_extension": ".py",
   "mimetype": "text/x-python",
   "name": "python",
   "nbconvert_exporter": "python",
   "pygments_lexer": "ipython3",
   "version": "3.9.15"
  },
  "orig_nbformat": 4
 },
 "nbformat": 4,
 "nbformat_minor": 2
}
