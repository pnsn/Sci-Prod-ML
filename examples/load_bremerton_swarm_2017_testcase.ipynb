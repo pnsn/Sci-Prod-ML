{
 "cells": [
  {
   "cell_type": "markdown",
   "metadata": {},
   "source": [
    "# Testcase Data Retrieval for Earthquake Swarms in the PNSN Network\n",
    "This notebook provides a worked example of data retrieval for the following earthquake swarm within the PNSN network:  \n",
    "The May 2017 earthquake swarm near Bremerton  \n",
    "        - **Note** this example uses just 2 days of the swarm: May 10-11, 2017.  \n",
    "        - Catalog searches show the swarm can broadly be defined between May 8 and November 2017  \n",
    "        - ...potentially longer - a declustering analysis would better define this.  \n",
    "![Event map of earthquakes in the seismic swarm near Bremerton, WA](data/2017-05_BRM/image.png)  \n",
    "\n",
    "\n",
    "- \"Earthquake swarm NE of Bremerton\" blog post by Renate Hartog on May 11, 2017  \n",
    "https://www.pnsn.org/blog/2017/05/11/earthquake-swarm-ne-of-bremerton\n",
    "\n",
    "\n",
    "### Script Author\n",
    "Nathan Stevens: ntsteven@uw.edu"
   ]
  },
  {
   "cell_type": "code",
   "execution_count": 59,
   "metadata": {},
   "outputs": [],
   "source": [
    "# Import dependencies\n",
    "import os\n",
    "from obspy import UTCDateTime, Stream\n",
    "from obspy.clients.fdsn import Client\n",
    "# from obspy.clients.fdsn.mass_downloader import CircularDomain, Restrictions, MassDownloader\n",
    "import pandas as pd\n",
    "import numpy as np\n",
    "import matplotlib.pyplot as plt\n",
    "import plotly.express as px\n",
    "%matplotlib inline\n",
    "\n",
    "# Define small helper functions\n",
    "m2deg = lambda x:x/111139.\n",
    "km2mi = lambda x:x*1e3*3.281/5280."
   ]
  },
  {
   "cell_type": "code",
   "execution_count": 6,
   "metadata": {},
   "outputs": [],
   "source": [
    "# Initialize Client\n",
    "client = Client('IRIS')"
   ]
  },
  {
   "cell_type": "markdown",
   "metadata": {},
   "source": [
    "### Data selection\n",
    "Use the following fields to define an event and station query kwargs for use with the `obspy`\n",
    " - **starttime**: [obspy.UTCDateTime] Start time of query in UTC\n",
    " - **endtime**:      [obspy.UTCDateTime] End time of query in UTC\n",
    " - **latitude**:     [float] centroid latitude for queries in *degrees North*\n",
    " - **longitude**:    [float] centroid longitude for queries in *degrees East*\n",
    " - **maxradius**: [float] maximum radius for query in *degrees*"
   ]
  },
  {
   "cell_type": "code",
   "execution_count": 48,
   "metadata": {},
   "outputs": [
    {
     "data": {
      "text/plain": [
       "0.2699322470060015"
      ]
     },
     "execution_count": 48,
     "metadata": {},
     "output_type": "execute_result"
    }
   ],
   "source": [
    "# Define fields for query\n",
    "fields = ('starttime','endtime','latitude','longitude','maxradius')\n",
    "TSstr = \"2017-01-01T00:00:00\"\n",
    "TEstr = \"2018-01-01T00:00:00\"\n",
    "# TEstr = \"2017-05-12T23:59:59\"\n",
    "# Define data selection kwargs for events from IRIS catalog\n",
    "qevent_kwargs = dict(zip(fields,[UTCDateTime(TSstr),\\\n",
    "                                UTCDateTime(TEstr),\\\n",
    "                                47.5828,-122.57841,m2deg(1e4)]))\n",
    "# Define data selection kwargs for stations in IRIS catalog\n",
    "qstation_kwargs = dict(zip(fields,[UTCDateTime(TSstr),\\\n",
    "                                   UTCDateTime(TEstr),\\\n",
    "                                47.5828,-122.57841,m2deg(30e3)]))\n",
    "\n",
    "# Limit channels to those coming from broadbands ?H? and accelerometers ?N?\n",
    "CLIST = 'HHZ,HHN,HH1,HHE,HH2,ENZ,EN1,ENN,EN2,ENE,BHZ,BHN,BHZ,EHZ,EH1,EHN,EH2,EHE'\n",
    "\n",
    "qstation_kwargs['maxradius']"
   ]
  },
  {
   "cell_type": "code",
   "execution_count": 49,
   "metadata": {},
   "outputs": [
    {
     "name": "stdout",
     "output_type": "stream",
     "text": [
      "Network UW (Pacific Northwest Seismic Network (PNSN))\n",
      "\tStation Count: 36/860 (Selected/Total)\n",
      "\t1963-01-01T00:00:00.000000Z - --\n",
      "\tAccess: open\n",
      "\tContains:\n",
      "\t\tStations (36):\n",
      "\t\t\tUW.ALKI (Alki Wastewater Plant, Seattle, WA, USA)\n",
      "\t\t\tUW.BABE (Bainbridge, WA, USA)\n",
      "\t\t\tUW.BES3 (Bremerton Swarm Portable 3, WA, USA)\n",
      "\t\t\tUW.BES4 (Bremerton Swarm Portable 4, WA, USA)\n",
      "\t\t\tUW.BES5 (Bremerton Swarm Portable 5, WA, USA)\n",
      "\t\t\tUW.BRKS (Brookside, WA, USA)\n",
      "\t\t\tUW.BSFP (Boeing Fire Protection, WA, USA)\n",
      "\t\t\tUW.GMW (Gold Mountain, WA, USA)\n",
      "\t\t\tUW.GNW (Green Mountain, WA, USA)\n",
      "\t\t\tUW.GTWN (Georgetown Playfield ANSS-SMO)\n",
      "\t\t\tUW.HART (Harbor Island, Seattle, WA, USA)\n",
      "\t\t\tUW.HOLY (Holy Rosary ANSS-SMO)\n",
      "\t\t\tUW.KCAM (King County Airport Maintenance Shop, Seattle, WA, USA)\n",
      "\t\t\tUW.KDK (Kingdome, Seattle, WA, USA)\n",
      "\t\t\tUW.KIMB (Kimball School, Seattle, WA, USA)\n",
      "\t\t\tUW.KIMR (Kitsap County HHW Collection Facility, Bremerton, WA, USA)\n",
      "\t\t\tUW.KINR (North Road Shop, Poulsbo, WA, USA)\n",
      "\t\t\tUW.KITP (Kitsap Treatment Plant, WA, USA)\n",
      "\t\t\tUW.LAWT (Lawton, Seattle, WA, USA)\n",
      "\t\t\tUW.MNWA (Manchester, WA)\n",
      "\t\t\tUW.NOWS (NOAA, Seattle, WA, USA)\n",
      "\t\t\tUW.PIER (Pier 30, Seattle, WA)\n",
      "\t\t\tUW.PSNS (Puget Sound Naval Shipyard - ANSS SMO)\n",
      "\t\t\tUW.RAD1 (RAD site 1, Seattle, WA)\n",
      "\t\t\tUW.RAD2 (RAD site 2, Seattle, WA)\n",
      "\t\t\tUW.RAD3 (RAD site 3, Seattle, WA)\n",
      "\t\t\tUW.RAD4 (RAD site 4, Seattle, WA)\n",
      "\t\t\tUW.RAD5 (RAD site 5, Seattle, WA)\n",
      "\t\t\tUW.RAD6 (RAD site 6, Seattle, WA)\n",
      "\t\t\tUW.SCC (Shoreline CC, Shoreline, WA, USA)\n",
      "\t\t\tUW.SEA (Seattle (Wood Anderson SMO))\n",
      "\t\t\tUW.SP2 (Seward Park, Seattle, WA, USA)\n",
      "\t\t\tUW.SSS1 (John Stanford Center borehole, Seattle, ANSS-SMO)\n",
      "\t\t\tUW.SSS2 (John Stanford Center, Seattle, WA, USA)\n",
      "\t\t\tUW.TKCO (King CO EOC, Seattle, WA, USA)\n",
      "\t\t\tUW.VVHS (Vashon HS ANSS-SMO)\n",
      "\t\tChannels (131):\n",
      "\t\t\tUW.ALKI..EHZ, UW.ALKI..ENZ, UW.ALKI..ENN, UW.ALKI..ENE, \n",
      "\t\t\tUW.BABE..ENZ, UW.BABE..ENN, UW.BABE..ENE, UW.BES3..ENZ, \n",
      "\t\t\tUW.BES3..ENN, UW.BES3..ENE, UW.BES3..HHZ, UW.BES3..HHN, \n",
      "\t\t\tUW.BES3..HHE, UW.BES4..ENZ, UW.BES4..ENN, UW.BES4..ENE, \n",
      "\t\t\tUW.BES4..HHZ, UW.BES4..HHN, UW.BES4..HHE, UW.BES5..ENZ, \n",
      "\t\t\tUW.BES5..ENN, UW.BES5..ENE, UW.BES5..HHZ, UW.BES5..HHN, \n",
      "\t\t\tUW.BES5..HHE, UW.BRKS..ENZ, UW.BRKS..ENN, UW.BRKS..ENE, \n",
      "\t\t\tUW.BSFP..ENZ, UW.BSFP..ENN, UW.BSFP..ENE, UW.GMW..EHZ, UW.GMW..ENZ\n",
      "\t\t\tUW.GMW..ENN, UW.GMW..ENE, UW.GNW..BHZ, UW.GNW..BHN, UW.GNW..ENZ, \n",
      "\t\t\tUW.GNW..ENN, UW.GNW..ENE, UW.GTWN..ENZ, UW.GTWN..ENN, UW.GTWN..ENE\n",
      "\t\t\tUW.HART..ENZ, UW.HART..ENN, UW.HART..ENE, UW.HOLY..ENZ, \n",
      "\t\t\tUW.HOLY..ENN, UW.HOLY..ENE, UW.KCAM..ENZ, UW.KCAM..ENN, \n",
      "\t\t\tUW.KCAM..ENE, UW.KDK..ENZ, UW.KDK..ENN, UW.KDK..ENE, UW.KIMB..ENZ, \n",
      "\t\t\tUW.KIMB..ENN, UW.KIMB..ENE, UW.KIMR..ENZ, UW.KIMR..ENN, \n",
      "\t\t\tUW.KIMR..ENE, UW.KINR..ENZ, UW.KINR..ENN, UW.KINR..ENE, \n",
      "\t\t\tUW.KITP..ENZ, UW.KITP..ENN, UW.KITP..ENE, UW.LAWT..ENZ, \n",
      "\t\t\tUW.LAWT..ENN, UW.LAWT..ENE, UW.MNWA..ENZ, UW.MNWA..ENN, \n",
      "\t\t\tUW.MNWA..ENE, UW.NOWS..ENZ, UW.NOWS..ENN, UW.NOWS..ENE, \n",
      "\t\t\tUW.PIER..ENZ, UW.PIER..ENN, UW.PIER..ENE, UW.PSNS..ENZ, \n",
      "\t\t\tUW.PSNS..ENN, UW.PSNS..ENE, UW.RAD1..HHZ, UW.RAD1..HHN, \n",
      "\t\t\tUW.RAD1..HHE, UW.RAD2..HHZ, UW.RAD2..HHN, UW.RAD2..HHE, \n",
      "\t\t\tUW.RAD3..HHZ, UW.RAD3..HHN, UW.RAD3..HHE, UW.RAD4..HHZ, \n",
      "\t\t\tUW.RAD4..HHN, UW.RAD4..HHE, UW.RAD5..HHZ, UW.RAD5..HHN, \n",
      "\t\t\tUW.RAD5..HHE, UW.RAD6..HHZ, UW.RAD6..HHN, UW.RAD6..HHE, UW.SCC..ENZ\n",
      "\t\t\tUW.SCC..ENN, UW.SCC..ENE, UW.SEA..ENZ, UW.SEA..ENN, UW.SEA..ENE, \n",
      "\t\t\tUW.SP2..BHZ, UW.SP2..BHN, UW.SP2..ENZ, UW.SP2..ENN, UW.SP2..ENE, \n",
      "\t\t\tUW.SSS1.01.ENZ, UW.SSS1.01.ENN, UW.SSS1.01.ENE, UW.SSS1.02.ENZ, \n",
      "\t\t\tUW.SSS1.02.ENN, UW.SSS1.02.ENE, UW.SSS2..ENZ, UW.SSS2..ENN, \n",
      "\t\t\tUW.SSS2..ENE, UW.TKCO..ENZ, UW.TKCO..ENN, UW.TKCO..ENE, \n",
      "\t\t\tUW.VVHS..EHZ (2x), UW.VVHS..ENZ (2x), UW.VVHS..ENN (2x), \n",
      "\t\t\tUW.VVHS..ENE (2x)\n"
     ]
    }
   ],
   "source": [
    "# Download inventory with specified query down to channel \n",
    "# (ML generally operates on data w/o instrument response correction)\n",
    "inv = client.get_stations(**qstation_kwargs,level='channel',channel=CLIST)#,channel='??[ZNE12]')\n",
    "print(inv.networks[-1])"
   ]
  },
  {
   "cell_type": "code",
   "execution_count": 50,
   "metadata": {},
   "outputs": [
    {
     "data": {
      "text/html": [
       "<div>\n",
       "<style scoped>\n",
       "    .dataframe tbody tr th:only-of-type {\n",
       "        vertical-align: middle;\n",
       "    }\n",
       "\n",
       "    .dataframe tbody tr th {\n",
       "        vertical-align: top;\n",
       "    }\n",
       "\n",
       "    .dataframe thead th {\n",
       "        text-align: right;\n",
       "    }\n",
       "</style>\n",
       "<table border=\"1\" class=\"dataframe\">\n",
       "  <thead>\n",
       "    <tr style=\"text-align: right;\">\n",
       "      <th></th>\n",
       "      <th>Evid</th>\n",
       "      <th>Magnitude</th>\n",
       "      <th>Magnitude Type</th>\n",
       "      <th>Epoch(UTC)</th>\n",
       "      <th>Time UTC</th>\n",
       "      <th>Time Local</th>\n",
       "      <th>Distance From</th>\n",
       "      <th>Lat</th>\n",
       "      <th>Lon</th>\n",
       "      <th>Depth Km</th>\n",
       "      <th>Depth Mi</th>\n",
       "    </tr>\n",
       "  </thead>\n",
       "  <tbody>\n",
       "    <tr>\n",
       "      <th>2017-12-31 18:43:40.689999872</th>\n",
       "      <td>10599796</td>\n",
       "      <td>1.93</td>\n",
       "      <td>l</td>\n",
       "      <td>1.514746e+09</td>\n",
       "      <td>2017-12-31 18:43:40.689999872</td>\n",
       "      <td>2017-12-31 11:43:40.689999872</td>\n",
       "      <td></td>\n",
       "      <td>47.587167</td>\n",
       "      <td>-122.579333</td>\n",
       "      <td>21.95</td>\n",
       "      <td>13.639763</td>\n",
       "    </tr>\n",
       "    <tr>\n",
       "      <th>2017-12-18 23:57:10.969999872</th>\n",
       "      <td>10565357</td>\n",
       "      <td>0.58</td>\n",
       "      <td>l</td>\n",
       "      <td>1.513641e+09</td>\n",
       "      <td>2017-12-18 23:57:10.969999872</td>\n",
       "      <td>2017-12-18 16:57:10.969999872</td>\n",
       "      <td></td>\n",
       "      <td>47.645667</td>\n",
       "      <td>-122.641333</td>\n",
       "      <td>4.74</td>\n",
       "      <td>2.945443</td>\n",
       "    </tr>\n",
       "    <tr>\n",
       "      <th>2017-11-22 16:22:28.809999872</th>\n",
       "      <td>10556793</td>\n",
       "      <td>2.20</td>\n",
       "      <td>l</td>\n",
       "      <td>1.511368e+09</td>\n",
       "      <td>2017-11-22 16:22:28.809999872</td>\n",
       "      <td>2017-11-22 09:22:28.809999872</td>\n",
       "      <td></td>\n",
       "      <td>47.593500</td>\n",
       "      <td>-122.562833</td>\n",
       "      <td>22.10</td>\n",
       "      <td>13.732973</td>\n",
       "    </tr>\n",
       "    <tr>\n",
       "      <th>2017-11-04 09:52:41.350000128</th>\n",
       "      <td>10452436</td>\n",
       "      <td>1.09</td>\n",
       "      <td>l</td>\n",
       "      <td>1.509789e+09</td>\n",
       "      <td>2017-11-04 09:52:41.350000128</td>\n",
       "      <td>2017-11-04 02:52:41.350000128</td>\n",
       "      <td></td>\n",
       "      <td>47.600167</td>\n",
       "      <td>-122.558167</td>\n",
       "      <td>18.54</td>\n",
       "      <td>11.520784</td>\n",
       "    </tr>\n",
       "    <tr>\n",
       "      <th>2017-11-01 07:38:51.700000000</th>\n",
       "      <td>10450892</td>\n",
       "      <td>1.33</td>\n",
       "      <td>l</td>\n",
       "      <td>1.509522e+09</td>\n",
       "      <td>2017-11-01 07:38:51.700000000</td>\n",
       "      <td>2017-11-01 00:38:51.700000000</td>\n",
       "      <td></td>\n",
       "      <td>47.635333</td>\n",
       "      <td>-122.591500</td>\n",
       "      <td>22.83</td>\n",
       "      <td>14.186597</td>\n",
       "    </tr>\n",
       "    <tr>\n",
       "      <th>...</th>\n",
       "      <td>...</td>\n",
       "      <td>...</td>\n",
       "      <td>...</td>\n",
       "      <td>...</td>\n",
       "      <td>...</td>\n",
       "      <td>...</td>\n",
       "      <td>...</td>\n",
       "      <td>...</td>\n",
       "      <td>...</td>\n",
       "      <td>...</td>\n",
       "      <td>...</td>\n",
       "    </tr>\n",
       "    <tr>\n",
       "      <th>2017-01-25 14:03:57.320000000</th>\n",
       "      <td>9994944</td>\n",
       "      <td>0.20</td>\n",
       "      <td>d</td>\n",
       "      <td>1.485353e+09</td>\n",
       "      <td>2017-01-25 14:03:57.320000000</td>\n",
       "      <td>2017-01-25 07:03:57.320000000</td>\n",
       "      <td></td>\n",
       "      <td>47.571500</td>\n",
       "      <td>-122.495500</td>\n",
       "      <td>8.31</td>\n",
       "      <td>5.163847</td>\n",
       "    </tr>\n",
       "    <tr>\n",
       "      <th>2017-01-25 14:03:20.620000000</th>\n",
       "      <td>9994937</td>\n",
       "      <td>0.87</td>\n",
       "      <td>l</td>\n",
       "      <td>1.485353e+09</td>\n",
       "      <td>2017-01-25 14:03:20.620000000</td>\n",
       "      <td>2017-01-25 07:03:20.620000000</td>\n",
       "      <td></td>\n",
       "      <td>47.527667</td>\n",
       "      <td>-122.631667</td>\n",
       "      <td>22.66</td>\n",
       "      <td>14.080958</td>\n",
       "    </tr>\n",
       "    <tr>\n",
       "      <th>2017-01-24 21:11:54.440000000</th>\n",
       "      <td>9994694</td>\n",
       "      <td>1.31</td>\n",
       "      <td>d</td>\n",
       "      <td>1.485292e+09</td>\n",
       "      <td>2017-01-24 21:11:54.440000000</td>\n",
       "      <td>2017-01-24 14:11:54.440000000</td>\n",
       "      <td></td>\n",
       "      <td>47.507667</td>\n",
       "      <td>-122.646500</td>\n",
       "      <td>-0.43</td>\n",
       "      <td>-0.267203</td>\n",
       "    </tr>\n",
       "    <tr>\n",
       "      <th>2017-01-24 18:46:16.009999872</th>\n",
       "      <td>9994626</td>\n",
       "      <td>0.86</td>\n",
       "      <td>l</td>\n",
       "      <td>1.485284e+09</td>\n",
       "      <td>2017-01-24 18:46:16.009999872</td>\n",
       "      <td>2017-01-24 11:46:16.009999872</td>\n",
       "      <td></td>\n",
       "      <td>47.532667</td>\n",
       "      <td>-122.668833</td>\n",
       "      <td>16.25</td>\n",
       "      <td>10.097775</td>\n",
       "    </tr>\n",
       "    <tr>\n",
       "      <th>2017-01-01 19:05:47.440000000</th>\n",
       "      <td>9951237</td>\n",
       "      <td>1.02</td>\n",
       "      <td>l</td>\n",
       "      <td>1.483298e+09</td>\n",
       "      <td>2017-01-01 19:05:47.440000000</td>\n",
       "      <td>2017-01-01 12:05:47.440000000</td>\n",
       "      <td></td>\n",
       "      <td>47.643500</td>\n",
       "      <td>-122.529833</td>\n",
       "      <td>24.82</td>\n",
       "      <td>15.423186</td>\n",
       "    </tr>\n",
       "  </tbody>\n",
       "</table>\n",
       "<p>153 rows × 11 columns</p>\n",
       "</div>"
      ],
      "text/plain": [
       "                                   Evid  Magnitude Magnitude Type  \\\n",
       "2017-12-31 18:43:40.689999872  10599796       1.93              l   \n",
       "2017-12-18 23:57:10.969999872  10565357       0.58              l   \n",
       "2017-11-22 16:22:28.809999872  10556793       2.20              l   \n",
       "2017-11-04 09:52:41.350000128  10452436       1.09              l   \n",
       "2017-11-01 07:38:51.700000000  10450892       1.33              l   \n",
       "...                                 ...        ...            ...   \n",
       "2017-01-25 14:03:57.320000000   9994944       0.20              d   \n",
       "2017-01-25 14:03:20.620000000   9994937       0.87              l   \n",
       "2017-01-24 21:11:54.440000000   9994694       1.31              d   \n",
       "2017-01-24 18:46:16.009999872   9994626       0.86              l   \n",
       "2017-01-01 19:05:47.440000000   9951237       1.02              l   \n",
       "\n",
       "                                 Epoch(UTC)                      Time UTC  \\\n",
       "2017-12-31 18:43:40.689999872  1.514746e+09 2017-12-31 18:43:40.689999872   \n",
       "2017-12-18 23:57:10.969999872  1.513641e+09 2017-12-18 23:57:10.969999872   \n",
       "2017-11-22 16:22:28.809999872  1.511368e+09 2017-11-22 16:22:28.809999872   \n",
       "2017-11-04 09:52:41.350000128  1.509789e+09 2017-11-04 09:52:41.350000128   \n",
       "2017-11-01 07:38:51.700000000  1.509522e+09 2017-11-01 07:38:51.700000000   \n",
       "...                                     ...                           ...   \n",
       "2017-01-25 14:03:57.320000000  1.485353e+09 2017-01-25 14:03:57.320000000   \n",
       "2017-01-25 14:03:20.620000000  1.485353e+09 2017-01-25 14:03:20.620000000   \n",
       "2017-01-24 21:11:54.440000000  1.485292e+09 2017-01-24 21:11:54.440000000   \n",
       "2017-01-24 18:46:16.009999872  1.485284e+09 2017-01-24 18:46:16.009999872   \n",
       "2017-01-01 19:05:47.440000000  1.483298e+09 2017-01-01 19:05:47.440000000   \n",
       "\n",
       "                                                 Time Local Distance From  \\\n",
       "2017-12-31 18:43:40.689999872 2017-12-31 11:43:40.689999872                 \n",
       "2017-12-18 23:57:10.969999872 2017-12-18 16:57:10.969999872                 \n",
       "2017-11-22 16:22:28.809999872 2017-11-22 09:22:28.809999872                 \n",
       "2017-11-04 09:52:41.350000128 2017-11-04 02:52:41.350000128                 \n",
       "2017-11-01 07:38:51.700000000 2017-11-01 00:38:51.700000000                 \n",
       "...                                                     ...           ...   \n",
       "2017-01-25 14:03:57.320000000 2017-01-25 07:03:57.320000000                 \n",
       "2017-01-25 14:03:20.620000000 2017-01-25 07:03:20.620000000                 \n",
       "2017-01-24 21:11:54.440000000 2017-01-24 14:11:54.440000000                 \n",
       "2017-01-24 18:46:16.009999872 2017-01-24 11:46:16.009999872                 \n",
       "2017-01-01 19:05:47.440000000 2017-01-01 12:05:47.440000000                 \n",
       "\n",
       "                                     Lat         Lon  Depth Km   Depth Mi  \n",
       "2017-12-31 18:43:40.689999872  47.587167 -122.579333     21.95  13.639763  \n",
       "2017-12-18 23:57:10.969999872  47.645667 -122.641333      4.74   2.945443  \n",
       "2017-11-22 16:22:28.809999872  47.593500 -122.562833     22.10  13.732973  \n",
       "2017-11-04 09:52:41.350000128  47.600167 -122.558167     18.54  11.520784  \n",
       "2017-11-01 07:38:51.700000000  47.635333 -122.591500     22.83  14.186597  \n",
       "...                                  ...         ...       ...        ...  \n",
       "2017-01-25 14:03:57.320000000  47.571500 -122.495500      8.31   5.163847  \n",
       "2017-01-25 14:03:20.620000000  47.527667 -122.631667     22.66  14.080958  \n",
       "2017-01-24 21:11:54.440000000  47.507667 -122.646500     -0.43  -0.267203  \n",
       "2017-01-24 18:46:16.009999872  47.532667 -122.668833     16.25  10.097775  \n",
       "2017-01-01 19:05:47.440000000  47.643500 -122.529833     24.82  15.423186  \n",
       "\n",
       "[153 rows x 11 columns]"
      ]
     },
     "metadata": {},
     "output_type": "display_data"
    }
   ],
   "source": [
    "# Download catalog from Client\n",
    "cat = client.get_events(**qevent_kwargs,includearrivals=True,includeallmagnitudes=True,includeallorigins=True)\n",
    "# print(cat.__str__(print_all=True))\n",
    "\n",
    "# cat.plot()\n",
    "# Do basic extraction to dataframe matching PNSN query output format\n",
    "fields = ['Evid','Magnitude','Magnitude Type','Epoch(UTC)',\\\n",
    "          'Time UTC','Time Local','Distance From','Lat','Lon',\\\n",
    "          'Depth Km','Depth Mi']\n",
    "holder =[]; index = []\n",
    "for e_ in cat.events:\n",
    "    Evid = int(e_.resource_id.id.split('=')[-1])\n",
    "    for m_ in e_.magnitudes:\n",
    "        if m_.resource_id == e_.preferred_magnitude_id:\n",
    "            Mag = float(m_.mag)\n",
    "            MagType = m_.magnitude_type[-1]\n",
    "    for o_ in e_.origins:\n",
    "        if o_.resource_id == e_.preferred_origin_id:\n",
    "            Epoch = o_.time.timestamp\n",
    "            tUTC = pd.Timestamp(Epoch*1e9)\n",
    "            tLOC = tUTC - pd.Timedelta(7,unit='hour')\n",
    "            dFROM = ''\n",
    "            Lat = o_.latitude\n",
    "            Lon = o_.longitude\n",
    "            zKm = o_.depth*1e-3\n",
    "            zMi = km2mi(zKm)\n",
    "    index.append(tUTC)\n",
    "    line = [Evid,Mag,MagType,Epoch,tUTC,tLOC,dFROM,Lat,Lon,zKm,zMi]\n",
    "    holder.append(line)\n",
    "\n",
    "df_EVE = pd.DataFrame(holder,columns=fields,index=index)\n",
    "df_EVE.sort_index()\n",
    "display(df_EVE)\n"
   ]
  },
  {
   "cell_type": "code",
   "execution_count": 41,
   "metadata": {},
   "outputs": [],
   "source": [
    "# # Load PNSN queried catalog data from custom queries for Bremerton-Adjacent Swarm (BRM)\n",
    "# df_BRM_full = pd.read_csv(os.path.join('data','2017-05_BRM','pnsn_event_catalog_2017_BRM_cluster.csv'),\\\n",
    "#                           parse_dates=['Time UTC'],index_col='Time UTC')\n",
    "# # Sort by index\n",
    "# df_BRM_full = df_BRM_full.sort_index()\n",
    "# # Filter by query times\n",
    "# # Translate from obspy.UTCDateTime --> pandas.Timestamp\n",
    "# pdTS = pd.Timestamp(TSstr)\n",
    "# pdTE = pd.Timestamp(TEstr)\n",
    "\n",
    "# # Filter to period of interest\n",
    "# df_EVE = df_BRM_full[(df_BRM_full.index >= pdTS) & (df_BRM_full.index <= pdTE)]\n",
    "# print(len(df_EVE))\n",
    "# print(df_EVE)\n"
   ]
  },
  {
   "cell_type": "code",
   "execution_count": 55,
   "metadata": {},
   "outputs": [
    {
     "name": "stdout",
     "output_type": "stream",
     "text": [
      "   network station   latitude   longitude  elevation Band/Inst Code\n",
      "0       GM    AB03  47.546510 -122.268990     109.00             HH\n",
      "1       GM    AB04  47.606190 -122.300630      93.00             HH\n",
      "2       GM    AB05  47.553650 -122.275540      44.00             HH\n",
      "3       GM    AB06  47.548330 -122.282800      48.00             HH\n",
      "4       GM    AB07  47.601325 -122.303275     121.00             HH\n",
      "5       GM    AB08  47.602730 -122.308760      89.00             HH\n",
      "6       GM    AB09  47.599767 -122.296633     115.00             HH\n",
      "7       GM    AB10  47.597150 -122.305650      82.00             HH\n",
      "8       GM    AB11  47.547988 -122.276570     -28.00             HH\n",
      "9       GM    AB13  47.618205 -122.287154      67.23             HH\n",
      "10      GM    AB14  47.612638 -122.290006     101.59             HH\n",
      "11      GM    AB15  47.614959 -122.300982      94.72             HH\n",
      "12      GM    AB16  47.615641 -122.295617      56.28             HH\n",
      "13      GM    AB17  47.612461 -122.303320      97.29             HH\n",
      "14      GS     WE2  47.574501 -122.384102     116.00             EH\n",
      "15      UW    ALKI  47.575100 -122.417600       1.00             EH\n",
      "16      UW    BABE  47.605650 -122.536520      84.10             EN\n",
      "17      UW    BES3  47.642021 -122.525337      57.00             EN\n",
      "18      UW    BES4  47.642681 -122.646469      63.00             EN\n",
      "19      UW    BES5  47.584480 -122.568871       4.00             EN\n",
      "20      UW    BRKS  47.755196 -122.290131      23.00             EN\n",
      "21      UW    BSFP  47.531864 -122.307770       4.00             EN\n",
      "22      UW     GMW  47.548800 -122.785460     520.00             EH\n",
      "23      UW     GNW  47.564130 -122.824980     220.00             BH\n",
      "24      UW    GTWN  47.551212 -122.322006       9.00             EN\n",
      "25      UW    HART  47.583765 -122.350098       2.00             EN\n",
      "26      UW    HOLY  47.565400 -122.383600     106.00             EN\n",
      "27      UW    KCAM  47.544200 -122.318480       6.00             EN\n",
      "28      UW     KDK  47.595030 -122.333530       4.20             EN\n",
      "29      UW    KIMB  47.574800 -122.302800      69.00             EN\n",
      "30      UW    KIMR  47.502669 -122.768563     121.81             EN\n",
      "31      UW    KINR  47.752022 -122.644035       8.36             EN\n",
      "32      UW    KITP  47.675201 -122.629745      49.00             EN\n",
      "33      UW    LAWT  47.656940 -122.390620      49.00             EN\n",
      "34      UW    MNWA  47.565029 -122.534142       8.00             EN\n",
      "35      UW    NOWS  47.686300 -122.254440      21.00             EN\n",
      "36      UW    PIER  47.583500 -122.340200       5.00             EN\n",
      "37      UW    PSNS  47.562729 -122.637634      26.00             EN\n",
      "38      UW    RAD1  47.636130 -122.363338     120.10             HH\n",
      "39      UW    RAD2  47.631647 -122.358355     114.80             HH\n",
      "40      UW    RAD3  47.633865 -122.362605     126.50             HH\n",
      "41      UW    RAD4  47.638039 -122.354970     121.50             HH\n",
      "42      UW    RAD5  47.635691 -122.356663     120.80             HH\n",
      "43      UW    RAD6  47.633671 -122.351162     137.40             HH\n",
      "44      UW     SCC  47.749649 -122.361053     147.00             EN\n",
      "45      UW     SEA  47.654209 -122.309380      30.00             EN\n",
      "46      UW     SP2  47.556290 -122.249229      22.20             BH\n",
      "47      UW    SSS1  47.581799 -122.331093       5.00             EN\n",
      "48      UW    SSS2  47.581800 -122.331090       5.00             EN\n",
      "49      UW    TKCO  47.536680 -122.301650       5.00             EN\n",
      "50      UW    VVHS  47.423355 -122.455276      98.00             EH\n"
     ]
    }
   ],
   "source": [
    "# Compile station locations \n",
    "sta_llh = []\n",
    "for N_ in inv.networks:\n",
    "    for S_ in N_.stations:\n",
    "        sta_llh.append([N_.code,S_.code,S_.latitude,S_.longitude,S_.elevation,S_.channels[0].code[:2]])\n",
    "\n",
    "df_STA = pd.DataFrame(sta_llh,columns=['network','station','latitude','longitude','elevation','Band/Inst Code'])\n",
    "\n",
    "print(df_STA)     "
   ]
  },
  {
   "cell_type": "code",
   "execution_count": null,
   "metadata": {},
   "outputs": [],
   "source": []
  },
  {
   "cell_type": "code",
   "execution_count": 61,
   "metadata": {},
   "outputs": [
    {
     "name": "stderr",
     "output_type": "stream",
     "text": [
      "/Users/nates/miniconda3/envs/mlgeoM1/lib/python3.9/site-packages/_plotly_utils/basevalidators.py:105: FutureWarning:\n",
      "\n",
      "The behavior of DatetimeProperties.to_pydatetime is deprecated, in a future version this will return a Series containing python datetime objects instead of an ndarray. To retain the old behavior, call `np.array` on the result\n",
      "\n"
     ]
    },
    {
     "data": {
      "application/vnd.plotly.v1+json": {
       "config": {
        "plotlyServerURL": "https://plot.ly"
       },
       "data": [
        {
         "hovertemplate": "Time UTC=%{x}<br>Magnitude=%{y}<extra></extra>",
         "legendgroup": "",
         "marker": {
          "color": "#636efa",
          "symbol": "circle"
         },
         "mode": "markers",
         "name": "",
         "orientation": "v",
         "showlegend": false,
         "type": "scatter",
         "x": [
          "2017-12-31T18:43:40.689999",
          "2017-12-18T23:57:10.969999",
          "2017-11-22T16:22:28.809999",
          "2017-11-04T09:52:41.350000",
          "2017-11-01T07:38:51.700000",
          "2017-10-29T11:51:15.649999",
          "2017-10-19T08:17:18.169999",
          "2017-09-24T18:47:49.249999",
          "2017-09-17T19:58:53.060000",
          "2017-09-05T23:01:10.940000",
          "2017-09-04T20:51:33.700000",
          "2017-09-02T16:27:15.300000",
          "2017-08-30T09:12:14.910000",
          "2017-08-29T01:57:39.729999",
          "2017-08-22T07:35:00.720000",
          "2017-08-17T09:39:22.760000",
          "2017-08-14T13:26:52.630000",
          "2017-08-14T03:19:38",
          "2017-08-13T21:25:44.500000",
          "2017-08-13T17:53:26.800000",
          "2017-08-13T17:12:20.030000",
          "2017-08-12T12:32:58.540000",
          "2017-08-08T22:21:13.729999",
          "2017-08-08T20:02:55.310000",
          "2017-08-08T19:33:52.910000",
          "2017-08-07T16:41:20.800000",
          "2017-08-02T10:29:26.120000",
          "2017-07-25T13:42:31.329999",
          "2017-07-25T09:08:43.110000",
          "2017-07-14T18:52:38.100000",
          "2017-07-12T19:32:32.840000",
          "2017-07-06T15:12:36.070000",
          "2017-06-26T06:52:23.870000",
          "2017-06-24T17:44:01.809999",
          "2017-06-23T16:01:39.329999",
          "2017-06-18T22:51:31.110000",
          "2017-06-18T20:48:38.390000",
          "2017-06-18T20:45:27.550000",
          "2017-06-15T15:36:50.929999",
          "2017-06-15T10:27:56.030000",
          "2017-06-12T17:03:33.889999",
          "2017-06-11T18:53:04.940000",
          "2017-06-11T15:45:45.740000",
          "2017-06-10T02:46:27.800000",
          "2017-06-01T08:14:29.009999",
          "2017-05-31T15:55:49.980000",
          "2017-05-31T12:06:13.380000",
          "2017-05-31T10:19:04.030000",
          "2017-05-29T04:55:56.849999",
          "2017-05-26T23:35:09.660000",
          "2017-05-25T08:48:11.700000",
          "2017-05-23T08:25:59.240000",
          "2017-05-21T21:42:24.640000",
          "2017-05-21T21:10:33.860000",
          "2017-05-21T20:43:51.280000",
          "2017-05-21T12:32:52.889999",
          "2017-05-21T10:54:51.440000",
          "2017-05-21T05:52:29.449999",
          "2017-05-21T01:12:24.929999",
          "2017-05-20T01:21:51.300000",
          "2017-05-19T20:33:12.360000",
          "2017-05-19T18:58:03.220000",
          "2017-05-18T18:17:14.540000",
          "2017-05-18T18:15:32.560000",
          "2017-05-18T18:11:32.449999",
          "2017-05-18T10:31:26.769999",
          "2017-05-18T09:13:51.460000",
          "2017-05-18T07:26:42.540000",
          "2017-05-16T04:55:04.670000",
          "2017-05-16T01:14:28.849999",
          "2017-05-15T22:49:28.860000",
          "2017-05-15T18:29:13.929999",
          "2017-05-15T12:19:41.569999",
          "2017-05-14T06:33:18.440000",
          "2017-05-13T14:23:59.649999",
          "2017-05-13T14:23:20.500000",
          "2017-05-12T02:02:56.860000",
          "2017-05-11T22:05:13.400000",
          "2017-05-11T22:04:52.420000",
          "2017-05-11T22:02:48.280000",
          "2017-05-11T13:57:45.720000",
          "2017-05-11T10:27:18.969999",
          "2017-05-11T09:36:36.720000",
          "2017-05-11T09:27:40.420000",
          "2017-05-11T09:19:09.849999",
          "2017-05-11T09:04:43.800000",
          "2017-05-11T09:00:56.070000",
          "2017-05-11T08:37:57.510000",
          "2017-05-11T08:19:37.400000",
          "2017-05-11T07:41:13.200000",
          "2017-05-11T07:40:44.129999",
          "2017-05-11T07:35:24.720000",
          "2017-05-11T02:56:28.169999",
          "2017-05-11T02:31:17.910000",
          "2017-05-11T01:49:33.960000",
          "2017-05-11T00:41:03.700000",
          "2017-05-10T22:47:36.169999",
          "2017-05-10T21:27:56.049999",
          "2017-05-10T14:58:10.020000",
          "2017-05-10T13:50:38.860000",
          "2017-05-10T13:40:54.680000",
          "2017-05-10T12:13:50.929999",
          "2017-05-10T11:18:54.140000",
          "2017-05-10T10:36:43.510000",
          "2017-05-10T10:05:42.729999",
          "2017-05-10T09:55:54",
          "2017-05-10T08:40:48.649999",
          "2017-05-10T08:21:33.620000",
          "2017-05-10T08:20:06.400000",
          "2017-05-10T08:14:32.089999",
          "2017-05-09T21:44:43.510000",
          "2017-05-09T17:49:53.230000",
          "2017-05-09T15:48:59.260000",
          "2017-05-09T10:15:57.640000",
          "2017-05-08T19:48:13.860000",
          "2017-05-08T15:00:17.480000",
          "2017-05-07T23:16:48.480000",
          "2017-05-07T19:07:38.070000",
          "2017-05-06T03:51:11.980000",
          "2017-05-05T04:03:13.520000",
          "2017-05-05T03:19:48.320000",
          "2017-05-04T20:43:43.340000",
          "2017-05-04T19:06:35.849999",
          "2017-05-04T15:19:07.070000",
          "2017-05-04T13:45:49.840000",
          "2017-05-04T13:17:16.120000",
          "2017-05-04T11:56:22.680000",
          "2017-05-04T11:20:51.990000",
          "2017-05-04T07:43:46.440000",
          "2017-05-04T07:42:53.240000",
          "2017-05-04T07:40:18.350000",
          "2017-05-04T06:32:36.600000",
          "2017-05-04T04:59:08.110000",
          "2017-05-04T04:20:02.460000",
          "2017-05-03T22:33:02.860000",
          "2017-05-03T22:05:43.569999",
          "2017-05-03T21:58:17.120000",
          "2017-05-03T21:58:17.070000",
          "2017-05-03T21:43:18.560000",
          "2017-05-03T20:35:27.830000",
          "2017-05-03T20:02:35.940000",
          "2017-05-03T19:54:20",
          "2017-05-03T19:31:22.409999",
          "2017-05-03T19:28:45.380000",
          "2017-05-03T19:20:36.470000",
          "2017-03-31T16:03:28.400000",
          "2017-03-15T17:57:25.860000",
          "2017-01-25T17:03:40.830000",
          "2017-01-25T14:03:57.320000",
          "2017-01-25T14:03:20.620000",
          "2017-01-24T21:11:54.440000",
          "2017-01-24T18:46:16.009999",
          "2017-01-01T19:05:47.440000"
         ],
         "xaxis": "x",
         "y": [
          1.93,
          0.58,
          2.2,
          1.09,
          1.33,
          1.35,
          1.98,
          1.51,
          1,
          0.68,
          1.11,
          1.18,
          0.96,
          1.27,
          0.94,
          1.46,
          0.74,
          0.85,
          1.05,
          0.67,
          2.45,
          0.99,
          2.03,
          1.43,
          1.91,
          1.32,
          0.85,
          1.15,
          2.7,
          1.6,
          1.51,
          1.3,
          1.01,
          0.81,
          1.03,
          1.04,
          1.21,
          0.71,
          0.38,
          1.06,
          1.9,
          2.03,
          1.38,
          0.83,
          1.25,
          1.45,
          1.09,
          1.55,
          1.46,
          1.75,
          0.75,
          1.41,
          1.16,
          1.76,
          2.77,
          1.59,
          0.91,
          2.02,
          1.71,
          1.64,
          0.59,
          1.19,
          1.13,
          2.5,
          2.17,
          0.89,
          1.12,
          0.82,
          0.93,
          1.72,
          1.22,
          0.34,
          0.27,
          0.96,
          0.37,
          1.34,
          1.04,
          1.58,
          1.53,
          1.07,
          0.3,
          1.33,
          2.6,
          1.07,
          2.08,
          0.83,
          1.09,
          1.5,
          1.3,
          0.31,
          0.96,
          3.5,
          0.36,
          1.53,
          0.31,
          0.98,
          1.6,
          1.9,
          1.21,
          0.95,
          0.96,
          1.46,
          2.22,
          1.08,
          1.45,
          1.01,
          1.36,
          1.6,
          0.85,
          3.38,
          1.85,
          1.14,
          1.73,
          1.1,
          1.45,
          1.31,
          1.23,
          1.61,
          0.36,
          0.36,
          2.33,
          1.25,
          2.06,
          1.78,
          0.37,
          1.81,
          1.31,
          2.46,
          2.28,
          1.85,
          0.71,
          1.88,
          1.96,
          0.88,
          1.57,
          2.3,
          1.64,
          1.64,
          1.54,
          1.2,
          1.53,
          1.5,
          2.04,
          1.51,
          3.31,
          0.69,
          1.16,
          1.03,
          0.2,
          0.87,
          1.31,
          0.86,
          1.02
         ],
         "yaxis": "y"
        }
       ],
       "layout": {
        "legend": {
         "tracegroupgap": 0
        },
        "margin": {
         "t": 60
        },
        "template": {
         "data": {
          "bar": [
           {
            "error_x": {
             "color": "#2a3f5f"
            },
            "error_y": {
             "color": "#2a3f5f"
            },
            "marker": {
             "line": {
              "color": "#E5ECF6",
              "width": 0.5
             },
             "pattern": {
              "fillmode": "overlay",
              "size": 10,
              "solidity": 0.2
             }
            },
            "type": "bar"
           }
          ],
          "barpolar": [
           {
            "marker": {
             "line": {
              "color": "#E5ECF6",
              "width": 0.5
             },
             "pattern": {
              "fillmode": "overlay",
              "size": 10,
              "solidity": 0.2
             }
            },
            "type": "barpolar"
           }
          ],
          "carpet": [
           {
            "aaxis": {
             "endlinecolor": "#2a3f5f",
             "gridcolor": "white",
             "linecolor": "white",
             "minorgridcolor": "white",
             "startlinecolor": "#2a3f5f"
            },
            "baxis": {
             "endlinecolor": "#2a3f5f",
             "gridcolor": "white",
             "linecolor": "white",
             "minorgridcolor": "white",
             "startlinecolor": "#2a3f5f"
            },
            "type": "carpet"
           }
          ],
          "choropleth": [
           {
            "colorbar": {
             "outlinewidth": 0,
             "ticks": ""
            },
            "type": "choropleth"
           }
          ],
          "contour": [
           {
            "colorbar": {
             "outlinewidth": 0,
             "ticks": ""
            },
            "colorscale": [
             [
              0,
              "#0d0887"
             ],
             [
              0.1111111111111111,
              "#46039f"
             ],
             [
              0.2222222222222222,
              "#7201a8"
             ],
             [
              0.3333333333333333,
              "#9c179e"
             ],
             [
              0.4444444444444444,
              "#bd3786"
             ],
             [
              0.5555555555555556,
              "#d8576b"
             ],
             [
              0.6666666666666666,
              "#ed7953"
             ],
             [
              0.7777777777777778,
              "#fb9f3a"
             ],
             [
              0.8888888888888888,
              "#fdca26"
             ],
             [
              1,
              "#f0f921"
             ]
            ],
            "type": "contour"
           }
          ],
          "contourcarpet": [
           {
            "colorbar": {
             "outlinewidth": 0,
             "ticks": ""
            },
            "type": "contourcarpet"
           }
          ],
          "heatmap": [
           {
            "colorbar": {
             "outlinewidth": 0,
             "ticks": ""
            },
            "colorscale": [
             [
              0,
              "#0d0887"
             ],
             [
              0.1111111111111111,
              "#46039f"
             ],
             [
              0.2222222222222222,
              "#7201a8"
             ],
             [
              0.3333333333333333,
              "#9c179e"
             ],
             [
              0.4444444444444444,
              "#bd3786"
             ],
             [
              0.5555555555555556,
              "#d8576b"
             ],
             [
              0.6666666666666666,
              "#ed7953"
             ],
             [
              0.7777777777777778,
              "#fb9f3a"
             ],
             [
              0.8888888888888888,
              "#fdca26"
             ],
             [
              1,
              "#f0f921"
             ]
            ],
            "type": "heatmap"
           }
          ],
          "heatmapgl": [
           {
            "colorbar": {
             "outlinewidth": 0,
             "ticks": ""
            },
            "colorscale": [
             [
              0,
              "#0d0887"
             ],
             [
              0.1111111111111111,
              "#46039f"
             ],
             [
              0.2222222222222222,
              "#7201a8"
             ],
             [
              0.3333333333333333,
              "#9c179e"
             ],
             [
              0.4444444444444444,
              "#bd3786"
             ],
             [
              0.5555555555555556,
              "#d8576b"
             ],
             [
              0.6666666666666666,
              "#ed7953"
             ],
             [
              0.7777777777777778,
              "#fb9f3a"
             ],
             [
              0.8888888888888888,
              "#fdca26"
             ],
             [
              1,
              "#f0f921"
             ]
            ],
            "type": "heatmapgl"
           }
          ],
          "histogram": [
           {
            "marker": {
             "pattern": {
              "fillmode": "overlay",
              "size": 10,
              "solidity": 0.2
             }
            },
            "type": "histogram"
           }
          ],
          "histogram2d": [
           {
            "colorbar": {
             "outlinewidth": 0,
             "ticks": ""
            },
            "colorscale": [
             [
              0,
              "#0d0887"
             ],
             [
              0.1111111111111111,
              "#46039f"
             ],
             [
              0.2222222222222222,
              "#7201a8"
             ],
             [
              0.3333333333333333,
              "#9c179e"
             ],
             [
              0.4444444444444444,
              "#bd3786"
             ],
             [
              0.5555555555555556,
              "#d8576b"
             ],
             [
              0.6666666666666666,
              "#ed7953"
             ],
             [
              0.7777777777777778,
              "#fb9f3a"
             ],
             [
              0.8888888888888888,
              "#fdca26"
             ],
             [
              1,
              "#f0f921"
             ]
            ],
            "type": "histogram2d"
           }
          ],
          "histogram2dcontour": [
           {
            "colorbar": {
             "outlinewidth": 0,
             "ticks": ""
            },
            "colorscale": [
             [
              0,
              "#0d0887"
             ],
             [
              0.1111111111111111,
              "#46039f"
             ],
             [
              0.2222222222222222,
              "#7201a8"
             ],
             [
              0.3333333333333333,
              "#9c179e"
             ],
             [
              0.4444444444444444,
              "#bd3786"
             ],
             [
              0.5555555555555556,
              "#d8576b"
             ],
             [
              0.6666666666666666,
              "#ed7953"
             ],
             [
              0.7777777777777778,
              "#fb9f3a"
             ],
             [
              0.8888888888888888,
              "#fdca26"
             ],
             [
              1,
              "#f0f921"
             ]
            ],
            "type": "histogram2dcontour"
           }
          ],
          "mesh3d": [
           {
            "colorbar": {
             "outlinewidth": 0,
             "ticks": ""
            },
            "type": "mesh3d"
           }
          ],
          "parcoords": [
           {
            "line": {
             "colorbar": {
              "outlinewidth": 0,
              "ticks": ""
             }
            },
            "type": "parcoords"
           }
          ],
          "pie": [
           {
            "automargin": true,
            "type": "pie"
           }
          ],
          "scatter": [
           {
            "fillpattern": {
             "fillmode": "overlay",
             "size": 10,
             "solidity": 0.2
            },
            "type": "scatter"
           }
          ],
          "scatter3d": [
           {
            "line": {
             "colorbar": {
              "outlinewidth": 0,
              "ticks": ""
             }
            },
            "marker": {
             "colorbar": {
              "outlinewidth": 0,
              "ticks": ""
             }
            },
            "type": "scatter3d"
           }
          ],
          "scattercarpet": [
           {
            "marker": {
             "colorbar": {
              "outlinewidth": 0,
              "ticks": ""
             }
            },
            "type": "scattercarpet"
           }
          ],
          "scattergeo": [
           {
            "marker": {
             "colorbar": {
              "outlinewidth": 0,
              "ticks": ""
             }
            },
            "type": "scattergeo"
           }
          ],
          "scattergl": [
           {
            "marker": {
             "colorbar": {
              "outlinewidth": 0,
              "ticks": ""
             }
            },
            "type": "scattergl"
           }
          ],
          "scattermapbox": [
           {
            "marker": {
             "colorbar": {
              "outlinewidth": 0,
              "ticks": ""
             }
            },
            "type": "scattermapbox"
           }
          ],
          "scatterpolar": [
           {
            "marker": {
             "colorbar": {
              "outlinewidth": 0,
              "ticks": ""
             }
            },
            "type": "scatterpolar"
           }
          ],
          "scatterpolargl": [
           {
            "marker": {
             "colorbar": {
              "outlinewidth": 0,
              "ticks": ""
             }
            },
            "type": "scatterpolargl"
           }
          ],
          "scatterternary": [
           {
            "marker": {
             "colorbar": {
              "outlinewidth": 0,
              "ticks": ""
             }
            },
            "type": "scatterternary"
           }
          ],
          "surface": [
           {
            "colorbar": {
             "outlinewidth": 0,
             "ticks": ""
            },
            "colorscale": [
             [
              0,
              "#0d0887"
             ],
             [
              0.1111111111111111,
              "#46039f"
             ],
             [
              0.2222222222222222,
              "#7201a8"
             ],
             [
              0.3333333333333333,
              "#9c179e"
             ],
             [
              0.4444444444444444,
              "#bd3786"
             ],
             [
              0.5555555555555556,
              "#d8576b"
             ],
             [
              0.6666666666666666,
              "#ed7953"
             ],
             [
              0.7777777777777778,
              "#fb9f3a"
             ],
             [
              0.8888888888888888,
              "#fdca26"
             ],
             [
              1,
              "#f0f921"
             ]
            ],
            "type": "surface"
           }
          ],
          "table": [
           {
            "cells": {
             "fill": {
              "color": "#EBF0F8"
             },
             "line": {
              "color": "white"
             }
            },
            "header": {
             "fill": {
              "color": "#C8D4E3"
             },
             "line": {
              "color": "white"
             }
            },
            "type": "table"
           }
          ]
         },
         "layout": {
          "annotationdefaults": {
           "arrowcolor": "#2a3f5f",
           "arrowhead": 0,
           "arrowwidth": 1
          },
          "autotypenumbers": "strict",
          "coloraxis": {
           "colorbar": {
            "outlinewidth": 0,
            "ticks": ""
           }
          },
          "colorscale": {
           "diverging": [
            [
             0,
             "#8e0152"
            ],
            [
             0.1,
             "#c51b7d"
            ],
            [
             0.2,
             "#de77ae"
            ],
            [
             0.3,
             "#f1b6da"
            ],
            [
             0.4,
             "#fde0ef"
            ],
            [
             0.5,
             "#f7f7f7"
            ],
            [
             0.6,
             "#e6f5d0"
            ],
            [
             0.7,
             "#b8e186"
            ],
            [
             0.8,
             "#7fbc41"
            ],
            [
             0.9,
             "#4d9221"
            ],
            [
             1,
             "#276419"
            ]
           ],
           "sequential": [
            [
             0,
             "#0d0887"
            ],
            [
             0.1111111111111111,
             "#46039f"
            ],
            [
             0.2222222222222222,
             "#7201a8"
            ],
            [
             0.3333333333333333,
             "#9c179e"
            ],
            [
             0.4444444444444444,
             "#bd3786"
            ],
            [
             0.5555555555555556,
             "#d8576b"
            ],
            [
             0.6666666666666666,
             "#ed7953"
            ],
            [
             0.7777777777777778,
             "#fb9f3a"
            ],
            [
             0.8888888888888888,
             "#fdca26"
            ],
            [
             1,
             "#f0f921"
            ]
           ],
           "sequentialminus": [
            [
             0,
             "#0d0887"
            ],
            [
             0.1111111111111111,
             "#46039f"
            ],
            [
             0.2222222222222222,
             "#7201a8"
            ],
            [
             0.3333333333333333,
             "#9c179e"
            ],
            [
             0.4444444444444444,
             "#bd3786"
            ],
            [
             0.5555555555555556,
             "#d8576b"
            ],
            [
             0.6666666666666666,
             "#ed7953"
            ],
            [
             0.7777777777777778,
             "#fb9f3a"
            ],
            [
             0.8888888888888888,
             "#fdca26"
            ],
            [
             1,
             "#f0f921"
            ]
           ]
          },
          "colorway": [
           "#636efa",
           "#EF553B",
           "#00cc96",
           "#ab63fa",
           "#FFA15A",
           "#19d3f3",
           "#FF6692",
           "#B6E880",
           "#FF97FF",
           "#FECB52"
          ],
          "font": {
           "color": "#2a3f5f"
          },
          "geo": {
           "bgcolor": "white",
           "lakecolor": "white",
           "landcolor": "#E5ECF6",
           "showlakes": true,
           "showland": true,
           "subunitcolor": "white"
          },
          "hoverlabel": {
           "align": "left"
          },
          "hovermode": "closest",
          "mapbox": {
           "style": "light"
          },
          "paper_bgcolor": "white",
          "plot_bgcolor": "#E5ECF6",
          "polar": {
           "angularaxis": {
            "gridcolor": "white",
            "linecolor": "white",
            "ticks": ""
           },
           "bgcolor": "#E5ECF6",
           "radialaxis": {
            "gridcolor": "white",
            "linecolor": "white",
            "ticks": ""
           }
          },
          "scene": {
           "xaxis": {
            "backgroundcolor": "#E5ECF6",
            "gridcolor": "white",
            "gridwidth": 2,
            "linecolor": "white",
            "showbackground": true,
            "ticks": "",
            "zerolinecolor": "white"
           },
           "yaxis": {
            "backgroundcolor": "#E5ECF6",
            "gridcolor": "white",
            "gridwidth": 2,
            "linecolor": "white",
            "showbackground": true,
            "ticks": "",
            "zerolinecolor": "white"
           },
           "zaxis": {
            "backgroundcolor": "#E5ECF6",
            "gridcolor": "white",
            "gridwidth": 2,
            "linecolor": "white",
            "showbackground": true,
            "ticks": "",
            "zerolinecolor": "white"
           }
          },
          "shapedefaults": {
           "line": {
            "color": "#2a3f5f"
           }
          },
          "ternary": {
           "aaxis": {
            "gridcolor": "white",
            "linecolor": "white",
            "ticks": ""
           },
           "baxis": {
            "gridcolor": "white",
            "linecolor": "white",
            "ticks": ""
           },
           "bgcolor": "#E5ECF6",
           "caxis": {
            "gridcolor": "white",
            "linecolor": "white",
            "ticks": ""
           }
          },
          "title": {
           "x": 0.05
          },
          "xaxis": {
           "automargin": true,
           "gridcolor": "white",
           "linecolor": "white",
           "ticks": "",
           "title": {
            "standoff": 15
           },
           "zerolinecolor": "white",
           "zerolinewidth": 2
          },
          "yaxis": {
           "automargin": true,
           "gridcolor": "white",
           "linecolor": "white",
           "ticks": "",
           "title": {
            "standoff": 15
           },
           "zerolinecolor": "white",
           "zerolinewidth": 2
          }
         }
        },
        "xaxis": {
         "anchor": "y",
         "domain": [
          0,
          1
         ],
         "title": {
          "text": "Time UTC"
         }
        },
        "yaxis": {
         "anchor": "x",
         "domain": [
          0,
          1
         ],
         "title": {
          "text": "Magnitude"
         }
        }
       }
      }
     },
     "metadata": {},
     "output_type": "display_data"
    },
    {
     "data": {
      "image/png": "[encoded data removed]",
      "text/plain": [
       "<Figure size 1000x1000 with 1 Axes>"
      ]
     },
     "metadata": {},
     "output_type": "display_data"
    }
   ],
   "source": [
    "# Plot stations and events\n",
    "fig = plt.figure(figsize=(10,10))\n",
    "ax = fig.add_subplot(111)\n",
    "ax.scatter(df_EVE['Lon'],df_EVE['Lat'],c=df_EVE.index,s=(16*df_EVE['Magnitude'].values)**2,cmap='viridis',alpha=0.05)\n",
    "for C_ in df_STA['Band/Inst Code'].unique():\n",
    "    ind = df_STA['Band/Inst Code']==C_\n",
    "    ax.plot(df_STA[ind]['longitude'],df_STA[ind]['latitude'],'v',ms=6,label=C_)\n",
    "\n",
    "for i_ in range(len(df_STA)):\n",
    "    ax.text(df_STA['longitude'].values[i_],df_STA['latitude'].values[i_],df_STA['station'].values[i_])\n",
    "ax.legend()\n",
    "\n",
    "# ax = fig.add_subplot(212)\n",
    "px.scatter(df_EVE,x='Time UTC',y='Magnitude')\n"
   ]
  },
  {
   "cell_type": "code",
   "execution_count": 15,
   "metadata": {},
   "outputs": [
    {
     "data": {
      "text/plain": [
       "<Figure size 640x480 with 0 Axes>"
      ]
     },
     "metadata": {},
     "output_type": "display_data"
    }
   ],
   "source": [
    "plt.figure()\n",
    "px.scatter_geo(df_STA,lon='longitude',lat='latitude',color='network')\n",
    "plt.show()"
   ]
  },
  {
   "cell_type": "markdown",
   "metadata": {},
   "source": []
  },
  {
   "cell_type": "markdown",
   "metadata": {},
   "source": [
    "# Produce a file list for rsync from a PNW_store server\n",
    "**Note** this must to be run in a separate terminal for security reasons  \n",
    "Command formula for remote --files-from `rsync` call:  \n",
    "`rsync -v --files-from=pnws_query.txt {USR}@{SERVER ADDRESS}:{PATH TO PNW{YEAR} CONTAINING DIR} {DESTINATION}`"
   ]
  },
  {
   "cell_type": "code",
   "execution_count": 62,
   "metadata": {},
   "outputs": [
    {
     "data": {
      "text/plain": [
       "['PNW2017/GM/2017/121/AB03.GM.2017.121',\n",
       " 'PNW2017/GM/2017/121/AB04.GM.2017.121',\n",
       " 'PNW2017/GM/2017/121/AB05.GM.2017.121',\n",
       " 'PNW2017/GM/2017/121/AB06.GM.2017.121',\n",
       " 'PNW2017/GM/2017/121/AB07.GM.2017.121',\n",
       " 'PNW2017/GM/2017/121/AB08.GM.2017.121',\n",
       " 'PNW2017/GM/2017/121/AB09.GM.2017.121',\n",
       " 'PNW2017/GM/2017/121/AB10.GM.2017.121',\n",
       " 'PNW2017/GM/2017/121/AB11.GM.2017.121',\n",
       " 'PNW2017/GM/2017/121/AB13.GM.2017.121',\n",
       " 'PNW2017/GM/2017/121/AB14.GM.2017.121',\n",
       " 'PNW2017/GM/2017/121/AB15.GM.2017.121',\n",
       " 'PNW2017/GM/2017/121/AB16.GM.2017.121',\n",
       " 'PNW2017/GM/2017/121/AB17.GM.2017.121',\n",
       " 'PNW2017/GS/2017/121/WE2.GS.2017.121',\n",
       " 'PNW2017/UW/2017/121/ALKI.UW.2017.121',\n",
       " 'PNW2017/UW/2017/121/BABE.UW.2017.121',\n",
       " 'PNW2017/UW/2017/121/BES3.UW.2017.121',\n",
       " 'PNW2017/UW/2017/121/BES4.UW.2017.121',\n",
       " 'PNW2017/UW/2017/121/BES5.UW.2017.121',\n",
       " 'PNW2017/UW/2017/121/BRKS.UW.2017.121',\n",
       " 'PNW2017/UW/2017/121/BSFP.UW.2017.121',\n",
       " 'PNW2017/UW/2017/121/GMW.UW.2017.121',\n",
       " 'PNW2017/UW/2017/121/GNW.UW.2017.121',\n",
       " 'PNW2017/UW/2017/121/GTWN.UW.2017.121',\n",
       " 'PNW2017/UW/2017/121/HART.UW.2017.121',\n",
       " 'PNW2017/UW/2017/121/HOLY.UW.2017.121',\n",
       " 'PNW2017/UW/2017/121/KCAM.UW.2017.121',\n",
       " 'PNW2017/UW/2017/121/KDK.UW.2017.121',\n",
       " 'PNW2017/UW/2017/121/KIMB.UW.2017.121',\n",
       " 'PNW2017/UW/2017/121/KIMR.UW.2017.121',\n",
       " 'PNW2017/UW/2017/121/KINR.UW.2017.121',\n",
       " 'PNW2017/UW/2017/121/KITP.UW.2017.121',\n",
       " 'PNW2017/UW/2017/121/LAWT.UW.2017.121',\n",
       " 'PNW2017/UW/2017/121/MNWA.UW.2017.121',\n",
       " 'PNW2017/UW/2017/121/NOWS.UW.2017.121',\n",
       " 'PNW2017/UW/2017/121/PIER.UW.2017.121',\n",
       " 'PNW2017/UW/2017/121/PSNS.UW.2017.121',\n",
       " 'PNW2017/UW/2017/121/RAD1.UW.2017.121',\n",
       " 'PNW2017/UW/2017/121/RAD2.UW.2017.121',\n",
       " 'PNW2017/UW/2017/121/RAD3.UW.2017.121',\n",
       " 'PNW2017/UW/2017/121/RAD4.UW.2017.121',\n",
       " 'PNW2017/UW/2017/121/RAD5.UW.2017.121',\n",
       " 'PNW2017/UW/2017/121/RAD6.UW.2017.121',\n",
       " 'PNW2017/UW/2017/121/SCC.UW.2017.121',\n",
       " 'PNW2017/UW/2017/121/SEA.UW.2017.121',\n",
       " 'PNW2017/UW/2017/121/SP2.UW.2017.121',\n",
       " 'PNW2017/UW/2017/121/SSS1.UW.2017.121',\n",
       " 'PNW2017/UW/2017/121/SSS2.UW.2017.121',\n",
       " 'PNW2017/UW/2017/121/TKCO.UW.2017.121',\n",
       " 'PNW2017/UW/2017/121/VVHS.UW.2017.121',\n",
       " 'PNW2017/GM/2017/122/AB03.GM.2017.122',\n",
       " 'PNW2017/GM/2017/122/AB04.GM.2017.122',\n",
       " 'PNW2017/GM/2017/122/AB05.GM.2017.122',\n",
       " 'PNW2017/GM/2017/122/AB06.GM.2017.122',\n",
       " 'PNW2017/GM/2017/122/AB07.GM.2017.122',\n",
       " 'PNW2017/GM/2017/122/AB08.GM.2017.122',\n",
       " 'PNW2017/GM/2017/122/AB09.GM.2017.122',\n",
       " 'PNW2017/GM/2017/122/AB10.GM.2017.122',\n",
       " 'PNW2017/GM/2017/122/AB11.GM.2017.122',\n",
       " 'PNW2017/GM/2017/122/AB13.GM.2017.122',\n",
       " 'PNW2017/GM/2017/122/AB14.GM.2017.122',\n",
       " 'PNW2017/GM/2017/122/AB15.GM.2017.122',\n",
       " 'PNW2017/GM/2017/122/AB16.GM.2017.122',\n",
       " 'PNW2017/GM/2017/122/AB17.GM.2017.122',\n",
       " 'PNW2017/GS/2017/122/WE2.GS.2017.122',\n",
       " 'PNW2017/UW/2017/122/ALKI.UW.2017.122',\n",
       " 'PNW2017/UW/2017/122/BABE.UW.2017.122',\n",
       " 'PNW2017/UW/2017/122/BES3.UW.2017.122',\n",
       " 'PNW2017/UW/2017/122/BES4.UW.2017.122',\n",
       " 'PNW2017/UW/2017/122/BES5.UW.2017.122',\n",
       " 'PNW2017/UW/2017/122/BRKS.UW.2017.122',\n",
       " 'PNW2017/UW/2017/122/BSFP.UW.2017.122',\n",
       " 'PNW2017/UW/2017/122/GMW.UW.2017.122',\n",
       " 'PNW2017/UW/2017/122/GNW.UW.2017.122',\n",
       " 'PNW2017/UW/2017/122/GTWN.UW.2017.122',\n",
       " 'PNW2017/UW/2017/122/HART.UW.2017.122',\n",
       " 'PNW2017/UW/2017/122/HOLY.UW.2017.122',\n",
       " 'PNW2017/UW/2017/122/KCAM.UW.2017.122',\n",
       " 'PNW2017/UW/2017/122/KDK.UW.2017.122',\n",
       " 'PNW2017/UW/2017/122/KIMB.UW.2017.122',\n",
       " 'PNW2017/UW/2017/122/KIMR.UW.2017.122',\n",
       " 'PNW2017/UW/2017/122/KINR.UW.2017.122',\n",
       " 'PNW2017/UW/2017/122/KITP.UW.2017.122',\n",
       " 'PNW2017/UW/2017/122/LAWT.UW.2017.122',\n",
       " 'PNW2017/UW/2017/122/MNWA.UW.2017.122',\n",
       " 'PNW2017/UW/2017/122/NOWS.UW.2017.122',\n",
       " 'PNW2017/UW/2017/122/PIER.UW.2017.122',\n",
       " 'PNW2017/UW/2017/122/PSNS.UW.2017.122',\n",
       " 'PNW2017/UW/2017/122/RAD1.UW.2017.122',\n",
       " 'PNW2017/UW/2017/122/RAD2.UW.2017.122',\n",
       " 'PNW2017/UW/2017/122/RAD3.UW.2017.122',\n",
       " 'PNW2017/UW/2017/122/RAD4.UW.2017.122',\n",
       " 'PNW2017/UW/2017/122/RAD5.UW.2017.122',\n",
       " 'PNW2017/UW/2017/122/RAD6.UW.2017.122',\n",
       " 'PNW2017/UW/2017/122/SCC.UW.2017.122',\n",
       " 'PNW2017/UW/2017/122/SEA.UW.2017.122',\n",
       " 'PNW2017/UW/2017/122/SP2.UW.2017.122',\n",
       " 'PNW2017/UW/2017/122/SSS1.UW.2017.122',\n",
       " 'PNW2017/UW/2017/122/SSS2.UW.2017.122',\n",
       " 'PNW2017/UW/2017/122/TKCO.UW.2017.122',\n",
       " 'PNW2017/UW/2017/122/VVHS.UW.2017.122',\n",
       " 'PNW2017/GM/2017/123/AB03.GM.2017.123',\n",
       " 'PNW2017/GM/2017/123/AB04.GM.2017.123',\n",
       " 'PNW2017/GM/2017/123/AB05.GM.2017.123',\n",
       " 'PNW2017/GM/2017/123/AB06.GM.2017.123',\n",
       " 'PNW2017/GM/2017/123/AB07.GM.2017.123',\n",
       " 'PNW2017/GM/2017/123/AB08.GM.2017.123',\n",
       " 'PNW2017/GM/2017/123/AB09.GM.2017.123',\n",
       " 'PNW2017/GM/2017/123/AB10.GM.2017.123',\n",
       " 'PNW2017/GM/2017/123/AB11.GM.2017.123',\n",
       " 'PNW2017/GM/2017/123/AB13.GM.2017.123',\n",
       " 'PNW2017/GM/2017/123/AB14.GM.2017.123',\n",
       " 'PNW2017/GM/2017/123/AB15.GM.2017.123',\n",
       " 'PNW2017/GM/2017/123/AB16.GM.2017.123',\n",
       " 'PNW2017/GM/2017/123/AB17.GM.2017.123',\n",
       " 'PNW2017/GS/2017/123/WE2.GS.2017.123',\n",
       " 'PNW2017/UW/2017/123/ALKI.UW.2017.123',\n",
       " 'PNW2017/UW/2017/123/BABE.UW.2017.123',\n",
       " 'PNW2017/UW/2017/123/BES3.UW.2017.123',\n",
       " 'PNW2017/UW/2017/123/BES4.UW.2017.123',\n",
       " 'PNW2017/UW/2017/123/BES5.UW.2017.123',\n",
       " 'PNW2017/UW/2017/123/BRKS.UW.2017.123',\n",
       " 'PNW2017/UW/2017/123/BSFP.UW.2017.123',\n",
       " 'PNW2017/UW/2017/123/GMW.UW.2017.123',\n",
       " 'PNW2017/UW/2017/123/GNW.UW.2017.123',\n",
       " 'PNW2017/UW/2017/123/GTWN.UW.2017.123',\n",
       " 'PNW2017/UW/2017/123/HART.UW.2017.123',\n",
       " 'PNW2017/UW/2017/123/HOLY.UW.2017.123',\n",
       " 'PNW2017/UW/2017/123/KCAM.UW.2017.123',\n",
       " 'PNW2017/UW/2017/123/KDK.UW.2017.123',\n",
       " 'PNW2017/UW/2017/123/KIMB.UW.2017.123',\n",
       " 'PNW2017/UW/2017/123/KIMR.UW.2017.123',\n",
       " 'PNW2017/UW/2017/123/KINR.UW.2017.123',\n",
       " 'PNW2017/UW/2017/123/KITP.UW.2017.123',\n",
       " 'PNW2017/UW/2017/123/LAWT.UW.2017.123',\n",
       " 'PNW2017/UW/2017/123/MNWA.UW.2017.123',\n",
       " 'PNW2017/UW/2017/123/NOWS.UW.2017.123',\n",
       " 'PNW2017/UW/2017/123/PIER.UW.2017.123',\n",
       " 'PNW2017/UW/2017/123/PSNS.UW.2017.123',\n",
       " 'PNW2017/UW/2017/123/RAD1.UW.2017.123',\n",
       " 'PNW2017/UW/2017/123/RAD2.UW.2017.123',\n",
       " 'PNW2017/UW/2017/123/RAD3.UW.2017.123',\n",
       " 'PNW2017/UW/2017/123/RAD4.UW.2017.123',\n",
       " 'PNW2017/UW/2017/123/RAD5.UW.2017.123',\n",
       " 'PNW2017/UW/2017/123/RAD6.UW.2017.123',\n",
       " 'PNW2017/UW/2017/123/SCC.UW.2017.123',\n",
       " 'PNW2017/UW/2017/123/SEA.UW.2017.123',\n",
       " 'PNW2017/UW/2017/123/SP2.UW.2017.123',\n",
       " 'PNW2017/UW/2017/123/SSS1.UW.2017.123',\n",
       " 'PNW2017/UW/2017/123/SSS2.UW.2017.123',\n",
       " 'PNW2017/UW/2017/123/TKCO.UW.2017.123',\n",
       " 'PNW2017/UW/2017/123/VVHS.UW.2017.123',\n",
       " 'PNW2017/GM/2017/124/AB03.GM.2017.124',\n",
       " 'PNW2017/GM/2017/124/AB04.GM.2017.124',\n",
       " 'PNW2017/GM/2017/124/AB05.GM.2017.124',\n",
       " 'PNW2017/GM/2017/124/AB06.GM.2017.124',\n",
       " 'PNW2017/GM/2017/124/AB07.GM.2017.124',\n",
       " 'PNW2017/GM/2017/124/AB08.GM.2017.124',\n",
       " 'PNW2017/GM/2017/124/AB09.GM.2017.124',\n",
       " 'PNW2017/GM/2017/124/AB10.GM.2017.124',\n",
       " 'PNW2017/GM/2017/124/AB11.GM.2017.124',\n",
       " 'PNW2017/GM/2017/124/AB13.GM.2017.124',\n",
       " 'PNW2017/GM/2017/124/AB14.GM.2017.124',\n",
       " 'PNW2017/GM/2017/124/AB15.GM.2017.124',\n",
       " 'PNW2017/GM/2017/124/AB16.GM.2017.124',\n",
       " 'PNW2017/GM/2017/124/AB17.GM.2017.124',\n",
       " 'PNW2017/GS/2017/124/WE2.GS.2017.124',\n",
       " 'PNW2017/UW/2017/124/ALKI.UW.2017.124',\n",
       " 'PNW2017/UW/2017/124/BABE.UW.2017.124',\n",
       " 'PNW2017/UW/2017/124/BES3.UW.2017.124',\n",
       " 'PNW2017/UW/2017/124/BES4.UW.2017.124',\n",
       " 'PNW2017/UW/2017/124/BES5.UW.2017.124',\n",
       " 'PNW2017/UW/2017/124/BRKS.UW.2017.124',\n",
       " 'PNW2017/UW/2017/124/BSFP.UW.2017.124',\n",
       " 'PNW2017/UW/2017/124/GMW.UW.2017.124',\n",
       " 'PNW2017/UW/2017/124/GNW.UW.2017.124',\n",
       " 'PNW2017/UW/2017/124/GTWN.UW.2017.124',\n",
       " 'PNW2017/UW/2017/124/HART.UW.2017.124',\n",
       " 'PNW2017/UW/2017/124/HOLY.UW.2017.124',\n",
       " 'PNW2017/UW/2017/124/KCAM.UW.2017.124',\n",
       " 'PNW2017/UW/2017/124/KDK.UW.2017.124',\n",
       " 'PNW2017/UW/2017/124/KIMB.UW.2017.124',\n",
       " 'PNW2017/UW/2017/124/KIMR.UW.2017.124',\n",
       " 'PNW2017/UW/2017/124/KINR.UW.2017.124',\n",
       " 'PNW2017/UW/2017/124/KITP.UW.2017.124',\n",
       " 'PNW2017/UW/2017/124/LAWT.UW.2017.124',\n",
       " 'PNW2017/UW/2017/124/MNWA.UW.2017.124',\n",
       " 'PNW2017/UW/2017/124/NOWS.UW.2017.124',\n",
       " 'PNW2017/UW/2017/124/PIER.UW.2017.124',\n",
       " 'PNW2017/UW/2017/124/PSNS.UW.2017.124',\n",
       " 'PNW2017/UW/2017/124/RAD1.UW.2017.124',\n",
       " 'PNW2017/UW/2017/124/RAD2.UW.2017.124',\n",
       " 'PNW2017/UW/2017/124/RAD3.UW.2017.124',\n",
       " 'PNW2017/UW/2017/124/RAD4.UW.2017.124',\n",
       " 'PNW2017/UW/2017/124/RAD5.UW.2017.124',\n",
       " 'PNW2017/UW/2017/124/RAD6.UW.2017.124',\n",
       " 'PNW2017/UW/2017/124/SCC.UW.2017.124',\n",
       " 'PNW2017/UW/2017/124/SEA.UW.2017.124',\n",
       " 'PNW2017/UW/2017/124/SP2.UW.2017.124',\n",
       " 'PNW2017/UW/2017/124/SSS1.UW.2017.124',\n",
       " 'PNW2017/UW/2017/124/SSS2.UW.2017.124',\n",
       " 'PNW2017/UW/2017/124/TKCO.UW.2017.124',\n",
       " 'PNW2017/UW/2017/124/VVHS.UW.2017.124',\n",
       " 'PNW2017/GM/2017/125/AB03.GM.2017.125',\n",
       " 'PNW2017/GM/2017/125/AB04.GM.2017.125',\n",
       " 'PNW2017/GM/2017/125/AB05.GM.2017.125',\n",
       " 'PNW2017/GM/2017/125/AB06.GM.2017.125',\n",
       " 'PNW2017/GM/2017/125/AB07.GM.2017.125',\n",
       " 'PNW2017/GM/2017/125/AB08.GM.2017.125',\n",
       " 'PNW2017/GM/2017/125/AB09.GM.2017.125',\n",
       " 'PNW2017/GM/2017/125/AB10.GM.2017.125',\n",
       " 'PNW2017/GM/2017/125/AB11.GM.2017.125',\n",
       " 'PNW2017/GM/2017/125/AB13.GM.2017.125',\n",
       " 'PNW2017/GM/2017/125/AB14.GM.2017.125',\n",
       " 'PNW2017/GM/2017/125/AB15.GM.2017.125',\n",
       " 'PNW2017/GM/2017/125/AB16.GM.2017.125',\n",
       " 'PNW2017/GM/2017/125/AB17.GM.2017.125',\n",
       " 'PNW2017/GS/2017/125/WE2.GS.2017.125',\n",
       " 'PNW2017/UW/2017/125/ALKI.UW.2017.125',\n",
       " 'PNW2017/UW/2017/125/BABE.UW.2017.125',\n",
       " 'PNW2017/UW/2017/125/BES3.UW.2017.125',\n",
       " 'PNW2017/UW/2017/125/BES4.UW.2017.125',\n",
       " 'PNW2017/UW/2017/125/BES5.UW.2017.125',\n",
       " 'PNW2017/UW/2017/125/BRKS.UW.2017.125',\n",
       " 'PNW2017/UW/2017/125/BSFP.UW.2017.125',\n",
       " 'PNW2017/UW/2017/125/GMW.UW.2017.125',\n",
       " 'PNW2017/UW/2017/125/GNW.UW.2017.125',\n",
       " 'PNW2017/UW/2017/125/GTWN.UW.2017.125',\n",
       " 'PNW2017/UW/2017/125/HART.UW.2017.125',\n",
       " 'PNW2017/UW/2017/125/HOLY.UW.2017.125',\n",
       " 'PNW2017/UW/2017/125/KCAM.UW.2017.125',\n",
       " 'PNW2017/UW/2017/125/KDK.UW.2017.125',\n",
       " 'PNW2017/UW/2017/125/KIMB.UW.2017.125',\n",
       " 'PNW2017/UW/2017/125/KIMR.UW.2017.125',\n",
       " 'PNW2017/UW/2017/125/KINR.UW.2017.125',\n",
       " 'PNW2017/UW/2017/125/KITP.UW.2017.125',\n",
       " 'PNW2017/UW/2017/125/LAWT.UW.2017.125',\n",
       " 'PNW2017/UW/2017/125/MNWA.UW.2017.125',\n",
       " 'PNW2017/UW/2017/125/NOWS.UW.2017.125',\n",
       " 'PNW2017/UW/2017/125/PIER.UW.2017.125',\n",
       " 'PNW2017/UW/2017/125/PSNS.UW.2017.125',\n",
       " 'PNW2017/UW/2017/125/RAD1.UW.2017.125',\n",
       " 'PNW2017/UW/2017/125/RAD2.UW.2017.125',\n",
       " 'PNW2017/UW/2017/125/RAD3.UW.2017.125',\n",
       " 'PNW2017/UW/2017/125/RAD4.UW.2017.125',\n",
       " 'PNW2017/UW/2017/125/RAD5.UW.2017.125',\n",
       " 'PNW2017/UW/2017/125/RAD6.UW.2017.125',\n",
       " 'PNW2017/UW/2017/125/SCC.UW.2017.125',\n",
       " 'PNW2017/UW/2017/125/SEA.UW.2017.125',\n",
       " 'PNW2017/UW/2017/125/SP2.UW.2017.125',\n",
       " 'PNW2017/UW/2017/125/SSS1.UW.2017.125',\n",
       " 'PNW2017/UW/2017/125/SSS2.UW.2017.125',\n",
       " 'PNW2017/UW/2017/125/TKCO.UW.2017.125',\n",
       " 'PNW2017/UW/2017/125/VVHS.UW.2017.125',\n",
       " 'PNW2017/GM/2017/126/AB03.GM.2017.126',\n",
       " 'PNW2017/GM/2017/126/AB04.GM.2017.126',\n",
       " 'PNW2017/GM/2017/126/AB05.GM.2017.126',\n",
       " 'PNW2017/GM/2017/126/AB06.GM.2017.126',\n",
       " 'PNW2017/GM/2017/126/AB07.GM.2017.126',\n",
       " 'PNW2017/GM/2017/126/AB08.GM.2017.126',\n",
       " 'PNW2017/GM/2017/126/AB09.GM.2017.126',\n",
       " 'PNW2017/GM/2017/126/AB10.GM.2017.126',\n",
       " 'PNW2017/GM/2017/126/AB11.GM.2017.126',\n",
       " 'PNW2017/GM/2017/126/AB13.GM.2017.126',\n",
       " 'PNW2017/GM/2017/126/AB14.GM.2017.126',\n",
       " 'PNW2017/GM/2017/126/AB15.GM.2017.126',\n",
       " 'PNW2017/GM/2017/126/AB16.GM.2017.126',\n",
       " 'PNW2017/GM/2017/126/AB17.GM.2017.126',\n",
       " 'PNW2017/GS/2017/126/WE2.GS.2017.126',\n",
       " 'PNW2017/UW/2017/126/ALKI.UW.2017.126',\n",
       " 'PNW2017/UW/2017/126/BABE.UW.2017.126',\n",
       " 'PNW2017/UW/2017/126/BES3.UW.2017.126',\n",
       " 'PNW2017/UW/2017/126/BES4.UW.2017.126',\n",
       " 'PNW2017/UW/2017/126/BES5.UW.2017.126',\n",
       " 'PNW2017/UW/2017/126/BRKS.UW.2017.126',\n",
       " 'PNW2017/UW/2017/126/BSFP.UW.2017.126',\n",
       " 'PNW2017/UW/2017/126/GMW.UW.2017.126',\n",
       " 'PNW2017/UW/2017/126/GNW.UW.2017.126',\n",
       " 'PNW2017/UW/2017/126/GTWN.UW.2017.126',\n",
       " 'PNW2017/UW/2017/126/HART.UW.2017.126',\n",
       " 'PNW2017/UW/2017/126/HOLY.UW.2017.126',\n",
       " 'PNW2017/UW/2017/126/KCAM.UW.2017.126',\n",
       " 'PNW2017/UW/2017/126/KDK.UW.2017.126',\n",
       " 'PNW2017/UW/2017/126/KIMB.UW.2017.126',\n",
       " 'PNW2017/UW/2017/126/KIMR.UW.2017.126',\n",
       " 'PNW2017/UW/2017/126/KINR.UW.2017.126',\n",
       " 'PNW2017/UW/2017/126/KITP.UW.2017.126',\n",
       " 'PNW2017/UW/2017/126/LAWT.UW.2017.126',\n",
       " 'PNW2017/UW/2017/126/MNWA.UW.2017.126',\n",
       " 'PNW2017/UW/2017/126/NOWS.UW.2017.126',\n",
       " 'PNW2017/UW/2017/126/PIER.UW.2017.126',\n",
       " 'PNW2017/UW/2017/126/PSNS.UW.2017.126',\n",
       " 'PNW2017/UW/2017/126/RAD1.UW.2017.126',\n",
       " 'PNW2017/UW/2017/126/RAD2.UW.2017.126',\n",
       " 'PNW2017/UW/2017/126/RAD3.UW.2017.126',\n",
       " 'PNW2017/UW/2017/126/RAD4.UW.2017.126',\n",
       " 'PNW2017/UW/2017/126/RAD5.UW.2017.126',\n",
       " 'PNW2017/UW/2017/126/RAD6.UW.2017.126',\n",
       " 'PNW2017/UW/2017/126/SCC.UW.2017.126',\n",
       " 'PNW2017/UW/2017/126/SEA.UW.2017.126',\n",
       " 'PNW2017/UW/2017/126/SP2.UW.2017.126',\n",
       " 'PNW2017/UW/2017/126/SSS1.UW.2017.126',\n",
       " 'PNW2017/UW/2017/126/SSS2.UW.2017.126',\n",
       " 'PNW2017/UW/2017/126/TKCO.UW.2017.126',\n",
       " 'PNW2017/UW/2017/126/VVHS.UW.2017.126',\n",
       " 'PNW2017/GM/2017/127/AB03.GM.2017.127',\n",
       " 'PNW2017/GM/2017/127/AB04.GM.2017.127',\n",
       " 'PNW2017/GM/2017/127/AB05.GM.2017.127',\n",
       " 'PNW2017/GM/2017/127/AB06.GM.2017.127',\n",
       " 'PNW2017/GM/2017/127/AB07.GM.2017.127',\n",
       " 'PNW2017/GM/2017/127/AB08.GM.2017.127',\n",
       " 'PNW2017/GM/2017/127/AB09.GM.2017.127',\n",
       " 'PNW2017/GM/2017/127/AB10.GM.2017.127',\n",
       " 'PNW2017/GM/2017/127/AB11.GM.2017.127',\n",
       " 'PNW2017/GM/2017/127/AB13.GM.2017.127',\n",
       " 'PNW2017/GM/2017/127/AB14.GM.2017.127',\n",
       " 'PNW2017/GM/2017/127/AB15.GM.2017.127',\n",
       " 'PNW2017/GM/2017/127/AB16.GM.2017.127',\n",
       " 'PNW2017/GM/2017/127/AB17.GM.2017.127',\n",
       " 'PNW2017/GS/2017/127/WE2.GS.2017.127',\n",
       " 'PNW2017/UW/2017/127/ALKI.UW.2017.127',\n",
       " 'PNW2017/UW/2017/127/BABE.UW.2017.127',\n",
       " 'PNW2017/UW/2017/127/BES3.UW.2017.127',\n",
       " 'PNW2017/UW/2017/127/BES4.UW.2017.127',\n",
       " 'PNW2017/UW/2017/127/BES5.UW.2017.127',\n",
       " 'PNW2017/UW/2017/127/BRKS.UW.2017.127',\n",
       " 'PNW2017/UW/2017/127/BSFP.UW.2017.127',\n",
       " 'PNW2017/UW/2017/127/GMW.UW.2017.127',\n",
       " 'PNW2017/UW/2017/127/GNW.UW.2017.127',\n",
       " 'PNW2017/UW/2017/127/GTWN.UW.2017.127',\n",
       " 'PNW2017/UW/2017/127/HART.UW.2017.127',\n",
       " 'PNW2017/UW/2017/127/HOLY.UW.2017.127',\n",
       " 'PNW2017/UW/2017/127/KCAM.UW.2017.127',\n",
       " 'PNW2017/UW/2017/127/KDK.UW.2017.127',\n",
       " 'PNW2017/UW/2017/127/KIMB.UW.2017.127',\n",
       " 'PNW2017/UW/2017/127/KIMR.UW.2017.127',\n",
       " 'PNW2017/UW/2017/127/KINR.UW.2017.127',\n",
       " 'PNW2017/UW/2017/127/KITP.UW.2017.127',\n",
       " 'PNW2017/UW/2017/127/LAWT.UW.2017.127',\n",
       " 'PNW2017/UW/2017/127/MNWA.UW.2017.127',\n",
       " 'PNW2017/UW/2017/127/NOWS.UW.2017.127',\n",
       " 'PNW2017/UW/2017/127/PIER.UW.2017.127',\n",
       " 'PNW2017/UW/2017/127/PSNS.UW.2017.127',\n",
       " 'PNW2017/UW/2017/127/RAD1.UW.2017.127',\n",
       " 'PNW2017/UW/2017/127/RAD2.UW.2017.127',\n",
       " 'PNW2017/UW/2017/127/RAD3.UW.2017.127',\n",
       " 'PNW2017/UW/2017/127/RAD4.UW.2017.127',\n",
       " 'PNW2017/UW/2017/127/RAD5.UW.2017.127',\n",
       " 'PNW2017/UW/2017/127/RAD6.UW.2017.127',\n",
       " 'PNW2017/UW/2017/127/SCC.UW.2017.127',\n",
       " 'PNW2017/UW/2017/127/SEA.UW.2017.127',\n",
       " 'PNW2017/UW/2017/127/SP2.UW.2017.127',\n",
       " 'PNW2017/UW/2017/127/SSS1.UW.2017.127',\n",
       " 'PNW2017/UW/2017/127/SSS2.UW.2017.127',\n",
       " 'PNW2017/UW/2017/127/TKCO.UW.2017.127',\n",
       " 'PNW2017/UW/2017/127/VVHS.UW.2017.127',\n",
       " 'PNW2017/GM/2017/128/AB03.GM.2017.128',\n",
       " 'PNW2017/GM/2017/128/AB04.GM.2017.128',\n",
       " 'PNW2017/GM/2017/128/AB05.GM.2017.128',\n",
       " 'PNW2017/GM/2017/128/AB06.GM.2017.128',\n",
       " 'PNW2017/GM/2017/128/AB07.GM.2017.128',\n",
       " 'PNW2017/GM/2017/128/AB08.GM.2017.128',\n",
       " 'PNW2017/GM/2017/128/AB09.GM.2017.128',\n",
       " 'PNW2017/GM/2017/128/AB10.GM.2017.128',\n",
       " 'PNW2017/GM/2017/128/AB11.GM.2017.128',\n",
       " 'PNW2017/GM/2017/128/AB13.GM.2017.128',\n",
       " 'PNW2017/GM/2017/128/AB14.GM.2017.128',\n",
       " 'PNW2017/GM/2017/128/AB15.GM.2017.128',\n",
       " 'PNW2017/GM/2017/128/AB16.GM.2017.128',\n",
       " 'PNW2017/GM/2017/128/AB17.GM.2017.128',\n",
       " 'PNW2017/GS/2017/128/WE2.GS.2017.128',\n",
       " 'PNW2017/UW/2017/128/ALKI.UW.2017.128',\n",
       " 'PNW2017/UW/2017/128/BABE.UW.2017.128',\n",
       " 'PNW2017/UW/2017/128/BES3.UW.2017.128',\n",
       " 'PNW2017/UW/2017/128/BES4.UW.2017.128',\n",
       " 'PNW2017/UW/2017/128/BES5.UW.2017.128',\n",
       " 'PNW2017/UW/2017/128/BRKS.UW.2017.128',\n",
       " 'PNW2017/UW/2017/128/BSFP.UW.2017.128',\n",
       " 'PNW2017/UW/2017/128/GMW.UW.2017.128',\n",
       " 'PNW2017/UW/2017/128/GNW.UW.2017.128',\n",
       " 'PNW2017/UW/2017/128/GTWN.UW.2017.128',\n",
       " 'PNW2017/UW/2017/128/HART.UW.2017.128',\n",
       " 'PNW2017/UW/2017/128/HOLY.UW.2017.128',\n",
       " 'PNW2017/UW/2017/128/KCAM.UW.2017.128',\n",
       " 'PNW2017/UW/2017/128/KDK.UW.2017.128',\n",
       " 'PNW2017/UW/2017/128/KIMB.UW.2017.128',\n",
       " 'PNW2017/UW/2017/128/KIMR.UW.2017.128',\n",
       " 'PNW2017/UW/2017/128/KINR.UW.2017.128',\n",
       " 'PNW2017/UW/2017/128/KITP.UW.2017.128',\n",
       " 'PNW2017/UW/2017/128/LAWT.UW.2017.128',\n",
       " 'PNW2017/UW/2017/128/MNWA.UW.2017.128',\n",
       " 'PNW2017/UW/2017/128/NOWS.UW.2017.128',\n",
       " 'PNW2017/UW/2017/128/PIER.UW.2017.128',\n",
       " 'PNW2017/UW/2017/128/PSNS.UW.2017.128',\n",
       " 'PNW2017/UW/2017/128/RAD1.UW.2017.128',\n",
       " 'PNW2017/UW/2017/128/RAD2.UW.2017.128',\n",
       " 'PNW2017/UW/2017/128/RAD3.UW.2017.128',\n",
       " 'PNW2017/UW/2017/128/RAD4.UW.2017.128',\n",
       " 'PNW2017/UW/2017/128/RAD5.UW.2017.128',\n",
       " 'PNW2017/UW/2017/128/RAD6.UW.2017.128',\n",
       " 'PNW2017/UW/2017/128/SCC.UW.2017.128',\n",
       " 'PNW2017/UW/2017/128/SEA.UW.2017.128',\n",
       " 'PNW2017/UW/2017/128/SP2.UW.2017.128',\n",
       " 'PNW2017/UW/2017/128/SSS1.UW.2017.128',\n",
       " 'PNW2017/UW/2017/128/SSS2.UW.2017.128',\n",
       " 'PNW2017/UW/2017/128/TKCO.UW.2017.128',\n",
       " 'PNW2017/UW/2017/128/VVHS.UW.2017.128',\n",
       " 'PNW2017/GM/2017/129/AB03.GM.2017.129',\n",
       " 'PNW2017/GM/2017/129/AB04.GM.2017.129',\n",
       " 'PNW2017/GM/2017/129/AB05.GM.2017.129',\n",
       " 'PNW2017/GM/2017/129/AB06.GM.2017.129',\n",
       " 'PNW2017/GM/2017/129/AB07.GM.2017.129',\n",
       " 'PNW2017/GM/2017/129/AB08.GM.2017.129',\n",
       " 'PNW2017/GM/2017/129/AB09.GM.2017.129',\n",
       " 'PNW2017/GM/2017/129/AB10.GM.2017.129',\n",
       " 'PNW2017/GM/2017/129/AB11.GM.2017.129',\n",
       " 'PNW2017/GM/2017/129/AB13.GM.2017.129',\n",
       " 'PNW2017/GM/2017/129/AB14.GM.2017.129',\n",
       " 'PNW2017/GM/2017/129/AB15.GM.2017.129',\n",
       " 'PNW2017/GM/2017/129/AB16.GM.2017.129',\n",
       " 'PNW2017/GM/2017/129/AB17.GM.2017.129',\n",
       " 'PNW2017/GS/2017/129/WE2.GS.2017.129',\n",
       " 'PNW2017/UW/2017/129/ALKI.UW.2017.129',\n",
       " 'PNW2017/UW/2017/129/BABE.UW.2017.129',\n",
       " 'PNW2017/UW/2017/129/BES3.UW.2017.129',\n",
       " 'PNW2017/UW/2017/129/BES4.UW.2017.129',\n",
       " 'PNW2017/UW/2017/129/BES5.UW.2017.129',\n",
       " 'PNW2017/UW/2017/129/BRKS.UW.2017.129',\n",
       " 'PNW2017/UW/2017/129/BSFP.UW.2017.129',\n",
       " 'PNW2017/UW/2017/129/GMW.UW.2017.129',\n",
       " 'PNW2017/UW/2017/129/GNW.UW.2017.129',\n",
       " 'PNW2017/UW/2017/129/GTWN.UW.2017.129',\n",
       " 'PNW2017/UW/2017/129/HART.UW.2017.129',\n",
       " 'PNW2017/UW/2017/129/HOLY.UW.2017.129',\n",
       " 'PNW2017/UW/2017/129/KCAM.UW.2017.129',\n",
       " 'PNW2017/UW/2017/129/KDK.UW.2017.129',\n",
       " 'PNW2017/UW/2017/129/KIMB.UW.2017.129',\n",
       " 'PNW2017/UW/2017/129/KIMR.UW.2017.129',\n",
       " 'PNW2017/UW/2017/129/KINR.UW.2017.129',\n",
       " 'PNW2017/UW/2017/129/KITP.UW.2017.129',\n",
       " 'PNW2017/UW/2017/129/LAWT.UW.2017.129',\n",
       " 'PNW2017/UW/2017/129/MNWA.UW.2017.129',\n",
       " 'PNW2017/UW/2017/129/NOWS.UW.2017.129',\n",
       " 'PNW2017/UW/2017/129/PIER.UW.2017.129',\n",
       " 'PNW2017/UW/2017/129/PSNS.UW.2017.129',\n",
       " 'PNW2017/UW/2017/129/RAD1.UW.2017.129',\n",
       " 'PNW2017/UW/2017/129/RAD2.UW.2017.129',\n",
       " 'PNW2017/UW/2017/129/RAD3.UW.2017.129',\n",
       " 'PNW2017/UW/2017/129/RAD4.UW.2017.129',\n",
       " 'PNW2017/UW/2017/129/RAD5.UW.2017.129',\n",
       " 'PNW2017/UW/2017/129/RAD6.UW.2017.129',\n",
       " 'PNW2017/UW/2017/129/SCC.UW.2017.129',\n",
       " 'PNW2017/UW/2017/129/SEA.UW.2017.129',\n",
       " 'PNW2017/UW/2017/129/SP2.UW.2017.129',\n",
       " 'PNW2017/UW/2017/129/SSS1.UW.2017.129',\n",
       " 'PNW2017/UW/2017/129/SSS2.UW.2017.129',\n",
       " 'PNW2017/UW/2017/129/TKCO.UW.2017.129',\n",
       " 'PNW2017/UW/2017/129/VVHS.UW.2017.129',\n",
       " 'PNW2017/GM/2017/130/AB03.GM.2017.130',\n",
       " 'PNW2017/GM/2017/130/AB04.GM.2017.130',\n",
       " 'PNW2017/GM/2017/130/AB05.GM.2017.130',\n",
       " 'PNW2017/GM/2017/130/AB06.GM.2017.130',\n",
       " 'PNW2017/GM/2017/130/AB07.GM.2017.130',\n",
       " 'PNW2017/GM/2017/130/AB08.GM.2017.130',\n",
       " 'PNW2017/GM/2017/130/AB09.GM.2017.130',\n",
       " 'PNW2017/GM/2017/130/AB10.GM.2017.130',\n",
       " 'PNW2017/GM/2017/130/AB11.GM.2017.130',\n",
       " 'PNW2017/GM/2017/130/AB13.GM.2017.130',\n",
       " 'PNW2017/GM/2017/130/AB14.GM.2017.130',\n",
       " 'PNW2017/GM/2017/130/AB15.GM.2017.130',\n",
       " 'PNW2017/GM/2017/130/AB16.GM.2017.130',\n",
       " 'PNW2017/GM/2017/130/AB17.GM.2017.130',\n",
       " 'PNW2017/GS/2017/130/WE2.GS.2017.130',\n",
       " 'PNW2017/UW/2017/130/ALKI.UW.2017.130',\n",
       " 'PNW2017/UW/2017/130/BABE.UW.2017.130',\n",
       " 'PNW2017/UW/2017/130/BES3.UW.2017.130',\n",
       " 'PNW2017/UW/2017/130/BES4.UW.2017.130',\n",
       " 'PNW2017/UW/2017/130/BES5.UW.2017.130',\n",
       " 'PNW2017/UW/2017/130/BRKS.UW.2017.130',\n",
       " 'PNW2017/UW/2017/130/BSFP.UW.2017.130',\n",
       " 'PNW2017/UW/2017/130/GMW.UW.2017.130',\n",
       " 'PNW2017/UW/2017/130/GNW.UW.2017.130',\n",
       " 'PNW2017/UW/2017/130/GTWN.UW.2017.130',\n",
       " 'PNW2017/UW/2017/130/HART.UW.2017.130',\n",
       " 'PNW2017/UW/2017/130/HOLY.UW.2017.130',\n",
       " 'PNW2017/UW/2017/130/KCAM.UW.2017.130',\n",
       " 'PNW2017/UW/2017/130/KDK.UW.2017.130',\n",
       " 'PNW2017/UW/2017/130/KIMB.UW.2017.130',\n",
       " 'PNW2017/UW/2017/130/KIMR.UW.2017.130',\n",
       " 'PNW2017/UW/2017/130/KINR.UW.2017.130',\n",
       " 'PNW2017/UW/2017/130/KITP.UW.2017.130',\n",
       " 'PNW2017/UW/2017/130/LAWT.UW.2017.130',\n",
       " 'PNW2017/UW/2017/130/MNWA.UW.2017.130',\n",
       " 'PNW2017/UW/2017/130/NOWS.UW.2017.130',\n",
       " 'PNW2017/UW/2017/130/PIER.UW.2017.130',\n",
       " 'PNW2017/UW/2017/130/PSNS.UW.2017.130',\n",
       " 'PNW2017/UW/2017/130/RAD1.UW.2017.130',\n",
       " 'PNW2017/UW/2017/130/RAD2.UW.2017.130',\n",
       " 'PNW2017/UW/2017/130/RAD3.UW.2017.130',\n",
       " 'PNW2017/UW/2017/130/RAD4.UW.2017.130',\n",
       " 'PNW2017/UW/2017/130/RAD5.UW.2017.130',\n",
       " 'PNW2017/UW/2017/130/RAD6.UW.2017.130',\n",
       " 'PNW2017/UW/2017/130/SCC.UW.2017.130',\n",
       " 'PNW2017/UW/2017/130/SEA.UW.2017.130',\n",
       " 'PNW2017/UW/2017/130/SP2.UW.2017.130',\n",
       " 'PNW2017/UW/2017/130/SSS1.UW.2017.130',\n",
       " 'PNW2017/UW/2017/130/SSS2.UW.2017.130',\n",
       " 'PNW2017/UW/2017/130/TKCO.UW.2017.130',\n",
       " 'PNW2017/UW/2017/130/VVHS.UW.2017.130',\n",
       " 'PNW2017/GM/2017/131/AB03.GM.2017.131',\n",
       " 'PNW2017/GM/2017/131/AB04.GM.2017.131',\n",
       " 'PNW2017/GM/2017/131/AB05.GM.2017.131',\n",
       " 'PNW2017/GM/2017/131/AB06.GM.2017.131',\n",
       " 'PNW2017/GM/2017/131/AB07.GM.2017.131',\n",
       " 'PNW2017/GM/2017/131/AB08.GM.2017.131',\n",
       " 'PNW2017/GM/2017/131/AB09.GM.2017.131',\n",
       " 'PNW2017/GM/2017/131/AB10.GM.2017.131',\n",
       " 'PNW2017/GM/2017/131/AB11.GM.2017.131',\n",
       " 'PNW2017/GM/2017/131/AB13.GM.2017.131',\n",
       " 'PNW2017/GM/2017/131/AB14.GM.2017.131',\n",
       " 'PNW2017/GM/2017/131/AB15.GM.2017.131',\n",
       " 'PNW2017/GM/2017/131/AB16.GM.2017.131',\n",
       " 'PNW2017/GM/2017/131/AB17.GM.2017.131',\n",
       " 'PNW2017/GS/2017/131/WE2.GS.2017.131',\n",
       " 'PNW2017/UW/2017/131/ALKI.UW.2017.131',\n",
       " 'PNW2017/UW/2017/131/BABE.UW.2017.131',\n",
       " 'PNW2017/UW/2017/131/BES3.UW.2017.131',\n",
       " 'PNW2017/UW/2017/131/BES4.UW.2017.131',\n",
       " 'PNW2017/UW/2017/131/BES5.UW.2017.131',\n",
       " 'PNW2017/UW/2017/131/BRKS.UW.2017.131',\n",
       " 'PNW2017/UW/2017/131/BSFP.UW.2017.131',\n",
       " 'PNW2017/UW/2017/131/GMW.UW.2017.131',\n",
       " 'PNW2017/UW/2017/131/GNW.UW.2017.131',\n",
       " 'PNW2017/UW/2017/131/GTWN.UW.2017.131',\n",
       " 'PNW2017/UW/2017/131/HART.UW.2017.131',\n",
       " 'PNW2017/UW/2017/131/HOLY.UW.2017.131',\n",
       " 'PNW2017/UW/2017/131/KCAM.UW.2017.131',\n",
       " 'PNW2017/UW/2017/131/KDK.UW.2017.131',\n",
       " 'PNW2017/UW/2017/131/KIMB.UW.2017.131',\n",
       " 'PNW2017/UW/2017/131/KIMR.UW.2017.131',\n",
       " 'PNW2017/UW/2017/131/KINR.UW.2017.131',\n",
       " 'PNW2017/UW/2017/131/KITP.UW.2017.131',\n",
       " 'PNW2017/UW/2017/131/LAWT.UW.2017.131',\n",
       " 'PNW2017/UW/2017/131/MNWA.UW.2017.131',\n",
       " 'PNW2017/UW/2017/131/NOWS.UW.2017.131',\n",
       " 'PNW2017/UW/2017/131/PIER.UW.2017.131',\n",
       " 'PNW2017/UW/2017/131/PSNS.UW.2017.131',\n",
       " 'PNW2017/UW/2017/131/RAD1.UW.2017.131',\n",
       " 'PNW2017/UW/2017/131/RAD2.UW.2017.131',\n",
       " 'PNW2017/UW/2017/131/RAD3.UW.2017.131',\n",
       " 'PNW2017/UW/2017/131/RAD4.UW.2017.131',\n",
       " 'PNW2017/UW/2017/131/RAD5.UW.2017.131',\n",
       " 'PNW2017/UW/2017/131/RAD6.UW.2017.131',\n",
       " 'PNW2017/UW/2017/131/SCC.UW.2017.131',\n",
       " 'PNW2017/UW/2017/131/SEA.UW.2017.131',\n",
       " 'PNW2017/UW/2017/131/SP2.UW.2017.131',\n",
       " 'PNW2017/UW/2017/131/SSS1.UW.2017.131',\n",
       " 'PNW2017/UW/2017/131/SSS2.UW.2017.131',\n",
       " 'PNW2017/UW/2017/131/TKCO.UW.2017.131',\n",
       " 'PNW2017/UW/2017/131/VVHS.UW.2017.131',\n",
       " 'PNW2017/GM/2017/132/AB03.GM.2017.132',\n",
       " 'PNW2017/GM/2017/132/AB04.GM.2017.132',\n",
       " 'PNW2017/GM/2017/132/AB05.GM.2017.132',\n",
       " 'PNW2017/GM/2017/132/AB06.GM.2017.132',\n",
       " 'PNW2017/GM/2017/132/AB07.GM.2017.132',\n",
       " 'PNW2017/GM/2017/132/AB08.GM.2017.132',\n",
       " 'PNW2017/GM/2017/132/AB09.GM.2017.132',\n",
       " 'PNW2017/GM/2017/132/AB10.GM.2017.132',\n",
       " 'PNW2017/GM/2017/132/AB11.GM.2017.132',\n",
       " 'PNW2017/GM/2017/132/AB13.GM.2017.132',\n",
       " 'PNW2017/GM/2017/132/AB14.GM.2017.132',\n",
       " 'PNW2017/GM/2017/132/AB15.GM.2017.132',\n",
       " 'PNW2017/GM/2017/132/AB16.GM.2017.132',\n",
       " 'PNW2017/GM/2017/132/AB17.GM.2017.132',\n",
       " 'PNW2017/GS/2017/132/WE2.GS.2017.132',\n",
       " 'PNW2017/UW/2017/132/ALKI.UW.2017.132',\n",
       " 'PNW2017/UW/2017/132/BABE.UW.2017.132',\n",
       " 'PNW2017/UW/2017/132/BES3.UW.2017.132',\n",
       " 'PNW2017/UW/2017/132/BES4.UW.2017.132',\n",
       " 'PNW2017/UW/2017/132/BES5.UW.2017.132',\n",
       " 'PNW2017/UW/2017/132/BRKS.UW.2017.132',\n",
       " 'PNW2017/UW/2017/132/BSFP.UW.2017.132',\n",
       " 'PNW2017/UW/2017/132/GMW.UW.2017.132',\n",
       " 'PNW2017/UW/2017/132/GNW.UW.2017.132',\n",
       " 'PNW2017/UW/2017/132/GTWN.UW.2017.132',\n",
       " 'PNW2017/UW/2017/132/HART.UW.2017.132',\n",
       " 'PNW2017/UW/2017/132/HOLY.UW.2017.132',\n",
       " 'PNW2017/UW/2017/132/KCAM.UW.2017.132',\n",
       " 'PNW2017/UW/2017/132/KDK.UW.2017.132',\n",
       " 'PNW2017/UW/2017/132/KIMB.UW.2017.132',\n",
       " 'PNW2017/UW/2017/132/KIMR.UW.2017.132',\n",
       " 'PNW2017/UW/2017/132/KINR.UW.2017.132',\n",
       " 'PNW2017/UW/2017/132/KITP.UW.2017.132',\n",
       " 'PNW2017/UW/2017/132/LAWT.UW.2017.132',\n",
       " 'PNW2017/UW/2017/132/MNWA.UW.2017.132',\n",
       " 'PNW2017/UW/2017/132/NOWS.UW.2017.132',\n",
       " 'PNW2017/UW/2017/132/PIER.UW.2017.132',\n",
       " 'PNW2017/UW/2017/132/PSNS.UW.2017.132',\n",
       " 'PNW2017/UW/2017/132/RAD1.UW.2017.132',\n",
       " 'PNW2017/UW/2017/132/RAD2.UW.2017.132',\n",
       " 'PNW2017/UW/2017/132/RAD3.UW.2017.132',\n",
       " 'PNW2017/UW/2017/132/RAD4.UW.2017.132',\n",
       " 'PNW2017/UW/2017/132/RAD5.UW.2017.132',\n",
       " 'PNW2017/UW/2017/132/RAD6.UW.2017.132',\n",
       " 'PNW2017/UW/2017/132/SCC.UW.2017.132',\n",
       " 'PNW2017/UW/2017/132/SEA.UW.2017.132',\n",
       " 'PNW2017/UW/2017/132/SP2.UW.2017.132',\n",
       " 'PNW2017/UW/2017/132/SSS1.UW.2017.132',\n",
       " 'PNW2017/UW/2017/132/SSS2.UW.2017.132',\n",
       " 'PNW2017/UW/2017/132/TKCO.UW.2017.132',\n",
       " 'PNW2017/UW/2017/132/VVHS.UW.2017.132',\n",
       " 'PNW2017/GM/2017/133/AB03.GM.2017.133',\n",
       " 'PNW2017/GM/2017/133/AB04.GM.2017.133',\n",
       " 'PNW2017/GM/2017/133/AB05.GM.2017.133',\n",
       " 'PNW2017/GM/2017/133/AB06.GM.2017.133',\n",
       " 'PNW2017/GM/2017/133/AB07.GM.2017.133',\n",
       " 'PNW2017/GM/2017/133/AB08.GM.2017.133',\n",
       " 'PNW2017/GM/2017/133/AB09.GM.2017.133',\n",
       " 'PNW2017/GM/2017/133/AB10.GM.2017.133',\n",
       " 'PNW2017/GM/2017/133/AB11.GM.2017.133',\n",
       " 'PNW2017/GM/2017/133/AB13.GM.2017.133',\n",
       " 'PNW2017/GM/2017/133/AB14.GM.2017.133',\n",
       " 'PNW2017/GM/2017/133/AB15.GM.2017.133',\n",
       " 'PNW2017/GM/2017/133/AB16.GM.2017.133',\n",
       " 'PNW2017/GM/2017/133/AB17.GM.2017.133',\n",
       " 'PNW2017/GS/2017/133/WE2.GS.2017.133',\n",
       " 'PNW2017/UW/2017/133/ALKI.UW.2017.133',\n",
       " 'PNW2017/UW/2017/133/BABE.UW.2017.133',\n",
       " 'PNW2017/UW/2017/133/BES3.UW.2017.133',\n",
       " 'PNW2017/UW/2017/133/BES4.UW.2017.133',\n",
       " 'PNW2017/UW/2017/133/BES5.UW.2017.133',\n",
       " 'PNW2017/UW/2017/133/BRKS.UW.2017.133',\n",
       " 'PNW2017/UW/2017/133/BSFP.UW.2017.133',\n",
       " 'PNW2017/UW/2017/133/GMW.UW.2017.133',\n",
       " 'PNW2017/UW/2017/133/GNW.UW.2017.133',\n",
       " 'PNW2017/UW/2017/133/GTWN.UW.2017.133',\n",
       " 'PNW2017/UW/2017/133/HART.UW.2017.133',\n",
       " 'PNW2017/UW/2017/133/HOLY.UW.2017.133',\n",
       " 'PNW2017/UW/2017/133/KCAM.UW.2017.133',\n",
       " 'PNW2017/UW/2017/133/KDK.UW.2017.133',\n",
       " 'PNW2017/UW/2017/133/KIMB.UW.2017.133',\n",
       " 'PNW2017/UW/2017/133/KIMR.UW.2017.133',\n",
       " 'PNW2017/UW/2017/133/KINR.UW.2017.133',\n",
       " 'PNW2017/UW/2017/133/KITP.UW.2017.133',\n",
       " 'PNW2017/UW/2017/133/LAWT.UW.2017.133',\n",
       " 'PNW2017/UW/2017/133/MNWA.UW.2017.133',\n",
       " 'PNW2017/UW/2017/133/NOWS.UW.2017.133',\n",
       " 'PNW2017/UW/2017/133/PIER.UW.2017.133',\n",
       " 'PNW2017/UW/2017/133/PSNS.UW.2017.133',\n",
       " 'PNW2017/UW/2017/133/RAD1.UW.2017.133',\n",
       " 'PNW2017/UW/2017/133/RAD2.UW.2017.133',\n",
       " 'PNW2017/UW/2017/133/RAD3.UW.2017.133',\n",
       " 'PNW2017/UW/2017/133/RAD4.UW.2017.133',\n",
       " 'PNW2017/UW/2017/133/RAD5.UW.2017.133',\n",
       " 'PNW2017/UW/2017/133/RAD6.UW.2017.133',\n",
       " 'PNW2017/UW/2017/133/SCC.UW.2017.133',\n",
       " 'PNW2017/UW/2017/133/SEA.UW.2017.133',\n",
       " 'PNW2017/UW/2017/133/SP2.UW.2017.133',\n",
       " 'PNW2017/UW/2017/133/SSS1.UW.2017.133',\n",
       " 'PNW2017/UW/2017/133/SSS2.UW.2017.133',\n",
       " 'PNW2017/UW/2017/133/TKCO.UW.2017.133',\n",
       " 'PNW2017/UW/2017/133/VVHS.UW.2017.133',\n",
       " 'PNW2017/GM/2017/134/AB03.GM.2017.134',\n",
       " 'PNW2017/GM/2017/134/AB04.GM.2017.134',\n",
       " 'PNW2017/GM/2017/134/AB05.GM.2017.134',\n",
       " 'PNW2017/GM/2017/134/AB06.GM.2017.134',\n",
       " 'PNW2017/GM/2017/134/AB07.GM.2017.134',\n",
       " 'PNW2017/GM/2017/134/AB08.GM.2017.134',\n",
       " 'PNW2017/GM/2017/134/AB09.GM.2017.134',\n",
       " 'PNW2017/GM/2017/134/AB10.GM.2017.134',\n",
       " 'PNW2017/GM/2017/134/AB11.GM.2017.134',\n",
       " 'PNW2017/GM/2017/134/AB13.GM.2017.134',\n",
       " 'PNW2017/GM/2017/134/AB14.GM.2017.134',\n",
       " 'PNW2017/GM/2017/134/AB15.GM.2017.134',\n",
       " 'PNW2017/GM/2017/134/AB16.GM.2017.134',\n",
       " 'PNW2017/GM/2017/134/AB17.GM.2017.134',\n",
       " 'PNW2017/GS/2017/134/WE2.GS.2017.134',\n",
       " 'PNW2017/UW/2017/134/ALKI.UW.2017.134',\n",
       " 'PNW2017/UW/2017/134/BABE.UW.2017.134',\n",
       " 'PNW2017/UW/2017/134/BES3.UW.2017.134',\n",
       " 'PNW2017/UW/2017/134/BES4.UW.2017.134',\n",
       " 'PNW2017/UW/2017/134/BES5.UW.2017.134',\n",
       " 'PNW2017/UW/2017/134/BRKS.UW.2017.134',\n",
       " 'PNW2017/UW/2017/134/BSFP.UW.2017.134',\n",
       " 'PNW2017/UW/2017/134/GMW.UW.2017.134',\n",
       " 'PNW2017/UW/2017/134/GNW.UW.2017.134',\n",
       " 'PNW2017/UW/2017/134/GTWN.UW.2017.134',\n",
       " 'PNW2017/UW/2017/134/HART.UW.2017.134',\n",
       " 'PNW2017/UW/2017/134/HOLY.UW.2017.134',\n",
       " 'PNW2017/UW/2017/134/KCAM.UW.2017.134',\n",
       " 'PNW2017/UW/2017/134/KDK.UW.2017.134',\n",
       " 'PNW2017/UW/2017/134/KIMB.UW.2017.134',\n",
       " 'PNW2017/UW/2017/134/KIMR.UW.2017.134',\n",
       " 'PNW2017/UW/2017/134/KINR.UW.2017.134',\n",
       " 'PNW2017/UW/2017/134/KITP.UW.2017.134',\n",
       " 'PNW2017/UW/2017/134/LAWT.UW.2017.134',\n",
       " 'PNW2017/UW/2017/134/MNWA.UW.2017.134',\n",
       " 'PNW2017/UW/2017/134/NOWS.UW.2017.134',\n",
       " 'PNW2017/UW/2017/134/PIER.UW.2017.134',\n",
       " 'PNW2017/UW/2017/134/PSNS.UW.2017.134',\n",
       " 'PNW2017/UW/2017/134/RAD1.UW.2017.134',\n",
       " 'PNW2017/UW/2017/134/RAD2.UW.2017.134',\n",
       " 'PNW2017/UW/2017/134/RAD3.UW.2017.134',\n",
       " 'PNW2017/UW/2017/134/RAD4.UW.2017.134',\n",
       " 'PNW2017/UW/2017/134/RAD5.UW.2017.134',\n",
       " 'PNW2017/UW/2017/134/RAD6.UW.2017.134',\n",
       " 'PNW2017/UW/2017/134/SCC.UW.2017.134',\n",
       " 'PNW2017/UW/2017/134/SEA.UW.2017.134',\n",
       " 'PNW2017/UW/2017/134/SP2.UW.2017.134',\n",
       " 'PNW2017/UW/2017/134/SSS1.UW.2017.134',\n",
       " 'PNW2017/UW/2017/134/SSS2.UW.2017.134',\n",
       " 'PNW2017/UW/2017/134/TKCO.UW.2017.134',\n",
       " 'PNW2017/UW/2017/134/VVHS.UW.2017.134',\n",
       " 'PNW2017/GM/2017/135/AB03.GM.2017.135',\n",
       " 'PNW2017/GM/2017/135/AB04.GM.2017.135',\n",
       " 'PNW2017/GM/2017/135/AB05.GM.2017.135',\n",
       " 'PNW2017/GM/2017/135/AB06.GM.2017.135',\n",
       " 'PNW2017/GM/2017/135/AB07.GM.2017.135',\n",
       " 'PNW2017/GM/2017/135/AB08.GM.2017.135',\n",
       " 'PNW2017/GM/2017/135/AB09.GM.2017.135',\n",
       " 'PNW2017/GM/2017/135/AB10.GM.2017.135',\n",
       " 'PNW2017/GM/2017/135/AB11.GM.2017.135',\n",
       " 'PNW2017/GM/2017/135/AB13.GM.2017.135',\n",
       " 'PNW2017/GM/2017/135/AB14.GM.2017.135',\n",
       " 'PNW2017/GM/2017/135/AB15.GM.2017.135',\n",
       " 'PNW2017/GM/2017/135/AB16.GM.2017.135',\n",
       " 'PNW2017/GM/2017/135/AB17.GM.2017.135',\n",
       " 'PNW2017/GS/2017/135/WE2.GS.2017.135',\n",
       " 'PNW2017/UW/2017/135/ALKI.UW.2017.135',\n",
       " 'PNW2017/UW/2017/135/BABE.UW.2017.135',\n",
       " 'PNW2017/UW/2017/135/BES3.UW.2017.135',\n",
       " 'PNW2017/UW/2017/135/BES4.UW.2017.135',\n",
       " 'PNW2017/UW/2017/135/BES5.UW.2017.135',\n",
       " 'PNW2017/UW/2017/135/BRKS.UW.2017.135',\n",
       " 'PNW2017/UW/2017/135/BSFP.UW.2017.135',\n",
       " 'PNW2017/UW/2017/135/GMW.UW.2017.135',\n",
       " 'PNW2017/UW/2017/135/GNW.UW.2017.135',\n",
       " 'PNW2017/UW/2017/135/GTWN.UW.2017.135',\n",
       " 'PNW2017/UW/2017/135/HART.UW.2017.135',\n",
       " 'PNW2017/UW/2017/135/HOLY.UW.2017.135',\n",
       " 'PNW2017/UW/2017/135/KCAM.UW.2017.135',\n",
       " 'PNW2017/UW/2017/135/KDK.UW.2017.135',\n",
       " 'PNW2017/UW/2017/135/KIMB.UW.2017.135',\n",
       " 'PNW2017/UW/2017/135/KIMR.UW.2017.135',\n",
       " 'PNW2017/UW/2017/135/KINR.UW.2017.135',\n",
       " 'PNW2017/UW/2017/135/KITP.UW.2017.135',\n",
       " 'PNW2017/UW/2017/135/LAWT.UW.2017.135',\n",
       " 'PNW2017/UW/2017/135/MNWA.UW.2017.135',\n",
       " 'PNW2017/UW/2017/135/NOWS.UW.2017.135',\n",
       " 'PNW2017/UW/2017/135/PIER.UW.2017.135',\n",
       " 'PNW2017/UW/2017/135/PSNS.UW.2017.135',\n",
       " 'PNW2017/UW/2017/135/RAD1.UW.2017.135',\n",
       " 'PNW2017/UW/2017/135/RAD2.UW.2017.135',\n",
       " 'PNW2017/UW/2017/135/RAD3.UW.2017.135',\n",
       " 'PNW2017/UW/2017/135/RAD4.UW.2017.135',\n",
       " 'PNW2017/UW/2017/135/RAD5.UW.2017.135',\n",
       " 'PNW2017/UW/2017/135/RAD6.UW.2017.135',\n",
       " 'PNW2017/UW/2017/135/SCC.UW.2017.135',\n",
       " 'PNW2017/UW/2017/135/SEA.UW.2017.135',\n",
       " 'PNW2017/UW/2017/135/SP2.UW.2017.135',\n",
       " 'PNW2017/UW/2017/135/SSS1.UW.2017.135',\n",
       " 'PNW2017/UW/2017/135/SSS2.UW.2017.135',\n",
       " 'PNW2017/UW/2017/135/TKCO.UW.2017.135',\n",
       " 'PNW2017/UW/2017/135/VVHS.UW.2017.135',\n",
       " 'PNW2017/GM/2017/136/AB03.GM.2017.136',\n",
       " 'PNW2017/GM/2017/136/AB04.GM.2017.136',\n",
       " 'PNW2017/GM/2017/136/AB05.GM.2017.136',\n",
       " 'PNW2017/GM/2017/136/AB06.GM.2017.136',\n",
       " 'PNW2017/GM/2017/136/AB07.GM.2017.136',\n",
       " 'PNW2017/GM/2017/136/AB08.GM.2017.136',\n",
       " 'PNW2017/GM/2017/136/AB09.GM.2017.136',\n",
       " 'PNW2017/GM/2017/136/AB10.GM.2017.136',\n",
       " 'PNW2017/GM/2017/136/AB11.GM.2017.136',\n",
       " 'PNW2017/GM/2017/136/AB13.GM.2017.136',\n",
       " 'PNW2017/GM/2017/136/AB14.GM.2017.136',\n",
       " 'PNW2017/GM/2017/136/AB15.GM.2017.136',\n",
       " 'PNW2017/GM/2017/136/AB16.GM.2017.136',\n",
       " 'PNW2017/GM/2017/136/AB17.GM.2017.136',\n",
       " 'PNW2017/GS/2017/136/WE2.GS.2017.136',\n",
       " 'PNW2017/UW/2017/136/ALKI.UW.2017.136',\n",
       " 'PNW2017/UW/2017/136/BABE.UW.2017.136',\n",
       " 'PNW2017/UW/2017/136/BES3.UW.2017.136',\n",
       " 'PNW2017/UW/2017/136/BES4.UW.2017.136',\n",
       " 'PNW2017/UW/2017/136/BES5.UW.2017.136',\n",
       " 'PNW2017/UW/2017/136/BRKS.UW.2017.136',\n",
       " 'PNW2017/UW/2017/136/BSFP.UW.2017.136',\n",
       " 'PNW2017/UW/2017/136/GMW.UW.2017.136',\n",
       " 'PNW2017/UW/2017/136/GNW.UW.2017.136',\n",
       " 'PNW2017/UW/2017/136/GTWN.UW.2017.136',\n",
       " 'PNW2017/UW/2017/136/HART.UW.2017.136',\n",
       " 'PNW2017/UW/2017/136/HOLY.UW.2017.136',\n",
       " 'PNW2017/UW/2017/136/KCAM.UW.2017.136',\n",
       " 'PNW2017/UW/2017/136/KDK.UW.2017.136',\n",
       " 'PNW2017/UW/2017/136/KIMB.UW.2017.136',\n",
       " 'PNW2017/UW/2017/136/KIMR.UW.2017.136',\n",
       " 'PNW2017/UW/2017/136/KINR.UW.2017.136',\n",
       " 'PNW2017/UW/2017/136/KITP.UW.2017.136',\n",
       " 'PNW2017/UW/2017/136/LAWT.UW.2017.136',\n",
       " 'PNW2017/UW/2017/136/MNWA.UW.2017.136',\n",
       " 'PNW2017/UW/2017/136/NOWS.UW.2017.136',\n",
       " 'PNW2017/UW/2017/136/PIER.UW.2017.136',\n",
       " 'PNW2017/UW/2017/136/PSNS.UW.2017.136',\n",
       " 'PNW2017/UW/2017/136/RAD1.UW.2017.136',\n",
       " 'PNW2017/UW/2017/136/RAD2.UW.2017.136',\n",
       " 'PNW2017/UW/2017/136/RAD3.UW.2017.136',\n",
       " 'PNW2017/UW/2017/136/RAD4.UW.2017.136',\n",
       " 'PNW2017/UW/2017/136/RAD5.UW.2017.136',\n",
       " 'PNW2017/UW/2017/136/RAD6.UW.2017.136',\n",
       " 'PNW2017/UW/2017/136/SCC.UW.2017.136',\n",
       " 'PNW2017/UW/2017/136/SEA.UW.2017.136',\n",
       " 'PNW2017/UW/2017/136/SP2.UW.2017.136',\n",
       " 'PNW2017/UW/2017/136/SSS1.UW.2017.136',\n",
       " 'PNW2017/UW/2017/136/SSS2.UW.2017.136',\n",
       " 'PNW2017/UW/2017/136/TKCO.UW.2017.136',\n",
       " 'PNW2017/UW/2017/136/VVHS.UW.2017.136',\n",
       " 'PNW2017/GM/2017/137/AB03.GM.2017.137',\n",
       " 'PNW2017/GM/2017/137/AB04.GM.2017.137',\n",
       " 'PNW2017/GM/2017/137/AB05.GM.2017.137',\n",
       " 'PNW2017/GM/2017/137/AB06.GM.2017.137',\n",
       " 'PNW2017/GM/2017/137/AB07.GM.2017.137',\n",
       " 'PNW2017/GM/2017/137/AB08.GM.2017.137',\n",
       " 'PNW2017/GM/2017/137/AB09.GM.2017.137',\n",
       " 'PNW2017/GM/2017/137/AB10.GM.2017.137',\n",
       " 'PNW2017/GM/2017/137/AB11.GM.2017.137',\n",
       " 'PNW2017/GM/2017/137/AB13.GM.2017.137',\n",
       " 'PNW2017/GM/2017/137/AB14.GM.2017.137',\n",
       " 'PNW2017/GM/2017/137/AB15.GM.2017.137',\n",
       " 'PNW2017/GM/2017/137/AB16.GM.2017.137',\n",
       " 'PNW2017/GM/2017/137/AB17.GM.2017.137',\n",
       " 'PNW2017/GS/2017/137/WE2.GS.2017.137',\n",
       " 'PNW2017/UW/2017/137/ALKI.UW.2017.137',\n",
       " 'PNW2017/UW/2017/137/BABE.UW.2017.137',\n",
       " 'PNW2017/UW/2017/137/BES3.UW.2017.137',\n",
       " 'PNW2017/UW/2017/137/BES4.UW.2017.137',\n",
       " 'PNW2017/UW/2017/137/BES5.UW.2017.137',\n",
       " 'PNW2017/UW/2017/137/BRKS.UW.2017.137',\n",
       " 'PNW2017/UW/2017/137/BSFP.UW.2017.137',\n",
       " 'PNW2017/UW/2017/137/GMW.UW.2017.137',\n",
       " 'PNW2017/UW/2017/137/GNW.UW.2017.137',\n",
       " 'PNW2017/UW/2017/137/GTWN.UW.2017.137',\n",
       " 'PNW2017/UW/2017/137/HART.UW.2017.137',\n",
       " 'PNW2017/UW/2017/137/HOLY.UW.2017.137',\n",
       " 'PNW2017/UW/2017/137/KCAM.UW.2017.137',\n",
       " 'PNW2017/UW/2017/137/KDK.UW.2017.137',\n",
       " 'PNW2017/UW/2017/137/KIMB.UW.2017.137',\n",
       " 'PNW2017/UW/2017/137/KIMR.UW.2017.137',\n",
       " 'PNW2017/UW/2017/137/KINR.UW.2017.137',\n",
       " 'PNW2017/UW/2017/137/KITP.UW.2017.137',\n",
       " 'PNW2017/UW/2017/137/LAWT.UW.2017.137',\n",
       " 'PNW2017/UW/2017/137/MNWA.UW.2017.137',\n",
       " 'PNW2017/UW/2017/137/NOWS.UW.2017.137',\n",
       " 'PNW2017/UW/2017/137/PIER.UW.2017.137',\n",
       " 'PNW2017/UW/2017/137/PSNS.UW.2017.137',\n",
       " 'PNW2017/UW/2017/137/RAD1.UW.2017.137',\n",
       " 'PNW2017/UW/2017/137/RAD2.UW.2017.137',\n",
       " 'PNW2017/UW/2017/137/RAD3.UW.2017.137',\n",
       " 'PNW2017/UW/2017/137/RAD4.UW.2017.137',\n",
       " 'PNW2017/UW/2017/137/RAD5.UW.2017.137',\n",
       " 'PNW2017/UW/2017/137/RAD6.UW.2017.137',\n",
       " 'PNW2017/UW/2017/137/SCC.UW.2017.137',\n",
       " 'PNW2017/UW/2017/137/SEA.UW.2017.137',\n",
       " 'PNW2017/UW/2017/137/SP2.UW.2017.137',\n",
       " 'PNW2017/UW/2017/137/SSS1.UW.2017.137',\n",
       " 'PNW2017/UW/2017/137/SSS2.UW.2017.137',\n",
       " 'PNW2017/UW/2017/137/TKCO.UW.2017.137',\n",
       " 'PNW2017/UW/2017/137/VVHS.UW.2017.137',\n",
       " 'PNW2017/GM/2017/138/AB03.GM.2017.138',\n",
       " 'PNW2017/GM/2017/138/AB04.GM.2017.138',\n",
       " 'PNW2017/GM/2017/138/AB05.GM.2017.138',\n",
       " 'PNW2017/GM/2017/138/AB06.GM.2017.138',\n",
       " 'PNW2017/GM/2017/138/AB07.GM.2017.138',\n",
       " 'PNW2017/GM/2017/138/AB08.GM.2017.138',\n",
       " 'PNW2017/GM/2017/138/AB09.GM.2017.138',\n",
       " 'PNW2017/GM/2017/138/AB10.GM.2017.138',\n",
       " 'PNW2017/GM/2017/138/AB11.GM.2017.138',\n",
       " 'PNW2017/GM/2017/138/AB13.GM.2017.138',\n",
       " 'PNW2017/GM/2017/138/AB14.GM.2017.138',\n",
       " 'PNW2017/GM/2017/138/AB15.GM.2017.138',\n",
       " 'PNW2017/GM/2017/138/AB16.GM.2017.138',\n",
       " 'PNW2017/GM/2017/138/AB17.GM.2017.138',\n",
       " 'PNW2017/GS/2017/138/WE2.GS.2017.138',\n",
       " 'PNW2017/UW/2017/138/ALKI.UW.2017.138',\n",
       " 'PNW2017/UW/2017/138/BABE.UW.2017.138',\n",
       " 'PNW2017/UW/2017/138/BES3.UW.2017.138',\n",
       " 'PNW2017/UW/2017/138/BES4.UW.2017.138',\n",
       " 'PNW2017/UW/2017/138/BES5.UW.2017.138',\n",
       " 'PNW2017/UW/2017/138/BRKS.UW.2017.138',\n",
       " 'PNW2017/UW/2017/138/BSFP.UW.2017.138',\n",
       " 'PNW2017/UW/2017/138/GMW.UW.2017.138',\n",
       " 'PNW2017/UW/2017/138/GNW.UW.2017.138',\n",
       " 'PNW2017/UW/2017/138/GTWN.UW.2017.138',\n",
       " 'PNW2017/UW/2017/138/HART.UW.2017.138',\n",
       " 'PNW2017/UW/2017/138/HOLY.UW.2017.138',\n",
       " 'PNW2017/UW/2017/138/KCAM.UW.2017.138',\n",
       " 'PNW2017/UW/2017/138/KDK.UW.2017.138',\n",
       " 'PNW2017/UW/2017/138/KIMB.UW.2017.138',\n",
       " 'PNW2017/UW/2017/138/KIMR.UW.2017.138',\n",
       " 'PNW2017/UW/2017/138/KINR.UW.2017.138',\n",
       " 'PNW2017/UW/2017/138/KITP.UW.2017.138',\n",
       " 'PNW2017/UW/2017/138/LAWT.UW.2017.138',\n",
       " 'PNW2017/UW/2017/138/MNWA.UW.2017.138',\n",
       " 'PNW2017/UW/2017/138/NOWS.UW.2017.138',\n",
       " 'PNW2017/UW/2017/138/PIER.UW.2017.138',\n",
       " 'PNW2017/UW/2017/138/PSNS.UW.2017.138',\n",
       " 'PNW2017/UW/2017/138/RAD1.UW.2017.138',\n",
       " 'PNW2017/UW/2017/138/RAD2.UW.2017.138',\n",
       " 'PNW2017/UW/2017/138/RAD3.UW.2017.138',\n",
       " 'PNW2017/UW/2017/138/RAD4.UW.2017.138',\n",
       " 'PNW2017/UW/2017/138/RAD5.UW.2017.138',\n",
       " 'PNW2017/UW/2017/138/RAD6.UW.2017.138',\n",
       " 'PNW2017/UW/2017/138/SCC.UW.2017.138',\n",
       " 'PNW2017/UW/2017/138/SEA.UW.2017.138',\n",
       " 'PNW2017/UW/2017/138/SP2.UW.2017.138',\n",
       " 'PNW2017/UW/2017/138/SSS1.UW.2017.138',\n",
       " 'PNW2017/UW/2017/138/SSS2.UW.2017.138',\n",
       " 'PNW2017/UW/2017/138/TKCO.UW.2017.138',\n",
       " 'PNW2017/UW/2017/138/VVHS.UW.2017.138',\n",
       " 'PNW2017/GM/2017/139/AB03.GM.2017.139',\n",
       " 'PNW2017/GM/2017/139/AB04.GM.2017.139',\n",
       " 'PNW2017/GM/2017/139/AB05.GM.2017.139',\n",
       " 'PNW2017/GM/2017/139/AB06.GM.2017.139',\n",
       " 'PNW2017/GM/2017/139/AB07.GM.2017.139',\n",
       " 'PNW2017/GM/2017/139/AB08.GM.2017.139',\n",
       " 'PNW2017/GM/2017/139/AB09.GM.2017.139',\n",
       " 'PNW2017/GM/2017/139/AB10.GM.2017.139',\n",
       " 'PNW2017/GM/2017/139/AB11.GM.2017.139',\n",
       " 'PNW2017/GM/2017/139/AB13.GM.2017.139',\n",
       " 'PNW2017/GM/2017/139/AB14.GM.2017.139',\n",
       " 'PNW2017/GM/2017/139/AB15.GM.2017.139',\n",
       " 'PNW2017/GM/2017/139/AB16.GM.2017.139',\n",
       " 'PNW2017/GM/2017/139/AB17.GM.2017.139',\n",
       " 'PNW2017/GS/2017/139/WE2.GS.2017.139',\n",
       " 'PNW2017/UW/2017/139/ALKI.UW.2017.139',\n",
       " 'PNW2017/UW/2017/139/BABE.UW.2017.139',\n",
       " 'PNW2017/UW/2017/139/BES3.UW.2017.139',\n",
       " 'PNW2017/UW/2017/139/BES4.UW.2017.139',\n",
       " 'PNW2017/UW/2017/139/BES5.UW.2017.139',\n",
       " 'PNW2017/UW/2017/139/BRKS.UW.2017.139',\n",
       " 'PNW2017/UW/2017/139/BSFP.UW.2017.139',\n",
       " 'PNW2017/UW/2017/139/GMW.UW.2017.139',\n",
       " 'PNW2017/UW/2017/139/GNW.UW.2017.139',\n",
       " 'PNW2017/UW/2017/139/GTWN.UW.2017.139',\n",
       " 'PNW2017/UW/2017/139/HART.UW.2017.139',\n",
       " 'PNW2017/UW/2017/139/HOLY.UW.2017.139',\n",
       " 'PNW2017/UW/2017/139/KCAM.UW.2017.139',\n",
       " 'PNW2017/UW/2017/139/KDK.UW.2017.139',\n",
       " 'PNW2017/UW/2017/139/KIMB.UW.2017.139',\n",
       " 'PNW2017/UW/2017/139/KIMR.UW.2017.139',\n",
       " 'PNW2017/UW/2017/139/KINR.UW.2017.139',\n",
       " 'PNW2017/UW/2017/139/KITP.UW.2017.139',\n",
       " 'PNW2017/UW/2017/139/LAWT.UW.2017.139',\n",
       " 'PNW2017/UW/2017/139/MNWA.UW.2017.139',\n",
       " 'PNW2017/UW/2017/139/NOWS.UW.2017.139',\n",
       " 'PNW2017/UW/2017/139/PIER.UW.2017.139',\n",
       " 'PNW2017/UW/2017/139/PSNS.UW.2017.139',\n",
       " 'PNW2017/UW/2017/139/RAD1.UW.2017.139',\n",
       " 'PNW2017/UW/2017/139/RAD2.UW.2017.139',\n",
       " 'PNW2017/UW/2017/139/RAD3.UW.2017.139',\n",
       " 'PNW2017/UW/2017/139/RAD4.UW.2017.139',\n",
       " 'PNW2017/UW/2017/139/RAD5.UW.2017.139',\n",
       " 'PNW2017/UW/2017/139/RAD6.UW.2017.139',\n",
       " 'PNW2017/UW/2017/139/SCC.UW.2017.139',\n",
       " 'PNW2017/UW/2017/139/SEA.UW.2017.139',\n",
       " 'PNW2017/UW/2017/139/SP2.UW.2017.139',\n",
       " 'PNW2017/UW/2017/139/SSS1.UW.2017.139',\n",
       " 'PNW2017/UW/2017/139/SSS2.UW.2017.139',\n",
       " 'PNW2017/UW/2017/139/TKCO.UW.2017.139',\n",
       " 'PNW2017/UW/2017/139/VVHS.UW.2017.139',\n",
       " 'PNW2017/GM/2017/140/AB03.GM.2017.140',\n",
       " 'PNW2017/GM/2017/140/AB04.GM.2017.140',\n",
       " 'PNW2017/GM/2017/140/AB05.GM.2017.140',\n",
       " 'PNW2017/GM/2017/140/AB06.GM.2017.140',\n",
       " 'PNW2017/GM/2017/140/AB07.GM.2017.140',\n",
       " 'PNW2017/GM/2017/140/AB08.GM.2017.140',\n",
       " 'PNW2017/GM/2017/140/AB09.GM.2017.140',\n",
       " 'PNW2017/GM/2017/140/AB10.GM.2017.140',\n",
       " 'PNW2017/GM/2017/140/AB11.GM.2017.140',\n",
       " 'PNW2017/GM/2017/140/AB13.GM.2017.140',\n",
       " 'PNW2017/GM/2017/140/AB14.GM.2017.140',\n",
       " 'PNW2017/GM/2017/140/AB15.GM.2017.140',\n",
       " 'PNW2017/GM/2017/140/AB16.GM.2017.140',\n",
       " 'PNW2017/GM/2017/140/AB17.GM.2017.140',\n",
       " 'PNW2017/GS/2017/140/WE2.GS.2017.140',\n",
       " 'PNW2017/UW/2017/140/ALKI.UW.2017.140',\n",
       " 'PNW2017/UW/2017/140/BABE.UW.2017.140',\n",
       " 'PNW2017/UW/2017/140/BES3.UW.2017.140',\n",
       " 'PNW2017/UW/2017/140/BES4.UW.2017.140',\n",
       " 'PNW2017/UW/2017/140/BES5.UW.2017.140',\n",
       " 'PNW2017/UW/2017/140/BRKS.UW.2017.140',\n",
       " 'PNW2017/UW/2017/140/BSFP.UW.2017.140',\n",
       " 'PNW2017/UW/2017/140/GMW.UW.2017.140',\n",
       " 'PNW2017/UW/2017/140/GNW.UW.2017.140',\n",
       " 'PNW2017/UW/2017/140/GTWN.UW.2017.140',\n",
       " 'PNW2017/UW/2017/140/HART.UW.2017.140',\n",
       " 'PNW2017/UW/2017/140/HOLY.UW.2017.140',\n",
       " 'PNW2017/UW/2017/140/KCAM.UW.2017.140',\n",
       " 'PNW2017/UW/2017/140/KDK.UW.2017.140',\n",
       " 'PNW2017/UW/2017/140/KIMB.UW.2017.140',\n",
       " 'PNW2017/UW/2017/140/KIMR.UW.2017.140',\n",
       " ...]"
      ]
     },
     "execution_count": 62,
     "metadata": {},
     "output_type": "execute_result"
    }
   ],
   "source": [
    "q_fmtstr =  'PNW{YEAR}/{NET}/{YEAR}/{JD}/{STA}.{NET}.{YEAR}.{JD}'\n",
    "qlist = []\n",
    "\n",
    "with open('./data/2017-05_BRM/pnws_query_big.txt','w') as f_:\n",
    "    for J_ in range(62):\n",
    "        JD = UTCDateTime(\"2017-05-01\").julday + J_\n",
    "        for N_ in inv.networks:\n",
    "            for S_ in N_.stations:\n",
    "                iquery = q_fmtstr.format(HDD='wd07',STA=S_.code,NET=N_.code,YEAR=2017,JD=JD)\n",
    "                qlist.append(iquery)\n",
    "                f_.write(iquery+'\\n')\n",
    "\n",
    "f_.close()\n",
    "qlist"
   ]
  },
  {
   "cell_type": "code",
   "execution_count": 17,
   "metadata": {},
   "outputs": [
    {
     "name": "stdout",
     "output_type": "stream",
     "text": [
      "Running window 2017-05-11T00:00:00 -- 2017-05-11T01:00:00\n",
      "Running window 2017-05-11T01:00:00 -- 2017-05-11T02:00:00\n",
      "Running window 2017-05-11T02:00:00 -- 2017-05-11T03:00:00\n",
      "Running window 2017-05-11T03:00:00 -- 2017-05-11T04:00:00\n",
      "Running window 2017-05-11T04:00:00 -- 2017-05-11T05:00:00\n",
      "Running window 2017-05-11T05:00:00 -- 2017-05-11T06:00:00\n",
      "Running window 2017-05-11T06:00:00 -- 2017-05-11T07:00:00\n",
      "Running window 2017-05-11T07:00:00 -- 2017-05-11T08:00:00\n",
      "Running window 2017-05-11T08:00:00 -- 2017-05-11T09:00:00\n",
      "Running window 2017-05-11T09:00:00 -- 2017-05-11T10:00:00\n",
      "Running window 2017-05-11T10:00:00 -- 2017-05-11T11:00:00\n",
      "Running window 2017-05-11T11:00:00 -- 2017-05-11T12:00:00\n",
      "Running window 2017-05-11T12:00:00 -- 2017-05-11T13:00:00\n",
      "Running window 2017-05-11T13:00:00 -- 2017-05-11T14:00:00\n",
      "Running window 2017-05-11T14:00:00 -- 2017-05-11T15:00:00\n",
      "Running window 2017-05-11T15:00:00 -- 2017-05-11T16:00:00\n",
      "Running window 2017-05-11T16:00:00 -- 2017-05-11T17:00:00\n",
      "Running window 2017-05-11T17:00:00 -- 2017-05-11T18:00:00\n",
      "Running window 2017-05-11T18:00:00 -- 2017-05-11T19:00:00\n",
      "Running window 2017-05-11T19:00:00 -- 2017-05-11T20:00:00\n",
      "Running window 2017-05-11T20:00:00 -- 2017-05-11T21:00:00\n",
      "Running window 2017-05-11T21:00:00 -- 2017-05-11T22:00:00\n",
      "Running window 2017-05-11T22:00:00 -- 2017-05-11T23:00:00\n",
      "Running window 2017-05-11T23:00:00 -- 2017-05-12T00:00:00\n",
      "Running window 2017-05-12T00:00:00 -- 2017-05-12T01:00:00\n",
      "Running window 2017-05-12T01:00:00 -- 2017-05-12T02:00:00\n",
      "Running window 2017-05-12T02:00:00 -- 2017-05-12T03:00:00\n",
      "Running window 2017-05-12T03:00:00 -- 2017-05-12T04:00:00\n",
      "Running window 2017-05-12T04:00:00 -- 2017-05-12T05:00:00\n",
      "Running window 2017-05-12T05:00:00 -- 2017-05-12T06:00:00\n",
      "Running window 2017-05-12T06:00:00 -- 2017-05-12T07:00:00\n",
      "Running window 2017-05-12T07:00:00 -- 2017-05-12T08:00:00\n",
      "Running window 2017-05-12T08:00:00 -- 2017-05-12T09:00:00\n",
      "Running window 2017-05-12T09:00:00 -- 2017-05-12T10:00:00\n",
      "Running window 2017-05-12T10:00:00 -- 2017-05-12T11:00:00\n",
      "Running window 2017-05-12T11:00:00 -- 2017-05-12T12:00:00\n",
      "Running window 2017-05-12T12:00:00 -- 2017-05-12T13:00:00\n",
      "Running window 2017-05-12T13:00:00 -- 2017-05-12T14:00:00\n",
      "Running window 2017-05-12T14:00:00 -- 2017-05-12T15:00:00\n",
      "Running window 2017-05-12T15:00:00 -- 2017-05-12T16:00:00\n",
      "Running window 2017-05-12T16:00:00 -- 2017-05-12T17:00:00\n",
      "Running window 2017-05-12T17:00:00 -- 2017-05-12T18:00:00\n",
      "Running window 2017-05-12T18:00:00 -- 2017-05-12T19:00:00\n",
      "Running window 2017-05-12T19:00:00 -- 2017-05-12T20:00:00\n",
      "Running window 2017-05-12T20:00:00 -- 2017-05-12T21:00:00\n",
      "Running window 2017-05-12T21:00:00 -- 2017-05-12T22:00:00\n",
      "Running window 2017-05-12T22:00:00 -- 2017-05-12T23:00:00\n",
      "Running window 2017-05-12T23:00:00 -- 2017-05-13T00:00:00\n"
     ]
    }
   ],
   "source": [
    "# Get continuous waveforms using BULK request - cross-reference with PNS Store holdings...\n",
    "TSstr = \"2017-05-11T00:00:00\"\n",
    "TEstr = \"2017-05-13T00:00:00\"\n",
    "\n",
    "ts = UTCDateTime(TSstr)\n",
    "te = ts + 3600.\n",
    "out_file_FMT = os.path.join('data','2017-05_BRM','IRIS','{NET}','{STA}','{NET}.{STA}.{CP}.{TS}.{CHANS}.mseed')\n",
    "bulk = []         \n",
    "while ts < UTCDateTime(TEstr):\n",
    "    print('Running window %s -- %s'%(ts.isoformat(),te.isoformat()))\n",
    "    # Compose bulk request\n",
    "    bulk = []\n",
    "    for N_ in inv.networks:\n",
    "        for S_ in N_.stations:\n",
    "            try:\n",
    "                os.makedirs(os.path.join('data','2017-05_BRM','IRIS',N_.code,S_.code))\n",
    "            except:\n",
    "                pass\n",
    "            for C_ in S_.channels:\n",
    "                CC_ = C_.code\n",
    "                LC_ = C_.location_code\n",
    "                bulk.append((N_.code,S_.code,LC_,CC_,ts,te))\n",
    "    # Execute bulk request for chosen windowed timeframe for a given station\n",
    "    st = client.get_waveforms_bulk(bulk)\n",
    "\n",
    "    # Format and save waveforms in ML-compliant ordering - MSEED @ station level with Z,[N1],[E2] channel sequencing\n",
    "    for N_ in inv.networks:\n",
    "        for S_ in N_.stations:\n",
    "            sst = st.copy().select(network=N_.code,station=S_.code)\n",
    "            nchans = len(sst)\n",
    "\n",
    "            # If 3-C station, bundle data as normal\n",
    "            if nchans == 3:\n",
    "                ist = Stream()\n",
    "                ist += sst.select(channel='??Z')\n",
    "                ist += sst.select(channel='??[N1]')\n",
    "                ist += sst.select(channel='??[E1]')            \n",
    "                CCODES = ist[0].stats.channel[-1] + ist[1].stats.channel[-1] + ist[2].stats.channel[-1]\n",
    "                outname = out_file_FMT.format(NET=N_.code,STA=S_.code,CP=sst[0].stats.channel[:2],CHANS=CCODES,TS=ts.isoformat())\n",
    "                ist.write(outname,fmt='MSEED')\n",
    "            # If 1-C station, use the \"trick\" from Retailleau et al. (2022)\n",
    "            elif nchans == 1:\n",
    "                ist = Stream()\n",
    "                ist += sst[0]\n",
    "                tr1f = sst[0].copy()\n",
    "                tr1f.stats.channel+= 'N'  \n",
    "                ist += tr1f\n",
    "                tr2f = sst[0].copy()\n",
    "                tr2f.stats.channel+= 'E'\n",
    "                ist += tr2f\n",
    "                CCODES = sst[0].stats.channel[-1] + 'ZZ'\n",
    "                outname = out_file_FMT.format(NET=N_.code,STA=S_.code,CP=sst[0].stats.channel[:2],CHANS=CCODES,TS=ts.isoformat())\n",
    "                ist.write(outname,fmt='MSEED')\n",
    "            # Deal with multi-sensor/-sampling_rate stations\n",
    "            elif nchans > 3 and nchans%3 == 0:\n",
    "                CPlist = []\n",
    "                for C_ in S_.channels:\n",
    "                    if C_.code[:2] not in CPlist:\n",
    "                        CPlist.append(C_.code[:2])\n",
    "                for CP_ in CPlist:\n",
    "                    ist = Stream()\n",
    "                    ist += sst.select(channel=CP_+'Z')\n",
    "                    ist += sst.select(channel=CP_+'[N1]')\n",
    "                    ist += sst.select(channel=CP_+'[E1]')            \n",
    "                    CCODES = ist[0].stats.channel[-1] + ist[1].stats.channel[-1] + ist[2].stats.channel[-1]\n",
    "                    outname = out_file_FMT.format(NET=N_.code,STA=S_.code,CP=CP_,CHANS=CCODES,TS=ts.isoformat())\n",
    "                    ist.write(outname,fmt='MSEED')\n",
    "            \n",
    "    # Advance indices for WHILE loop\n",
    "    ts += 3600.\n",
    "    te += 3600.\n",
    "\n"
   ]
  },
  {
   "cell_type": "markdown",
   "metadata": {},
   "source": [
    "### TRASH BEYOND HERE"
   ]
  },
  {
   "cell_type": "code",
   "execution_count": null,
   "metadata": {},
   "outputs": [],
   "source": [
    "# # Use inventory to pull data for the period of interest and save to disk in 1 hour chunks\n",
    "# ts = UTCDateTime(TSstr)\n",
    "# te = ts + 3600.\n",
    "# save_dir = os.path.join('data','2017-05_BRM')\n",
    "# while ts < UTCDateTime(TEstr):\n",
    "#     st = client.get_waveforms(starttime=ts,endtime=te)\n",
    "#     ts += 3600.\n",
    "#     te += 3600.\n"
   ]
  },
  {
   "cell_type": "code",
   "execution_count": null,
   "metadata": {},
   "outputs": [],
   "source": [
    "# # Get continuous waveforms - OBSOLITED - This method fails to get extensive data\n",
    "# ts = UTCDateTime(TSstr)\n",
    "# te = ts + 3600.\n",
    "# out_file_FMT = os.path.join('data','2017-05_BRM','{NET}','{STA}','{NET}.{STA}.{LOC}.{CHAN}.{TS}.mseed')\n",
    "             \n",
    "# while ts < UTCDateTime(TEstr):\n",
    "#     print('Running window %s -- %s'%(ts.isoformat(),te.isoformat()))\n",
    "#     for N_ in inv.networks:\n",
    "#         # try:\n",
    "#         #     os.makedirs(os.path.join('data','2017-05_BRM',str(N_.code)))\n",
    "#         # except:\n",
    "#         #     pass\n",
    "#         for S_ in N_.stations:\n",
    "#             st = Stream()\n",
    "#             # try:\n",
    "#             #     os.mkdir(os.path.join('data','2017-05_BRM',str(N_.code),str(S_.code)))\n",
    "#             # except:\n",
    "#             #     pass\n",
    "#             for C_ in S_.channels:\n",
    "#                 CC_ = C_.code\n",
    "#                 LC_ = C_.location_code\n",
    "#                 out_file = out_file_FMT.format(NET=N_.code,STA=S_.code,LOC=LC_,CHAN=CC_,TS=ts.isoformat())\n",
    "#                 try:\n",
    "#                     tr = client.get_waveforms(N_.code,S_.code,LC_,CC_,ts,te)[0]\n",
    "#                     try: \n",
    "#                         os.mkdirs(os.path.join('data','2017-05_BRM',str(N_.code),str(S_.code)))\n",
    "#                     except:\n",
    "#                         pass\n",
    "#                     tr.write(out_file,fmt='MSEED')\n",
    "#                 except:\n",
    "#                     pass\n",
    "#     ts += 3600.\n",
    "#     te += 3600."
   ]
  },
  {
   "cell_type": "code",
   "execution_count": null,
   "metadata": {},
   "outputs": [],
   "source": [
    "# # Use IRIS webservices / FDSN to query waveform data \n",
    "# # Based on mass_downloader example on docs.github.org: https://docs.obspy.org/packages/autogen/obspy.clients.fdsn.mass_downloader.html\n",
    "# domain = CircularDomain(**dict((k_,qstation_kwargs[k_]) for k_ in ['latitude','longitude','maxradius']),minradius=.0)\n",
    "\n",
    "# restrictions = Restrictions(starttime=UTCDateTime(TSstr),endtime=UTCDateTime(TEstr),\n",
    "#                             chunklength_in_sec=3600.)\n",
    "#                             # limit_stations_to_inventory=inv,chunklength_in_sec=3600)\n",
    "# mdl = MassDownloader()\n",
    "# mdl.download(domain,restrictions,threads_per_client=2,\\\n",
    "#              mseed_storage=os.path.join('data','2017-05_BRM'),\\\n",
    "#              stationxml_storage=os.path.join('data','2017-05_BRM','{network}','{station}.xml'))"
   ]
  },
  {
   "cell_type": "code",
   "execution_count": null,
   "metadata": {},
   "outputs": [],
   "source": [
    "# # Plot the catalog\n",
    "# fig = plt.figure(figsize=(10,10))\n",
    "# axa = fig.add_subplot(211)\n",
    "# axa.plot(df_BRM_full['Magnitude'],'.')\n",
    "# axa.set_xlabel('UTC Date Time')\n",
    "# axa.set_ylabel('Magnitude (mixed methods)')\n",
    "# axb = axa.twinx()\n",
    "# axb.plot(df_BRM_full['Magnitude'].cumsum(),'r-',alpha=0.5)\n",
    "# axb.set_ylabel('Cumulative magnitude',labelpad=15)\n",
    "\n",
    "# # # Define window to assess\n",
    "# # TS = pd.Timestamp(\"2017-05-11\")\n",
    "# # TE = pd.Timestamp(\"2017-05-13T00:00:00\")\n",
    "\n",
    "# axa.fill_between([TS,TE],[axa.get_ylim()[0]]*2,[axa.get_ylim()[1]]*2,color='yellow')\n",
    "\n",
    "\n",
    "# axc = fig.add_subplot(212)\n",
    "# IND = (df_BRM_full.index >= TS) & (df_BRM_full.index <= TE)\n",
    "# axc.plot(df_BRM_full[IND]['Magnitude'],'.')\n",
    "# axd = axc.twinx()\n",
    "# axd.plot((10**df_BRM_full[IND]['Magnitude']).cumsum(),'r-',alpha=0.5)\n",
    "\n",
    "# # axc = fig.add_subplot(223)\n",
    "# # ch = axc.scatter(df_BRM_full['Lon'],df_BRM_full['Lat'],s = 5**df_BRM_full['Magnitude'],c=df_BRM_full.index)\n",
    "# # plt.colorbar(ax=axc,cax=ch)"
   ]
  }
 ],
 "metadata": {
  "kernelspec": {
   "display_name": "Python 3",
   "language": "python",
   "name": "python3"
  },
  "language_info": {
   "codemirror_mode": {
    "name": "ipython",
    "version": 3
   },
   "file_extension": ".py",
   "mimetype": "text/x-python",
   "name": "python",
   "nbconvert_exporter": "python",
   "pygments_lexer": "ipython3",
   "version": "3.9.15"
  },
  "orig_nbformat": 4
 },
 "nbformat": 4,
 "nbformat_minor": 2
}
