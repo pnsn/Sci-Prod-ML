{
 "cells": [
  {
   "cell_type": "markdown",
   "metadata": {},
   "source": [
    "# SeisBench Testcase Prediction (Detection/Picking)\n",
    "This prediction test case uses a small amount of data from the GHOST 2022/2023 nodal geophone acquisition on downstream Thwaites Glacier, West Antarctica.\n",
    "\n",
    "Waveform data are locally hosted by the script author and available upon request from the   \n",
    "(co-)principal investigators during the restricted-use period for the 2022/2023 Y2 network.  \n",
    "After this period data will be accessible via the IRIS Data Management Center.  \n",
    "\n",
    "#### Script Author\n",
    "Nathan Stevens (ntsteven@uw.edu)\n",
    "\n",
    "#### (Co-)Principal Investigators\n",
    "Sridhar Anandakrishnan (sxa17@psu.edu)\n",
    "Lucas Zoet (lzoet@wisc.edu)\n",
    "Paul Winberry (paul.winberry@gmail.com)\n",
    "#### Attribution\n",
    "- Code structure based on discussions with Yiyu Ni (University of Washington)\n",
    "- The GHOST (Geophysical Habitat Of Subglacial Thwaites) project is funded in conjunction by the NSF (PLR-1738913) and NERC (National Environmental Research Council, United Kingdom)"
   ]
  },
  {
   "cell_type": "code",
   "execution_count": null,
   "metadata": {},
   "outputs": [],
   "source": [
    "# Import modules\n",
    "from seisbench.models import EQTransformer\n",
    "from obspy import read, Stream, UTCDateTime\n",
    "import torch\n",
    "import matplotlib.pyplot as plt\n",
    "from glob import glob"
   ]
  },
  {
   "cell_type": "code",
   "execution_count": null,
   "metadata": {},
   "outputs": [],
   "source": [
    "# Load data\n",
    "flist = glob('./data/GHOST_1210_Example/*')\n",
    "st = Stream()\n",
    "for f_ in flist:\n",
    "    st += read(f_)\n",
    "\n",
    "\n",
    "print(st)"
   ]
  },
  {
   "cell_type": "code",
   "execution_count": null,
   "metadata": {},
   "outputs": [],
   "source": [
    "# Preprocess data\n",
    "# Ensure correct data sequence (Z12)\n",
    "st2 = Stream()\n",
    "st2 += st.select(channel='??Z')\n",
    "st2 += st.select(channel='??[1N]')\n",
    "st2 += st.select(channel='??[2E]')\n",
    "\n",
    "# Filter data to frequency band of observed basal icequakes\n",
    "st2 = st2.filter('bandpass',freqmin=10,freqmax=200)\n",
    "\n",
    "# Time dilate traces to make them \"look\" like tectonic earthquakes (sits in the band common to EQs used for training)\n",
    "for tr_ in st2:\n",
    "    tr_.stats.sampling_rate = 100\n",
    "\n",
    "print(st2)"
   ]
  },
  {
   "cell_type": "code",
   "execution_count": null,
   "metadata": {},
   "outputs": [],
   "source": [
    "# Initialize ML prediction model\n",
    "model = EQTransformer.from_pretrained('stead')\n",
    "# Push job to GPU (can be fussy )\n",
    "# model.to(torch.device('cuda'))"
   ]
  },
  {
   "cell_type": "code",
   "execution_count": null,
   "metadata": {},
   "outputs": [],
   "source": [
    "# Run annotation prediction for pick probabilities and detection function\n",
    "ann_st = model.annotate(st2)"
   ]
  },
  {
   "cell_type": "code",
   "execution_count": null,
   "metadata": {},
   "outputs": [],
   "source": [
    "# Run classification to get picks\n",
    "picks = model.classify(st2,batch=256,P_threshold=1e-5,S_threshold=1e-4)"
   ]
  },
  {
   "cell_type": "code",
   "execution_count": null,
   "metadata": {},
   "outputs": [],
   "source": [
    "# Show pick probabilities/detections alongside traces\n",
    "st3 = st2.copy();\n",
    "st3 += ann_st.copy();\n",
    "st3.plot(equal_scale=False,method='full')"
   ]
  }
 ],
 "metadata": {
  "kernelspec": {
   "display_name": "Python 3",
   "language": "python",
   "name": "python3"
  },
  "language_info": {
   "codemirror_mode": {
    "name": "ipython",
    "version": 3
   },
   "file_extension": ".py",
   "mimetype": "text/x-python",
   "name": "python",
   "nbconvert_exporter": "python",
   "pygments_lexer": "ipython3",
   "version": "3.11.5"
  },
  "orig_nbformat": 4
 },
 "nbformat": 4,
 "nbformat_minor": 2
}
