{
 "cells": [
  {
   "cell_type": "markdown",
   "metadata": {},
   "source": [
    "# Gappy Data Preprocessing Tests\n",
    ":auth: Nathan T. Stevens\n",
    ":email: ntsteven at uw.edu\n",
    ":org: Pacific Northwest Seismic Network\n"
   ]
  },
  {
   "cell_type": "code",
   "execution_count": 7,
   "metadata": {},
   "outputs": [],
   "source": [
    "import os\n",
    "import sys\n",
    "import numpy as np\n",
    "from tqdm import tqdm\n",
    "from obspy import read, UTCDateTime, Stream\n",
    "from glob import glob\n",
    "import prediction_methods as ml\n",
    "import ml_multistation_tests as pp\n",
    "from pyrocko import obspy_compat\n",
    "%matplotlib widget\n",
    "obspy_compat.plant()"
   ]
  },
  {
   "cell_type": "code",
   "execution_count": 4,
   "metadata": {},
   "outputs": [],
   "source": [
    "# Define path to MSEED day_volumes\n",
    "DATA_DIR = os.path.join('/Volumes', 'LaCie', 'PNW_Store_Local')\n",
    "# Compose search string for glob.glob\n",
    "GLOB_STR = os.path.join(DATA_DIR, 'PNW2017','UW','2017','131','*')\n",
    "# Define time bounds for obspy.read\n",
    "TS = UTCDateTime(2017,5,11,13,45)\n",
    "TE = UTCDateTime(2017,5,11,14,5)"
   ]
  },
  {
   "cell_type": "code",
   "execution_count": 5,
   "metadata": {},
   "outputs": [
    {
     "name": "stderr",
     "output_type": "stream",
     "text": [
      "100%|██████████| 27/27 [00:08<00:00,  3.32it/s]\n"
     ]
    },
    {
     "data": {
      "text/plain": [
       "2692 Trace(s) in Stream:\n",
       "\n",
       "UW.ALKI..HNE | 2017-05-11T13:45:00.000000Z - 2017-05-11T14:05:00.000000Z | 200.0 Hz, 240001 samples\n",
       "...\n",
       "(2690 other traces)\n",
       "...\n",
       "UW.VVHS..ENZ | 2017-05-11T13:56:32.990000Z - 2017-05-11T14:05:00.000000Z | 100.0 Hz, 50702 samples\n",
       "\n",
       "[Use \"print(Stream.__str__(extended=True))\" to print all Traces]"
      ]
     },
     "execution_count": 5,
     "metadata": {},
     "output_type": "execute_result"
    }
   ],
   "source": [
    "# Get data with gaps\n",
    "flist = glob(GLOB_STR)\n",
    "flist.sort()\n",
    "stream = Stream()\n",
    "for _f in tqdm(flist):\n",
    "    stream += read(_f, fmt='MSEED')\n",
    "stream.trim(starttime=TS, endtime=TE)\n"
   ]
  },
  {
   "cell_type": "code",
   "execution_count": 8,
   "metadata": {},
   "outputs": [],
   "source": [
    "# Get model\n",
    "model, device = ml.initialize_EQT_model()"
   ]
  },
  {
   "cell_type": "markdown",
   "metadata": {},
   "source": [
    "# Test 1: Do Nothing\n",
    "Check if gappy data produces valid (non-NaN, but perhaps still gappy) model values\n"
   ]
  },
  {
   "cell_type": "code",
   "execution_count": 10,
   "metadata": {},
   "outputs": [],
   "source": [
    "# Prepare data\n",
    "# Break into NSBI \n",
    "st_dict = pp._get_unique_NSBI_from_stream(stream)\n",
    "# Resample data to 100\n",
    "st_dict = pp._resample_testdata(st_dict)\n",
    "# \n",
    "st2 = [st_dict[_k] for _k in st_dict.keys()]"
   ]
  },
  {
   "cell_type": "code",
   "execution_count": 12,
   "metadata": {},
   "outputs": [
    {
     "ename": "AttributeError",
     "evalue": "'Stream' object has no attribute 'id'",
     "output_type": "error",
     "traceback": [
      "\u001b[0;31m---------------------------------------------------------------------------\u001b[0m",
      "\u001b[0;31mAttributeError\u001b[0m                            Traceback (most recent call last)",
      "File \u001b[0;32m~/miniforge3/envs/pnsn_ml_dev_apple/lib/python3.9/site-packages/IPython/core/formatters.py:708\u001b[0m, in \u001b[0;36mPlainTextFormatter.__call__\u001b[0;34m(self, obj)\u001b[0m\n\u001b[1;32m    701\u001b[0m stream \u001b[39m=\u001b[39m StringIO()\n\u001b[1;32m    702\u001b[0m printer \u001b[39m=\u001b[39m pretty\u001b[39m.\u001b[39mRepresentationPrinter(stream, \u001b[39mself\u001b[39m\u001b[39m.\u001b[39mverbose,\n\u001b[1;32m    703\u001b[0m     \u001b[39mself\u001b[39m\u001b[39m.\u001b[39mmax_width, \u001b[39mself\u001b[39m\u001b[39m.\u001b[39mnewline,\n\u001b[1;32m    704\u001b[0m     max_seq_length\u001b[39m=\u001b[39m\u001b[39mself\u001b[39m\u001b[39m.\u001b[39mmax_seq_length,\n\u001b[1;32m    705\u001b[0m     singleton_pprinters\u001b[39m=\u001b[39m\u001b[39mself\u001b[39m\u001b[39m.\u001b[39msingleton_printers,\n\u001b[1;32m    706\u001b[0m     type_pprinters\u001b[39m=\u001b[39m\u001b[39mself\u001b[39m\u001b[39m.\u001b[39mtype_printers,\n\u001b[1;32m    707\u001b[0m     deferred_pprinters\u001b[39m=\u001b[39m\u001b[39mself\u001b[39m\u001b[39m.\u001b[39mdeferred_printers)\n\u001b[0;32m--> 708\u001b[0m printer\u001b[39m.\u001b[39;49mpretty(obj)\n\u001b[1;32m    709\u001b[0m printer\u001b[39m.\u001b[39mflush()\n\u001b[1;32m    710\u001b[0m \u001b[39mreturn\u001b[39;00m stream\u001b[39m.\u001b[39mgetvalue()\n",
      "File \u001b[0;32m~/miniforge3/envs/pnsn_ml_dev_apple/lib/python3.9/site-packages/IPython/lib/pretty.py:407\u001b[0m, in \u001b[0;36mRepresentationPrinter.pretty\u001b[0;34m(self, obj)\u001b[0m\n\u001b[1;32m    405\u001b[0m     meth \u001b[39m=\u001b[39m \u001b[39mcls\u001b[39m\u001b[39m.\u001b[39m_repr_pretty_\n\u001b[1;32m    406\u001b[0m     \u001b[39mif\u001b[39;00m \u001b[39mcallable\u001b[39m(meth):\n\u001b[0;32m--> 407\u001b[0m         \u001b[39mreturn\u001b[39;00m meth(obj, \u001b[39mself\u001b[39;49m, cycle)\n\u001b[1;32m    408\u001b[0m \u001b[39mif\u001b[39;00m \u001b[39mcls\u001b[39m \u001b[39mis\u001b[39;00m \u001b[39mnot\u001b[39;00m \u001b[39mobject\u001b[39m \\\n\u001b[1;32m    409\u001b[0m         \u001b[39mand\u001b[39;00m \u001b[39mcallable\u001b[39m(\u001b[39mcls\u001b[39m\u001b[39m.\u001b[39m\u001b[39m__dict__\u001b[39m\u001b[39m.\u001b[39mget(\u001b[39m'\u001b[39m\u001b[39m__repr__\u001b[39m\u001b[39m'\u001b[39m)):\n\u001b[1;32m    410\u001b[0m     \u001b[39mreturn\u001b[39;00m _repr_pprint(obj, \u001b[39mself\u001b[39m, cycle)\n",
      "File \u001b[0;32m~/miniforge3/envs/pnsn_ml_dev_apple/lib/python3.9/site-packages/obspy/core/stream.py:537\u001b[0m, in \u001b[0;36mStream._repr_pretty_\u001b[0;34m(self, p, cycle)\u001b[0m\n\u001b[1;32m    536\u001b[0m \u001b[39mdef\u001b[39;00m \u001b[39m_repr_pretty_\u001b[39m(\u001b[39mself\u001b[39m, p, cycle):\n\u001b[0;32m--> 537\u001b[0m     p\u001b[39m.\u001b[39mtext(\u001b[39mself\u001b[39;49m\u001b[39m.\u001b[39;49m\u001b[39m__str__\u001b[39;49m(extended\u001b[39m=\u001b[39;49mp\u001b[39m.\u001b[39;49mverbose))\n",
      "File \u001b[0;32m~/miniforge3/envs/pnsn_ml_dev_apple/lib/python3.9/site-packages/obspy/core/stream.py:523\u001b[0m, in \u001b[0;36mStream.__str__\u001b[0;34m(self, extended)\u001b[0m\n\u001b[1;32m    521\u001b[0m \u001b[39m# get longest id\u001b[39;00m\n\u001b[1;32m    522\u001b[0m \u001b[39mif\u001b[39;00m \u001b[39mself\u001b[39m\u001b[39m.\u001b[39mtraces:\n\u001b[0;32m--> 523\u001b[0m     id_length \u001b[39m=\u001b[39m \u001b[39mself\u001b[39m \u001b[39mand\u001b[39;00m \u001b[39mmax\u001b[39;49m(\u001b[39mlen\u001b[39;49m(tr\u001b[39m.\u001b[39;49mid) \u001b[39mfor\u001b[39;49;00m tr \u001b[39min\u001b[39;49;00m \u001b[39mself\u001b[39;49m) \u001b[39mor\u001b[39;00m \u001b[39m0\u001b[39m\n\u001b[1;32m    524\u001b[0m \u001b[39melse\u001b[39;00m:\n\u001b[1;32m    525\u001b[0m     id_length \u001b[39m=\u001b[39m \u001b[39m0\u001b[39m\n",
      "File \u001b[0;32m~/miniforge3/envs/pnsn_ml_dev_apple/lib/python3.9/site-packages/obspy/core/stream.py:523\u001b[0m, in \u001b[0;36m<genexpr>\u001b[0;34m(.0)\u001b[0m\n\u001b[1;32m    521\u001b[0m \u001b[39m# get longest id\u001b[39;00m\n\u001b[1;32m    522\u001b[0m \u001b[39mif\u001b[39;00m \u001b[39mself\u001b[39m\u001b[39m.\u001b[39mtraces:\n\u001b[0;32m--> 523\u001b[0m     id_length \u001b[39m=\u001b[39m \u001b[39mself\u001b[39m \u001b[39mand\u001b[39;00m \u001b[39mmax\u001b[39m(\u001b[39mlen\u001b[39m(tr\u001b[39m.\u001b[39;49mid) \u001b[39mfor\u001b[39;00m tr \u001b[39min\u001b[39;00m \u001b[39mself\u001b[39m) \u001b[39mor\u001b[39;00m \u001b[39m0\u001b[39m\n\u001b[1;32m    524\u001b[0m \u001b[39melse\u001b[39;00m:\n\u001b[1;32m    525\u001b[0m     id_length \u001b[39m=\u001b[39m \u001b[39m0\u001b[39m\n",
      "\u001b[0;31mAttributeError\u001b[0m: 'Stream' object has no attribute 'id'"
     ]
    }
   ],
   "source": []
  }
 ],
 "metadata": {
  "kernelspec": {
   "display_name": "pnsn_ml_dev_apple",
   "language": "python",
   "name": "python3"
  },
  "language_info": {
   "codemirror_mode": {
    "name": "ipython",
    "version": 3
   },
   "file_extension": ".py",
   "mimetype": "text/x-python",
   "name": "python",
   "nbconvert_exporter": "python",
   "pygments_lexer": "ipython3",
   "version": "3.9.15"
  }
 },
 "nbformat": 4,
 "nbformat_minor": 2
}
