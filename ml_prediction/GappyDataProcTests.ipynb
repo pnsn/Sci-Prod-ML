{
 "cells": [
  {
   "cell_type": "markdown",
   "metadata": {},
   "source": [
    "# Gappy Data Preprocessing Tests  \n",
    ":auth: Nathan T. Stevens  \n",
    ":email: ntsteven at uw.edu  \n",
    ":org: Pacific Northwest Seismic Network  \n"
   ]
  },
  {
   "cell_type": "code",
   "execution_count": 1,
   "metadata": {},
   "outputs": [],
   "source": [
    "# Import modules\n",
    "import os\n",
    "import sys\n",
    "import numpy as np\n",
    "from tqdm import tqdm\n",
    "from obspy import read, UTCDateTime, Stream\n",
    "from glob import glob\n",
    "import prediction_methods as ml\n",
    "import matplotlib.pyplot as plt"
   ]
  },
  {
   "cell_type": "code",
   "execution_count": null,
   "metadata": {},
   "outputs": [],
   "source": [
    "# First call interactive matplotlib plotting utilities...\n",
    "%matplotlib widget"
   ]
  },
  {
   "cell_type": "code",
   "execution_count": null,
   "metadata": {},
   "outputs": [],
   "source": [
    "# THEN do pyrocko.obspy_compat. Doing this second allows %matplotlib widget and snuffler\n",
    "# to coexist. Calling obspy_compat.plant() first messes with the MacOSX backend needed by \n",
    "# %matplotlib widget on Apple-based installations\n",
    "from pyrocko import obspy_compat\n",
    "obspy_compat.plant()"
   ]
  },
  {
   "cell_type": "code",
   "execution_count": 5,
   "metadata": {},
   "outputs": [],
   "source": [
    "# Define path to MSEED day_volumes\n",
    "DATA_DIR = os.path.join('/Volumes', 'TheWall', 'PNW_Store_Local')\n",
    "# Compose search string for glob.glob\n",
    "GLOB_STR = os.path.join(DATA_DIR, 'PNW2017','UW','2017','131','*')\n",
    "# Define time bounds for obspy.read\n",
    "TS = UTCDateTime(2017,5,11,13,45)\n",
    "TE = UTCDateTime(2017,5,11,14,5)"
   ]
  },
  {
   "cell_type": "code",
   "execution_count": 6,
   "metadata": {},
   "outputs": [
    {
     "name": "stderr",
     "output_type": "stream",
     "text": [
      "100%|██████████| 27/27 [00:07<00:00,  3.52it/s]\n"
     ]
    },
    {
     "data": {
      "text/plain": [
       "2692 Trace(s) in Stream:\n",
       "\n",
       "UW.ALKI..HNE | 2017-05-11T13:45:00.000000Z - 2017-05-11T14:05:00.000000Z | 200.0 Hz, 240001 samples\n",
       "...\n",
       "(2690 other traces)\n",
       "...\n",
       "UW.VVHS..ENZ | 2017-05-11T13:56:32.990000Z - 2017-05-11T14:05:00.000000Z | 100.0 Hz, 50702 samples\n",
       "\n",
       "[Use \"print(Stream.__str__(extended=True))\" to print all Traces]"
      ]
     },
     "execution_count": 6,
     "metadata": {},
     "output_type": "execute_result"
    }
   ],
   "source": [
    "# Get data with gaps\n",
    "flist = glob(GLOB_STR)\n",
    "flist.sort()\n",
    "stream = Stream()\n",
    "for _f in tqdm(flist):\n",
    "    stream += read(_f, fmt='MSEED')\n",
    "stream.trim(starttime=TS, endtime=TE)\n"
   ]
  },
  {
   "cell_type": "code",
   "execution_count": 7,
   "metadata": {},
   "outputs": [],
   "source": [
    "# Get model\n",
    "model, device = ml.initialize_EQT_model()"
   ]
  },
  {
   "cell_type": "markdown",
   "metadata": {},
   "source": [
    "# Test 1: Do Nothing\n",
    "Check if gappy data produces valid (non-NaN, but perhaps still gappy) model values\n"
   ]
  },
  {
   "cell_type": "code",
   "execution_count": 11,
   "metadata": {},
   "outputs": [
    {
     "name": "stderr",
     "output_type": "stream",
     "text": [
      "/Users/nates/Code/Sci-Prod-ML/ml_prediction/prediction_methods.py:613: RuntimeWarning: invalid value encountered in divide\n",
      "  windows[_s, :, :] /= np.max(np.abs(windows[_s, :, :]), axis=-1, keepdims=True)\n"
     ]
    },
    {
     "data": {
      "text/plain": [
       "{'UW.ALKI..HN?': 3 Trace(s) in Stream:\n",
       "UW.ALKI..HNE | 2017-05-11T13:45:00.000000Z - 2017-05-11T14:04:59.990000Z | 100.0 Hz, 120000 samples\n",
       "UW.ALKI..HNN | 2017-05-11T13:45:00.000000Z - 2017-05-11T14:04:59.990000Z | 100.0 Hz, 120000 samples\n",
       "UW.ALKI..HNZ | 2017-05-11T13:45:00.000000Z - 2017-05-11T14:04:59.990000Z | 100.0 Hz, 120000 samples,\n",
       " 'UW.BABE..EN?': 3 Trace(s) in Stream:\n",
       "UW.BABE..ENE | 2017-05-11T13:45:00.000000Z - 2017-05-11T14:05:00.000000Z | 100.0 Hz, 120001 samples (masked)\n",
       "UW.BABE..ENN | 2017-05-11T13:45:00.000000Z - 2017-05-11T14:05:00.000000Z | 100.0 Hz, 120001 samples (masked)\n",
       "UW.BABE..ENZ | 2017-05-11T13:45:00.000000Z - 2017-05-11T14:05:00.000000Z | 100.0 Hz, 120001 samples (masked),\n",
       " 'UW.BRKS..EN?': 3 Trace(s) in Stream:\n",
       "UW.BRKS..ENE | 2017-05-11T13:45:00.000000Z - 2017-05-11T14:05:00.000000Z | 100.0 Hz, 120001 samples (masked)\n",
       "UW.BRKS..ENN | 2017-05-11T13:45:00.000000Z - 2017-05-11T14:05:00.000000Z | 100.0 Hz, 120001 samples (masked)\n",
       "UW.BRKS..ENZ | 2017-05-11T13:45:00.000000Z - 2017-05-11T14:05:00.000000Z | 100.0 Hz, 120001 samples (masked),\n",
       " 'UW.BSFP..EN?': 3 Trace(s) in Stream:\n",
       "UW.BSFP..ENE | 2017-05-11T13:45:00.000000Z - 2017-05-11T14:05:00.000000Z | 100.0 Hz, 120001 samples (masked)\n",
       "UW.BSFP..ENN | 2017-05-11T13:45:00.000000Z - 2017-05-11T14:05:00.000000Z | 100.0 Hz, 120001 samples (masked)\n",
       "UW.BSFP..ENZ | 2017-05-11T13:45:00.000000Z - 2017-05-11T14:05:00.000000Z | 100.0 Hz, 120001 samples (masked),\n",
       " 'UW.GMW..EH?': 1 Trace(s) in Stream:\n",
       "UW.GMW..EHZ | 2017-05-11T13:45:00.000000Z - 2017-05-11T14:05:00.000000Z | 100.0 Hz, 120001 samples,\n",
       " 'UW.GMW..EN?': 3 Trace(s) in Stream:\n",
       "UW.GMW..ENE | 2017-05-11T13:45:00.000000Z - 2017-05-11T14:05:00.000000Z | 100.0 Hz, 120001 samples\n",
       "UW.GMW..ENN | 2017-05-11T13:45:00.000000Z - 2017-05-11T14:05:00.000000Z | 100.0 Hz, 120001 samples\n",
       "UW.GMW..ENZ | 2017-05-11T13:45:00.000000Z - 2017-05-11T14:05:00.000000Z | 100.0 Hz, 120001 samples,\n",
       " 'UW.GNW..BH?': 3 Trace(s) in Stream:\n",
       "UW.GNW..BHE | 2017-05-11T13:45:00.005000Z - 2017-05-11T14:05:00.005000Z | 100.0 Hz, 120001 samples\n",
       "UW.GNW..BHN | 2017-05-11T13:45:00.005000Z - 2017-05-11T14:05:00.005000Z | 100.0 Hz, 120001 samples\n",
       "UW.GNW..BHZ | 2017-05-11T13:45:00.005000Z - 2017-05-11T14:05:00.005000Z | 100.0 Hz, 120001 samples,\n",
       " 'UW.GNW..EN?': 3 Trace(s) in Stream:\n",
       "UW.GNW..ENE | 2017-05-11T13:45:00.005000Z - 2017-05-11T14:04:59.995000Z | 100.0 Hz, 120000 samples\n",
       "UW.GNW..ENN | 2017-05-11T13:45:00.005000Z - 2017-05-11T14:04:59.995000Z | 100.0 Hz, 120000 samples\n",
       "UW.GNW..ENZ | 2017-05-11T13:45:00.005000Z - 2017-05-11T14:04:59.995000Z | 100.0 Hz, 120000 samples,\n",
       " 'UW.GTWN..EN?': 3 Trace(s) in Stream:\n",
       "UW.GTWN..ENE | 2017-05-11T13:45:00.000000Z - 2017-05-11T14:05:00.000000Z | 100.0 Hz, 120001 samples (masked)\n",
       "UW.GTWN..ENN | 2017-05-11T13:45:00.000000Z - 2017-05-11T14:05:00.000000Z | 100.0 Hz, 120001 samples (masked)\n",
       "UW.GTWN..ENZ | 2017-05-11T13:45:00.000000Z - 2017-05-11T14:05:00.000000Z | 100.0 Hz, 120001 samples (masked),\n",
       " 'UW.HOLY..EN?': 3 Trace(s) in Stream:\n",
       "UW.HOLY..ENE | 2017-05-11T13:45:00.000000Z - 2017-05-11T14:05:00.000000Z | 100.0 Hz, 120001 samples (masked)\n",
       "UW.HOLY..ENN | 2017-05-11T13:45:00.000000Z - 2017-05-11T14:05:00.000000Z | 100.0 Hz, 120001 samples (masked)\n",
       "UW.HOLY..ENZ | 2017-05-11T13:45:00.000000Z - 2017-05-11T14:05:00.000000Z | 100.0 Hz, 120001 samples (masked),\n",
       " 'UW.KCAM..EN?': 3 Trace(s) in Stream:\n",
       "UW.KCAM..ENE | 2017-05-11T13:45:00.000000Z - 2017-05-11T14:05:00.000000Z | 100.0 Hz, 120001 samples\n",
       "UW.KCAM..ENN | 2017-05-11T13:45:00.000000Z - 2017-05-11T14:05:00.000000Z | 100.0 Hz, 120001 samples\n",
       "UW.KCAM..ENZ | 2017-05-11T13:45:00.000000Z - 2017-05-11T14:05:00.000000Z | 100.0 Hz, 120001 samples,\n",
       " 'UW.KDK..EN?': 3 Trace(s) in Stream:\n",
       "UW.KDK..ENE | 2017-05-11T13:45:00.000000Z - 2017-05-11T14:05:00.000000Z | 100.0 Hz, 120001 samples (masked)\n",
       "UW.KDK..ENN | 2017-05-11T13:45:00.000000Z - 2017-05-11T14:05:00.000000Z | 100.0 Hz, 120001 samples (masked)\n",
       "UW.KDK..ENZ | 2017-05-11T13:45:00.000000Z - 2017-05-11T14:05:00.000000Z | 100.0 Hz, 120001 samples (masked),\n",
       " 'UW.KIMB..EN?': 3 Trace(s) in Stream:\n",
       "UW.KIMB..ENE | 2017-05-11T13:45:00.000000Z - 2017-05-11T14:05:00.000000Z | 100.0 Hz, 120001 samples (masked)\n",
       "UW.KIMB..ENN | 2017-05-11T13:45:00.000000Z - 2017-05-11T14:05:00.000000Z | 100.0 Hz, 120001 samples (masked)\n",
       "UW.KIMB..ENZ | 2017-05-11T13:45:00.000000Z - 2017-05-11T14:05:00.000000Z | 100.0 Hz, 120001 samples (masked),\n",
       " 'UW.KIMR..EN?': 3 Trace(s) in Stream:\n",
       "UW.KIMR..ENE | 2017-05-11T13:45:00.000000Z - 2017-05-11T14:05:00.000000Z | 100.0 Hz, 120001 samples (masked)\n",
       "UW.KIMR..ENN | 2017-05-11T13:45:00.000000Z - 2017-05-11T14:05:00.000000Z | 100.0 Hz, 120001 samples (masked)\n",
       "UW.KIMR..ENZ | 2017-05-11T13:45:00.000000Z - 2017-05-11T14:05:00.000000Z | 100.0 Hz, 120001 samples (masked),\n",
       " 'UW.KINR..EN?': 3 Trace(s) in Stream:\n",
       "UW.KINR..ENE | 2017-05-11T13:45:00.000000Z - 2017-05-11T14:05:00.000000Z | 100.0 Hz, 120001 samples (masked)\n",
       "UW.KINR..ENN | 2017-05-11T13:45:00.000000Z - 2017-05-11T14:05:00.000000Z | 100.0 Hz, 120001 samples (masked)\n",
       "UW.KINR..ENZ | 2017-05-11T13:45:00.000000Z - 2017-05-11T14:05:00.000000Z | 100.0 Hz, 120001 samples (masked),\n",
       " 'UW.KITP..EN?': 3 Trace(s) in Stream:\n",
       "UW.KITP..ENE | 2017-05-11T13:45:00.000000Z - 2017-05-11T14:05:00.000000Z | 100.0 Hz, 120001 samples (masked)\n",
       "UW.KITP..ENN | 2017-05-11T13:45:00.000000Z - 2017-05-11T14:05:00.000000Z | 100.0 Hz, 120001 samples (masked)\n",
       "UW.KITP..ENZ | 2017-05-11T13:45:00.000000Z - 2017-05-11T14:05:00.000000Z | 100.0 Hz, 120001 samples (masked),\n",
       " 'UW.LAWT..EN?': 3 Trace(s) in Stream:\n",
       "UW.LAWT..ENE | 2017-05-11T13:45:00.000000Z - 2017-05-11T14:05:00.000000Z | 100.0 Hz, 120001 samples\n",
       "UW.LAWT..ENN | 2017-05-11T13:45:00.000000Z - 2017-05-11T14:05:00.000000Z | 100.0 Hz, 120001 samples\n",
       "UW.LAWT..ENZ | 2017-05-11T13:45:00.000000Z - 2017-05-11T14:05:00.000000Z | 100.0 Hz, 120001 samples,\n",
       " 'UW.MNWA..EN?': 3 Trace(s) in Stream:\n",
       "UW.MNWA..ENE | 2017-05-11T13:45:00.000000Z - 2017-05-11T14:05:00.000000Z | 100.0 Hz, 120001 samples\n",
       "UW.MNWA..ENN | 2017-05-11T13:45:00.000000Z - 2017-05-11T14:05:00.000000Z | 100.0 Hz, 120001 samples\n",
       "UW.MNWA..ENZ | 2017-05-11T13:45:00.000000Z - 2017-05-11T14:05:00.000000Z | 100.0 Hz, 120001 samples,\n",
       " 'UW.NOWS..EN?': 3 Trace(s) in Stream:\n",
       "UW.NOWS..ENE | 2017-05-11T13:45:00.005000Z - 2017-05-11T14:04:59.995000Z | 100.0 Hz, 120000 samples\n",
       "UW.NOWS..ENN | 2017-05-11T13:45:00.005000Z - 2017-05-11T14:04:59.995000Z | 100.0 Hz, 120000 samples\n",
       "UW.NOWS..ENZ | 2017-05-11T13:45:00.005000Z - 2017-05-11T14:04:59.995000Z | 100.0 Hz, 120000 samples,\n",
       " 'UW.PIER..HN?': 3 Trace(s) in Stream:\n",
       "UW.PIER..HNE | 2017-05-11T13:45:00.000000Z - 2017-05-11T14:04:59.990000Z | 100.0 Hz, 120000 samples\n",
       "UW.PIER..HNN | 2017-05-11T13:45:00.000000Z - 2017-05-11T14:04:59.990000Z | 100.0 Hz, 120000 samples\n",
       "UW.PIER..HNZ | 2017-05-11T13:45:00.000000Z - 2017-05-11T14:04:59.990000Z | 100.0 Hz, 120000 samples,\n",
       " 'UW.PSNS..EN?': 3 Trace(s) in Stream:\n",
       "UW.PSNS..ENE | 2017-05-11T13:45:00.000000Z - 2017-05-11T14:05:00.000000Z | 100.0 Hz, 120001 samples (masked)\n",
       "UW.PSNS..ENN | 2017-05-11T13:45:00.000000Z - 2017-05-11T14:05:00.000000Z | 100.0 Hz, 120001 samples (masked)\n",
       "UW.PSNS..ENZ | 2017-05-11T13:45:00.000000Z - 2017-05-11T14:05:00.000000Z | 100.0 Hz, 120001 samples (masked),\n",
       " 'UW.RAD6..HH?': 3 Trace(s) in Stream:\n",
       "UW.RAD6..HHE | 2017-05-11T13:45:00.005000Z - 2017-05-11T14:04:59.995000Z | 100.0 Hz, 120000 samples\n",
       "UW.RAD6..HHN | 2017-05-11T13:45:00.005000Z - 2017-05-11T14:04:59.995000Z | 100.0 Hz, 120000 samples\n",
       "UW.RAD6..HHZ | 2017-05-11T13:45:00.005000Z - 2017-05-11T14:04:59.995000Z | 100.0 Hz, 120000 samples,\n",
       " 'UW.SCC..EN?': 3 Trace(s) in Stream:\n",
       "UW.SCC..ENE | 2017-05-11T13:45:00.000000Z - 2017-05-11T14:05:00.000000Z | 100.0 Hz, 120001 samples (masked)\n",
       "UW.SCC..ENN | 2017-05-11T13:45:00.000000Z - 2017-05-11T14:05:00.000000Z | 100.0 Hz, 120001 samples (masked)\n",
       "UW.SCC..ENZ | 2017-05-11T13:45:00.000000Z - 2017-05-11T14:05:00.000000Z | 100.0 Hz, 120001 samples (masked),\n",
       " 'UW.SEA..EN?': 3 Trace(s) in Stream:\n",
       "UW.SEA..ENE | 2017-05-11T13:45:00.000000Z - 2017-05-11T14:05:00.000000Z | 100.0 Hz, 120001 samples\n",
       "UW.SEA..ENN | 2017-05-11T13:45:00.000000Z - 2017-05-11T14:05:00.000000Z | 100.0 Hz, 120001 samples\n",
       "UW.SEA..ENZ | 2017-05-11T13:45:00.000000Z - 2017-05-11T14:05:00.000000Z | 100.0 Hz, 120001 samples,\n",
       " 'UW.SP2..BH?': 3 Trace(s) in Stream:\n",
       "UW.SP2..BHE | 2017-05-11T13:45:00.010000Z - 2017-05-11T14:05:00.010000Z | 100.0 Hz, 120001 samples\n",
       "UW.SP2..BHN | 2017-05-11T13:45:00.010000Z - 2017-05-11T14:05:00.010000Z | 100.0 Hz, 120001 samples\n",
       "UW.SP2..BHZ | 2017-05-11T13:45:00.010000Z - 2017-05-11T14:05:00.010000Z | 100.0 Hz, 120001 samples,\n",
       " 'UW.SP2..EN?': 3 Trace(s) in Stream:\n",
       "UW.SP2..ENE | 2017-05-11T13:45:00.005000Z - 2017-05-11T14:04:59.995000Z | 100.0 Hz, 120000 samples\n",
       "UW.SP2..ENN | 2017-05-11T13:45:00.005000Z - 2017-05-11T14:04:59.995000Z | 100.0 Hz, 120000 samples\n",
       "UW.SP2..ENZ | 2017-05-11T13:45:00.005000Z - 2017-05-11T14:04:59.995000Z | 100.0 Hz, 120000 samples,\n",
       " 'UW.TKCO..EN?': 3 Trace(s) in Stream:\n",
       "UW.TKCO..ENE | 2017-05-11T13:45:00.005000Z - 2017-05-11T14:04:59.995000Z | 100.0 Hz, 120000 samples\n",
       "UW.TKCO..ENN | 2017-05-11T13:45:00.005000Z - 2017-05-11T14:04:59.995000Z | 100.0 Hz, 120000 samples\n",
       "UW.TKCO..ENZ | 2017-05-11T13:45:00.005000Z - 2017-05-11T14:04:59.995000Z | 100.0 Hz, 120000 samples,\n",
       " 'UW.VVHS..EH?': 1 Trace(s) in Stream:\n",
       "UW.VVHS..EHZ | 2017-05-11T13:45:00.000000Z - 2017-05-11T14:05:00.000000Z | 100.0 Hz, 120001 samples (masked),\n",
       " 'UW.VVHS..EN?': 3 Trace(s) in Stream:\n",
       "UW.VVHS..ENE | 2017-05-11T13:45:00.000000Z - 2017-05-11T14:05:00.000000Z | 100.0 Hz, 120001 samples (masked)\n",
       "UW.VVHS..ENN | 2017-05-11T13:45:00.000000Z - 2017-05-11T14:05:00.000000Z | 100.0 Hz, 120001 samples (masked)\n",
       "UW.VVHS..ENZ | 2017-05-11T13:45:00.000000Z - 2017-05-11T14:05:00.000000Z | 100.0 Hz, 120001 samples (masked)}"
      ]
     },
     "metadata": {},
     "output_type": "display_data"
    },
    {
     "data": {
      "text/plain": [
       "array([[[ 0.0000000e+00,  9.5491506e-02,  2.0619424e-01, ...,\n",
       "         -7.4355390e-05, -1.6663236e-05, -0.0000000e+00],\n",
       "        [-0.0000000e+00, -9.5491506e-02, -2.0609820e-01, ...,\n",
       "          1.2475927e-04,  6.6979948e-05,  0.0000000e+00],\n",
       "        [-0.0000000e+00, -9.5491506e-02, -2.0612599e-01, ...,\n",
       "          3.6667736e-04,  3.1475323e-05, -0.0000000e+00]],\n",
       "\n",
       "       [[ 0.0000000e+00,  2.8453514e-03, -5.9957810e-02, ...,\n",
       "         -1.3032970e-01,  2.7901430e-02,  0.0000000e+00],\n",
       "        [ 0.0000000e+00, -3.4698267e-02, -9.7094283e-02, ...,\n",
       "         -1.4385356e-01, -6.0818577e-04,  0.0000000e+00],\n",
       "        [ 0.0000000e+00, -1.3022991e-02, -1.0274857e-01, ...,\n",
       "         -2.3799948e-01, -2.7163042e-02,  0.0000000e+00]],\n",
       "\n",
       "       [[-0.0000000e+00,  3.2391224e-02,  2.2549523e-02, ...,\n",
       "          4.2825289e-02, -2.2765998e-02,  0.0000000e+00],\n",
       "        [-0.0000000e+00,  2.3534514e-02,  8.6309053e-02, ...,\n",
       "          1.5734751e-02,  2.1802621e-02,  0.0000000e+00],\n",
       "        [-0.0000000e+00,  2.5563506e-02,  1.3611259e-01, ...,\n",
       "         -9.5532574e-02, -3.3424664e-02,  0.0000000e+00]],\n",
       "\n",
       "       ...,\n",
       "\n",
       "       [[-0.0000000e+00,  1.7408017e-02,  5.6256399e-02, ...,\n",
       "         -4.2811814e-03,  2.1126278e-02,  0.0000000e+00],\n",
       "        [ 0.0000000e+00,  3.1828877e-02, -7.4528500e-02, ...,\n",
       "          1.5580505e-01, -6.2658149e-04,  0.0000000e+00],\n",
       "        [-0.0000000e+00,  3.6454305e-02,  1.7191316e-01, ...,\n",
       "          2.3266515e-02, -3.0504288e-03,  0.0000000e+00]],\n",
       "\n",
       "       [[ 0.0000000e+00, -3.5078976e-02, -6.5053917e-02, ...,\n",
       "          6.4296007e-02,  2.0879800e-02, -0.0000000e+00],\n",
       "        [ 0.0000000e+00, -3.0320646e-02,  2.3063390e-02, ...,\n",
       "          3.0375810e-04,  2.0004213e-02, -0.0000000e+00],\n",
       "        [-0.0000000e+00, -5.1536909e-03,  1.6592907e-02, ...,\n",
       "          5.4768637e-02,  6.2094759e-03, -0.0000000e+00]],\n",
       "\n",
       "       [[-0.0000000e+00, -1.7804723e-02,  1.1776395e-01, ...,\n",
       "         -5.8724914e-02, -6.7898133e-03,  0.0000000e+00],\n",
       "        [-0.0000000e+00, -2.9874448e-02,  1.5968826e-02, ...,\n",
       "         -5.3812444e-02, -1.4873394e-02,  0.0000000e+00],\n",
       "        [ 0.0000000e+00,  2.8152943e-02,  2.5539462e-02, ...,\n",
       "          4.9022183e-02, -1.1601150e-02,  0.0000000e+00]]], dtype=float32)"
      ]
     },
     "metadata": {},
     "output_type": "display_data"
    }
   ],
   "source": [
    "# Prepare data\n",
    "# Merge key-word-arguments\n",
    "mkwargs = {'method':1,\n",
    "           'interpolation_samples':5\n",
    "          }\n",
    "ikwargs = {'method':'weighted_average_slopes',\n",
    "           'no_filter': False\n",
    "          }\n",
    "# Break into NSBI \n",
    "NSLBI_dict, windows, swindex = ml.prepare_windows_from_stream(stream, model, \n",
    "                                                              merge_kwargs=mkwargs, method_1C='ZP')\n",
    "\n",
    "display(NSLBI_dict)\n",
    "display(windows)"
   ]
  },
  {
   "cell_type": "markdown",
   "metadata": {},
   "source": [
    "Give the prepared windows a quick look by converting them back into traces"
   ]
  },
  {
   "cell_type": "code",
   "execution_count": 19,
   "metadata": {},
   "outputs": [
    {
     "name": "stderr",
     "output_type": "stream",
     "text": [
      "/Users/nates/Code/Sci-Prod-ML/ml_prediction/prediction_methods.py:898: RuntimeWarning: All-NaN axis encountered\n",
      "  stack[:, _wi:_wi+mdata] = merge_method([stack[:, _wi:_wi+mdata], _data], axis=0)\n"
     ]
    },
    {
     "data": {
      "text/plain": [
       "(None, <pyrocko.pile.Sorted at 0x3d82fbbb0>)"
      ]
     },
     "execution_count": 19,
     "metadata": {},
     "output_type": "execute_result"
    }
   ],
   "source": [
    "windows_stream = ml.reassemble_multistation_preds(windows, swindex, model, NSLBI_dict)\n",
    "windows_stream.snuffle(ntracks=90)"
   ]
  },
  {
   "cell_type": "code",
   "execution_count": 12,
   "metadata": {},
   "outputs": [
    {
     "name": "stderr",
     "output_type": "stream",
     "text": [
      "100%|██████████| 184/184 [00:10<00:00, 18.32it/s]\n"
     ]
    }
   ],
   "source": [
    "# Run batched prediction\n",
    "pred = ml.run_batched_prediction(windows, model, device, batch_size=10)"
   ]
  },
  {
   "cell_type": "code",
   "execution_count": 13,
   "metadata": {},
   "outputs": [
    {
     "name": "stderr",
     "output_type": "stream",
     "text": [
      "/Users/nates/Code/Sci-Prod-ML/ml_prediction/prediction_methods.py:898: RuntimeWarning: All-NaN axis encountered\n",
      "  stack[:, _wi:_wi+mdata] = merge_method([stack[:, _wi:_wi+mdata], _data], axis=0)\n"
     ]
    }
   ],
   "source": [
    "stream_dict_merged = Stream()\n",
    "for _k in NSLBI_dict.keys():\n",
    "    stream_dict_merged += NSLBI_dict[_k]\n",
    "pred_stream = ml.reassemble_multistation_preds(pred,swindex,model,NSLBI_dict)"
   ]
  },
  {
   "cell_type": "code",
   "execution_count": 15,
   "metadata": {},
   "outputs": [
    {
     "name": "stderr",
     "output_type": "stream",
     "text": [
      "/Users/nates/Code/Sci-Prod-ML/ml_prediction/prediction_methods.py:898: RuntimeWarning: All-NaN axis encountered\n",
      "  stack[:, _wi:_wi+mdata] = merge_method([stack[:, _wi:_wi+mdata], _data], axis=0)\n"
     ]
    }
   ],
   "source": [
    "# Convert windows back to stream\n",
    "pred_st = ml.reassemble_multistation_preds(pred, swindex, model, NSLBI_dict)"
   ]
  },
  {
   "cell_type": "code",
   "execution_count": 17,
   "metadata": {},
   "outputs": [
    {
     "name": "stderr",
     "output_type": "stream",
     "text": [
      "/Users/nates/miniconda3/envs/pnsn_ml_dev_M2/lib/python3.9/site-packages/pyrocko/trace.py:2176: RuntimeWarning: All-NaN slice encountered\n",
      "  mi, ma = num.nanmin(trace.ydata), num.nanmax(trace.ydata)\n",
      "/Users/nates/miniconda3/envs/pnsn_ml_dev_M2/lib/python3.9/site-packages/pyrocko/trace.py:2188: RuntimeWarning: All-NaN slice encountered\n",
      "  ranges[k] = num.nanmin(mins), num.nanmax(maxs)\n"
     ]
    },
    {
     "data": {
      "text/plain": [
       "(None, <pyrocko.pile.Sorted at 0x2e22d8a30>)"
      ]
     },
     "execution_count": 17,
     "metadata": {},
     "output_type": "execute_result"
    }
   ],
   "source": [
    "# Check resampled data\n",
    "st2 = pred_st.copy()\n",
    "for _k in NSLBI_dict.keys():\n",
    "    st2 += NSLBI_dict[_k]\n",
    "st2.snuffle(ntracks=90)"
   ]
  }
 ],
 "metadata": {
  "kernelspec": {
   "display_name": "pnsn_ml_dev_apple",
   "language": "python",
   "name": "python3"
  },
  "language_info": {
   "codemirror_mode": {
    "name": "ipython",
    "version": 3
   },
   "file_extension": ".py",
   "mimetype": "text/x-python",
   "name": "python",
   "nbconvert_exporter": "python",
   "pygments_lexer": "ipython3",
   "version": "3.9.18"
  }
 },
 "nbformat": 4,
 "nbformat_minor": 2
}
