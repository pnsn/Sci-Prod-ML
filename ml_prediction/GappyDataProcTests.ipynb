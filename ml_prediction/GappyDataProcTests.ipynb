{
 "cells": [
  {
   "cell_type": "markdown",
   "metadata": {},
   "source": [
    "# Gappy Data Preprocessing Tests\n",
    ":auth: Nathan T. Stevens\n",
    ":email: ntsteven at uw.edu\n",
    ":org: Pacific Northwest Seismic Network\n"
   ]
  },
  {
   "cell_type": "code",
   "execution_count": 1,
   "metadata": {},
   "outputs": [],
   "source": [
    "import os\n",
    "import sys\n",
    "import numpy as np\n",
    "from tqdm import tqdm\n",
    "from obspy import read, UTCDateTime, Stream\n",
    "from glob import glob\n",
    "import prediction_methods as ml\n",
    "import matplotlib.pyplot as plt\n",
    "from pyrocko import obspy_compat\n",
    "%matplotlib widget\n",
    "obspy_compat.plant()"
   ]
  },
  {
   "cell_type": "code",
   "execution_count": 2,
   "metadata": {},
   "outputs": [],
   "source": [
    "# Define path to MSEED day_volumes\n",
    "DATA_DIR = os.path.join('/Volumes', 'LaCie', 'PNW_Store_Local')\n",
    "# Compose search string for glob.glob\n",
    "GLOB_STR = os.path.join(DATA_DIR, 'PNW2017','UW','2017','131','*')\n",
    "# Define time bounds for obspy.read\n",
    "TS = UTCDateTime(2017,5,11,13,45)\n",
    "TE = UTCDateTime(2017,5,11,14,5)"
   ]
  },
  {
   "cell_type": "code",
   "execution_count": 3,
   "metadata": {},
   "outputs": [
    {
     "name": "stderr",
     "output_type": "stream",
     "text": [
      "  0%|          | 0/27 [00:00<?, ?it/s]"
     ]
    },
    {
     "name": "stderr",
     "output_type": "stream",
     "text": [
      "100%|██████████| 27/27 [00:08<00:00,  3.32it/s]\n"
     ]
    },
    {
     "data": {
      "text/plain": [
       "2692 Trace(s) in Stream:\n",
       "\n",
       "UW.ALKI..HNE | 2017-05-11T13:45:00.000000Z - 2017-05-11T14:05:00.000000Z | 200.0 Hz, 240001 samples\n",
       "...\n",
       "(2690 other traces)\n",
       "...\n",
       "UW.VVHS..ENZ | 2017-05-11T13:56:32.990000Z - 2017-05-11T14:05:00.000000Z | 100.0 Hz, 50702 samples\n",
       "\n",
       "[Use \"print(Stream.__str__(extended=True))\" to print all Traces]"
      ]
     },
     "execution_count": 3,
     "metadata": {},
     "output_type": "execute_result"
    }
   ],
   "source": [
    "# Get data with gaps\n",
    "flist = glob(GLOB_STR)\n",
    "flist.sort()\n",
    "stream = Stream()\n",
    "for _f in tqdm(flist):\n",
    "    stream += read(_f, fmt='MSEED')\n",
    "stream.trim(starttime=TS, endtime=TE)\n"
   ]
  },
  {
   "cell_type": "code",
   "execution_count": 4,
   "metadata": {},
   "outputs": [],
   "source": [
    "# Get model\n",
    "model, device = ml.initialize_EQT_model()"
   ]
  },
  {
   "cell_type": "markdown",
   "metadata": {},
   "source": [
    "# Test 1: Do Nothing\n",
    "Check if gappy data produces valid (non-NaN, but perhaps still gappy) model values\n"
   ]
  },
  {
   "cell_type": "code",
   "execution_count": 9,
   "metadata": {},
   "outputs": [
    {
     "name": "stderr",
     "output_type": "stream",
     "text": [
      "/Users/nates/Code/PNSN/Sci-Prod-ML/ml_prediction/prediction_methods.py:468: RuntimeWarning: invalid value encountered in divide\n",
      "  windows[_s, :, :] /= np.max(np.abs(windows[_s, :, :]), axis=-1, keepdims=True)\n"
     ]
    },
    {
     "data": {
      "text/plain": [
       "{'UW.ALKI..HN?': 3 Trace(s) in Stream:\n",
       "UW.ALKI..HNE | 2017-05-11T13:45:00.000000Z - 2017-05-11T14:04:59.990000Z | 100.0 Hz, 120000 samples\n",
       "UW.ALKI..HNN | 2017-05-11T13:45:00.000000Z - 2017-05-11T14:04:59.990000Z | 100.0 Hz, 120000 samples\n",
       "UW.ALKI..HNZ | 2017-05-11T13:45:00.000000Z - 2017-05-11T14:04:59.990000Z | 100.0 Hz, 120000 samples,\n",
       " 'UW.BABE..EN?': 124 Trace(s) in Stream:\n",
       "\n",
       "UW.BABE..ENE | 2017-05-11T13:45:00.000000Z - 2017-05-11T13:45:13.990000Z | 100.0 Hz, 1400 samples\n",
       "...\n",
       "(122 other traces)\n",
       "...\n",
       "UW.BABE..ENZ | 2017-05-11T13:56:32.000000Z - 2017-05-11T14:05:00.000000Z | 100.0 Hz, 50801 samples\n",
       "\n",
       "[Use \"print(Stream.__str__(extended=True))\" to print all Traces],\n",
       " 'UW.BRKS..EN?': 264 Trace(s) in Stream:\n",
       "\n",
       "UW.BRKS..ENE | 2017-05-11T13:45:00.000000Z - 2017-05-11T13:45:04.760000Z | 100.0 Hz, 477 samples\n",
       "...\n",
       "(262 other traces)\n",
       "...\n",
       "UW.BRKS..ENZ | 2017-05-11T13:57:22.920000Z - 2017-05-11T14:05:00.000000Z | 100.0 Hz, 45709 samples\n",
       "\n",
       "[Use \"print(Stream.__str__(extended=True))\" to print all Traces],\n",
       " 'UW.BSFP..EN?': 253 Trace(s) in Stream:\n",
       "\n",
       "UW.BSFP..ENE | 2017-05-11T13:45:00.000000Z - 2017-05-11T13:45:08.940000Z | 100.0 Hz, 895 samples\n",
       "...\n",
       "(251 other traces)\n",
       "...\n",
       "UW.BSFP..ENZ | 2017-05-11T13:57:25.790000Z - 2017-05-11T14:05:00.000000Z | 100.0 Hz, 45422 samples\n",
       "\n",
       "[Use \"print(Stream.__str__(extended=True))\" to print all Traces],\n",
       " 'UW.GMW..EH?': 1 Trace(s) in Stream:\n",
       "UW.GMW..EHZ | 2017-05-11T13:45:00.000000Z - 2017-05-11T14:05:00.000000Z | 100.0 Hz, 120001 samples,\n",
       " 'UW.GMW..EN?': 3 Trace(s) in Stream:\n",
       "UW.GMW..ENE | 2017-05-11T13:45:00.000000Z - 2017-05-11T14:05:00.000000Z | 100.0 Hz, 120001 samples\n",
       "UW.GMW..ENN | 2017-05-11T13:45:00.000000Z - 2017-05-11T14:05:00.000000Z | 100.0 Hz, 120001 samples\n",
       "UW.GMW..ENZ | 2017-05-11T13:45:00.000000Z - 2017-05-11T14:05:00.000000Z | 100.0 Hz, 120001 samples,\n",
       " 'UW.GNW..BH?': 3 Trace(s) in Stream:\n",
       "UW.GNW..BHE | 2017-05-11T13:45:00.005000Z - 2017-05-11T14:05:00.005000Z | 100.0 Hz, 120001 samples\n",
       "UW.GNW..BHN | 2017-05-11T13:45:00.005000Z - 2017-05-11T14:05:00.005000Z | 100.0 Hz, 120001 samples\n",
       "UW.GNW..BHZ | 2017-05-11T13:45:00.005000Z - 2017-05-11T14:05:00.005000Z | 100.0 Hz, 120001 samples,\n",
       " 'UW.GNW..EN?': 3 Trace(s) in Stream:\n",
       "UW.GNW..ENE | 2017-05-11T13:45:00.005000Z - 2017-05-11T14:04:59.995000Z | 100.0 Hz, 120000 samples\n",
       "UW.GNW..ENN | 2017-05-11T13:45:00.005000Z - 2017-05-11T14:04:59.995000Z | 100.0 Hz, 120000 samples\n",
       "UW.GNW..ENZ | 2017-05-11T13:45:00.005000Z - 2017-05-11T14:04:59.995000Z | 100.0 Hz, 120000 samples,\n",
       " 'UW.GTWN..EN?': 217 Trace(s) in Stream:\n",
       "\n",
       "UW.GTWN..ENE | 2017-05-11T13:45:00.000000Z - 2017-05-11T13:45:13.660000Z | 100.0 Hz, 1367 samples\n",
       "...\n",
       "(215 other traces)\n",
       "...\n",
       "UW.GTWN..ENZ | 2017-05-11T13:57:01.800000Z - 2017-05-11T14:05:00.000000Z | 100.0 Hz, 47821 samples\n",
       "\n",
       "[Use \"print(Stream.__str__(extended=True))\" to print all Traces],\n",
       " 'UW.HOLY..EN?': 220 Trace(s) in Stream:\n",
       "\n",
       "UW.HOLY..ENE | 2017-05-11T13:45:00.000000Z - 2017-05-11T13:45:13.530000Z | 100.0 Hz, 1354 samples\n",
       "...\n",
       "(218 other traces)\n",
       "...\n",
       "UW.HOLY..ENZ | 2017-05-11T13:57:22.610000Z - 2017-05-11T14:05:00.000000Z | 100.0 Hz, 45740 samples\n",
       "\n",
       "[Use \"print(Stream.__str__(extended=True))\" to print all Traces],\n",
       " 'UW.KCAM..EN?': 3 Trace(s) in Stream:\n",
       "UW.KCAM..ENE | 2017-05-11T13:45:00.000000Z - 2017-05-11T14:05:00.000000Z | 100.0 Hz, 120001 samples\n",
       "UW.KCAM..ENN | 2017-05-11T13:45:00.000000Z - 2017-05-11T14:05:00.000000Z | 100.0 Hz, 120001 samples\n",
       "UW.KCAM..ENZ | 2017-05-11T13:45:00.000000Z - 2017-05-11T14:05:00.000000Z | 100.0 Hz, 120001 samples,\n",
       " 'UW.KDK..EN?': 190 Trace(s) in Stream:\n",
       "\n",
       "UW.KDK..ENE | 2017-05-11T13:45:00.770000Z - 2017-05-11T13:45:07.760000Z | 100.0 Hz, 700 samples\n",
       "...\n",
       "(188 other traces)\n",
       "...\n",
       "UW.KDK..ENZ | 2017-05-11T13:57:08.770000Z - 2017-05-11T14:05:00.000000Z | 100.0 Hz, 47124 samples\n",
       "\n",
       "[Use \"print(Stream.__str__(extended=True))\" to print all Traces],\n",
       " 'UW.KIMB..EN?': 140 Trace(s) in Stream:\n",
       "\n",
       "UW.KIMB..ENE | 2017-05-11T13:45:00.000000Z - 2017-05-11T13:45:04.990000Z | 100.0 Hz, 500 samples\n",
       "...\n",
       "(138 other traces)\n",
       "...\n",
       "UW.KIMB..ENZ | 2017-05-11T13:56:33.000000Z - 2017-05-11T14:05:00.000000Z | 100.0 Hz, 50701 samples\n",
       "\n",
       "[Use \"print(Stream.__str__(extended=True))\" to print all Traces],\n",
       " 'UW.KIMR..EN?': 159 Trace(s) in Stream:\n",
       "\n",
       "UW.KIMR..ENE | 2017-05-11T13:45:00.000000Z - 2017-05-11T13:45:04.940000Z | 100.0 Hz, 495 samples\n",
       "...\n",
       "(157 other traces)\n",
       "...\n",
       "UW.KIMR..ENZ | 2017-05-11T13:57:24.950000Z - 2017-05-11T14:05:00.000000Z | 100.0 Hz, 45506 samples\n",
       "\n",
       "[Use \"print(Stream.__str__(extended=True))\" to print all Traces],\n",
       " 'UW.KINR..EN?': 144 Trace(s) in Stream:\n",
       "\n",
       "UW.KINR..ENE | 2017-05-11T13:45:00.000000Z - 2017-05-11T13:45:04.990000Z | 100.0 Hz, 500 samples\n",
       "...\n",
       "(142 other traces)\n",
       "...\n",
       "UW.KINR..ENZ | 2017-05-11T13:56:19.000000Z - 2017-05-11T14:05:00.000000Z | 100.0 Hz, 52101 samples\n",
       "\n",
       "[Use \"print(Stream.__str__(extended=True))\" to print all Traces],\n",
       " 'UW.KITP..EN?': 234 Trace(s) in Stream:\n",
       "\n",
       "UW.KITP..ENE | 2017-05-11T13:45:00.000000Z - 2017-05-11T13:45:03.560000Z | 100.0 Hz, 357 samples\n",
       "...\n",
       "(232 other traces)\n",
       "...\n",
       "UW.KITP..ENZ | 2017-05-11T13:56:52.510000Z - 2017-05-11T14:05:00.000000Z | 100.0 Hz, 48750 samples\n",
       "\n",
       "[Use \"print(Stream.__str__(extended=True))\" to print all Traces],\n",
       " 'UW.LAWT..EN?': 3 Trace(s) in Stream:\n",
       "UW.LAWT..ENE | 2017-05-11T13:45:00.000000Z - 2017-05-11T14:05:00.000000Z | 100.0 Hz, 120001 samples\n",
       "UW.LAWT..ENN | 2017-05-11T13:45:00.000000Z - 2017-05-11T14:05:00.000000Z | 100.0 Hz, 120001 samples\n",
       "UW.LAWT..ENZ | 2017-05-11T13:45:00.000000Z - 2017-05-11T14:05:00.000000Z | 100.0 Hz, 120001 samples,\n",
       " 'UW.MNWA..EN?': 3 Trace(s) in Stream:\n",
       "UW.MNWA..ENE | 2017-05-11T13:45:00.000000Z - 2017-05-11T14:05:00.000000Z | 100.0 Hz, 120001 samples\n",
       "UW.MNWA..ENN | 2017-05-11T13:45:00.000000Z - 2017-05-11T14:05:00.000000Z | 100.0 Hz, 120001 samples\n",
       "UW.MNWA..ENZ | 2017-05-11T13:45:00.000000Z - 2017-05-11T14:05:00.000000Z | 100.0 Hz, 120001 samples,\n",
       " 'UW.NOWS..EN?': 3 Trace(s) in Stream:\n",
       "UW.NOWS..ENE | 2017-05-11T13:45:00.005000Z - 2017-05-11T14:04:59.995000Z | 100.0 Hz, 120000 samples\n",
       "UW.NOWS..ENN | 2017-05-11T13:45:00.005000Z - 2017-05-11T14:04:59.995000Z | 100.0 Hz, 120000 samples\n",
       "UW.NOWS..ENZ | 2017-05-11T13:45:00.005000Z - 2017-05-11T14:04:59.995000Z | 100.0 Hz, 120000 samples,\n",
       " 'UW.PIER..HN?': 3 Trace(s) in Stream:\n",
       "UW.PIER..HNE | 2017-05-11T13:45:00.000000Z - 2017-05-11T14:04:59.990000Z | 100.0 Hz, 120000 samples\n",
       "UW.PIER..HNN | 2017-05-11T13:45:00.000000Z - 2017-05-11T14:04:59.990000Z | 100.0 Hz, 120000 samples\n",
       "UW.PIER..HNZ | 2017-05-11T13:45:00.000000Z - 2017-05-11T14:04:59.990000Z | 100.0 Hz, 120000 samples,\n",
       " 'UW.PSNS..EN?': 259 Trace(s) in Stream:\n",
       "\n",
       "UW.PSNS..ENE | 2017-05-11T13:45:00.000000Z - 2017-05-11T13:45:04.720000Z | 100.0 Hz, 473 samples\n",
       "...\n",
       "(257 other traces)\n",
       "...\n",
       "UW.PSNS..ENZ | 2017-05-11T13:57:25.560000Z - 2017-05-11T14:05:00.000000Z | 100.0 Hz, 45445 samples\n",
       "\n",
       "[Use \"print(Stream.__str__(extended=True))\" to print all Traces],\n",
       " 'UW.RAD6..HH?': 3 Trace(s) in Stream:\n",
       "UW.RAD6..HHE | 2017-05-11T13:45:00.005000Z - 2017-05-11T14:04:59.995000Z | 100.0 Hz, 120000 samples\n",
       "UW.RAD6..HHN | 2017-05-11T13:45:00.005000Z - 2017-05-11T14:04:59.995000Z | 100.0 Hz, 120000 samples\n",
       "UW.RAD6..HHZ | 2017-05-11T13:45:00.005000Z - 2017-05-11T14:04:59.995000Z | 100.0 Hz, 120000 samples,\n",
       " 'UW.SCC..EN?': 272 Trace(s) in Stream:\n",
       "\n",
       "UW.SCC..ENE | 2017-05-11T13:45:00.000000Z - 2017-05-11T13:45:04.610000Z | 100.0 Hz, 462 samples\n",
       "...\n",
       "(270 other traces)\n",
       "...\n",
       "UW.SCC..ENZ | 2017-05-11T13:57:25.660000Z - 2017-05-11T14:05:00.000000Z | 100.0 Hz, 45435 samples\n",
       "\n",
       "[Use \"print(Stream.__str__(extended=True))\" to print all Traces],\n",
       " 'UW.SEA..EN?': 3 Trace(s) in Stream:\n",
       "UW.SEA..ENE | 2017-05-11T13:45:00.000000Z - 2017-05-11T14:05:00.000000Z | 100.0 Hz, 120001 samples\n",
       "UW.SEA..ENN | 2017-05-11T13:45:00.000000Z - 2017-05-11T14:05:00.000000Z | 100.0 Hz, 120001 samples\n",
       "UW.SEA..ENZ | 2017-05-11T13:45:00.000000Z - 2017-05-11T14:05:00.000000Z | 100.0 Hz, 120001 samples,\n",
       " 'UW.SP2..BH?': 3 Trace(s) in Stream:\n",
       "UW.SP2..BHE | 2017-05-11T13:45:00.010000Z - 2017-05-11T14:05:00.010000Z | 100.0 Hz, 120001 samples\n",
       "UW.SP2..BHN | 2017-05-11T13:45:00.010000Z - 2017-05-11T14:05:00.010000Z | 100.0 Hz, 120001 samples\n",
       "UW.SP2..BHZ | 2017-05-11T13:45:00.010000Z - 2017-05-11T14:05:00.010000Z | 100.0 Hz, 120001 samples,\n",
       " 'UW.SP2..EN?': 3 Trace(s) in Stream:\n",
       "UW.SP2..ENE | 2017-05-11T13:45:00.005000Z - 2017-05-11T14:04:59.995000Z | 100.0 Hz, 120000 samples\n",
       "UW.SP2..ENN | 2017-05-11T13:45:00.005000Z - 2017-05-11T14:04:59.995000Z | 100.0 Hz, 120000 samples\n",
       "UW.SP2..ENZ | 2017-05-11T13:45:00.005000Z - 2017-05-11T14:04:59.995000Z | 100.0 Hz, 120000 samples,\n",
       " 'UW.TKCO..EN?': 3 Trace(s) in Stream:\n",
       "UW.TKCO..ENE | 2017-05-11T13:45:00.005000Z - 2017-05-11T14:04:59.995000Z | 100.0 Hz, 120000 samples\n",
       "UW.TKCO..ENN | 2017-05-11T13:45:00.005000Z - 2017-05-11T14:04:59.995000Z | 100.0 Hz, 120000 samples\n",
       "UW.TKCO..ENZ | 2017-05-11T13:45:00.005000Z - 2017-05-11T14:04:59.995000Z | 100.0 Hz, 120000 samples,\n",
       " 'UW.VVHS..EH?': 26 Trace(s) in Stream:\n",
       "\n",
       "UW.VVHS..EHZ | 2017-05-11T13:45:00.000000Z - 2017-05-11T13:45:51.980000Z | 100.0 Hz, 5199 samples\n",
       "...\n",
       "(24 other traces)\n",
       "...\n",
       "UW.VVHS..EHZ | 2017-05-11T13:57:24.990000Z - 2017-05-11T14:05:00.000000Z | 100.0 Hz, 45502 samples\n",
       "\n",
       "[Use \"print(Stream.__str__(extended=True))\" to print all Traces],\n",
       " 'UW.VVHS..EN?': 147 Trace(s) in Stream:\n",
       "\n",
       "UW.VVHS..ENE | 2017-05-11T13:45:00.000000Z - 2017-05-11T13:45:04.980000Z | 100.0 Hz, 499 samples\n",
       "...\n",
       "(145 other traces)\n",
       "...\n",
       "UW.VVHS..ENZ | 2017-05-11T13:56:32.990000Z - 2017-05-11T14:05:00.000000Z | 100.0 Hz, 50702 samples\n",
       "\n",
       "[Use \"print(Stream.__str__(extended=True))\" to print all Traces]}"
      ]
     },
     "metadata": {},
     "output_type": "display_data"
    }
   ],
   "source": [
    "# Prepare data\n",
    "# Merge key-word-arguments\n",
    "mkwargs = {'method':1,\n",
    "           'fill_value':np.nan,\n",
    "           'interpolation_samples':5\n",
    "          }\n",
    "ikwargs = {'method':'weighted_average_slopes',\n",
    "           'no_filter': False\n",
    "          }\n",
    "# Break into NSBI \n",
    "NSLBI_dict, windows, swindex = ml.prepare_windows_from_stream(stream, model, \n",
    "                                                              merge_kwargs=mkwargs, method_1C='ZP')\n",
    "\n",
    "display(NSLBI_dict)"
   ]
  },
  {
   "cell_type": "code",
   "execution_count": 6,
   "metadata": {},
   "outputs": [
    {
     "name": "stderr",
     "output_type": "stream",
     "text": [
      "100%|██████████| 184/184 [00:12<00:00, 14.84it/s]\n"
     ]
    }
   ],
   "source": [
    "# Run batched prediction\n",
    "pred = ml.run_batched_prediction(windows, model, device, batch_size=10)"
   ]
  },
  {
   "cell_type": "code",
   "execution_count": 8,
   "metadata": {},
   "outputs": [
    {
     "name": "stderr",
     "output_type": "stream",
     "text": [
      "/Users/nates/Code/PNSN/Sci-Prod-ML/ml_prediction/prediction_methods.py:678: RuntimeWarning: All-NaN axis encountered\n",
      "  stack[:, _wi:_wi+mdata] = merge_method([stack[:, _wi:_wi+mdata], _data], axis=0)\n"
     ]
    },
    {
     "ename": "ValueError",
     "evalue": "startime is larger than endtime",
     "output_type": "error",
     "traceback": [
      "\u001b[0;31m---------------------------------------------------------------------------\u001b[0m",
      "\u001b[0;31mValueError\u001b[0m                                Traceback (most recent call last)",
      "\u001b[1;32m/Users/nates/Code/PNSN/Sci-Prod-ML/ml_prediction/GappyDataProcTests.ipynb Cell 9\u001b[0m line \u001b[0;36m1\n\u001b[0;32m----> <a href='vscode-notebook-cell:/Users/nates/Code/PNSN/Sci-Prod-ML/ml_prediction/GappyDataProcTests.ipynb#X11sZmlsZQ%3D%3D?line=0'>1</a>\u001b[0m pred_stream \u001b[39m=\u001b[39m ml\u001b[39m.\u001b[39;49mreassemble_multistation_preds(pred,swindex,model,NSLBI_dict)\n",
      "File \u001b[0;32m~/Code/PNSN/Sci-Prod-ML/ml_prediction/prediction_methods.py:625\u001b[0m, in \u001b[0;36mreassemble_multistation_preds\u001b[0;34m(preds, swindex, model, st_dict, mod_wt_code, pred_codes)\u001b[0m\n\u001b[1;32m    623\u001b[0m _stack \u001b[39m=\u001b[39m _restructure_predictions(_preds, _swindex[\u001b[39m1\u001b[39m], model)\n\u001b[1;32m    624\u001b[0m \u001b[39m# Convert substack to stream\u001b[39;00m\n\u001b[0;32m--> 625\u001b[0m _stream \u001b[39m=\u001b[39m _stack2stream(_stack, _st_src, model,\n\u001b[1;32m    626\u001b[0m                         mod_wt_code\u001b[39m=\u001b[39;49mmod_wt_code,\n\u001b[1;32m    627\u001b[0m                         pred_codes\u001b[39m=\u001b[39;49mpred_codes)\n\u001b[1;32m    628\u001b[0m \u001b[39m# Update pred_streams\u001b[39;00m\n\u001b[1;32m    629\u001b[0m pred_stream \u001b[39m+\u001b[39m\u001b[39m=\u001b[39m _stream\n",
      "File \u001b[0;32m~/Code/PNSN/Sci-Prod-ML/ml_prediction/prediction_methods.py:750\u001b[0m, in \u001b[0;36m_stack2stream\u001b[0;34m(stack, source_stream, model, mod_wt_code, pred_codes, trim)\u001b[0m\n\u001b[1;32m    748\u001b[0m     \u001b[39m# Trim off first and last blinding\u001b[39;00m\n\u001b[1;32m    749\u001b[0m     \u001b[39mif\u001b[39;00m trim:\n\u001b[0;32m--> 750\u001b[0m         _tr \u001b[39m=\u001b[39m _tr\u001b[39m.\u001b[39;49mtrim(starttime\u001b[39m=\u001b[39;49m_ts, endtime\u001b[39m=\u001b[39;49m_te)\n\u001b[1;32m    751\u001b[0m \u001b[39mreturn\u001b[39;00m pred_stream\n",
      "File \u001b[0;32m~/miniforge3/envs/pnsn_ml_dev_apple/lib/python3.9/site-packages/decorator.py:232\u001b[0m, in \u001b[0;36mdecorate.<locals>.fun\u001b[0;34m(*args, **kw)\u001b[0m\n\u001b[1;32m    230\u001b[0m \u001b[39mif\u001b[39;00m \u001b[39mnot\u001b[39;00m kwsyntax:\n\u001b[1;32m    231\u001b[0m     args, kw \u001b[39m=\u001b[39m fix(args, kw, sig)\n\u001b[0;32m--> 232\u001b[0m \u001b[39mreturn\u001b[39;00m caller(func, \u001b[39m*\u001b[39;49m(extras \u001b[39m+\u001b[39;49m args), \u001b[39m*\u001b[39;49m\u001b[39m*\u001b[39;49mkw)\n",
      "File \u001b[0;32m~/miniforge3/envs/pnsn_ml_dev_apple/lib/python3.9/site-packages/obspy/core/trace.py:282\u001b[0m, in \u001b[0;36m_add_processing_info\u001b[0;34m(func, *args, **kwargs)\u001b[0m\n\u001b[1;32m    280\u001b[0m info \u001b[39m=\u001b[39m info \u001b[39m%\u001b[39m \u001b[39m\"\u001b[39m\u001b[39m::\u001b[39m\u001b[39m\"\u001b[39m\u001b[39m.\u001b[39mjoin(arguments)\n\u001b[1;32m    281\u001b[0m \u001b[39mself\u001b[39m \u001b[39m=\u001b[39m args[\u001b[39m0\u001b[39m]\n\u001b[0;32m--> 282\u001b[0m result \u001b[39m=\u001b[39m func(\u001b[39m*\u001b[39;49margs, \u001b[39m*\u001b[39;49m\u001b[39m*\u001b[39;49mkwargs)\n\u001b[1;32m    283\u001b[0m \u001b[39m# Attach after executing the function to avoid having it attached\u001b[39;00m\n\u001b[1;32m    284\u001b[0m \u001b[39m# while the operation failed.\u001b[39;00m\n\u001b[1;32m    285\u001b[0m \u001b[39mself\u001b[39m\u001b[39m.\u001b[39m_internal_add_processing_info(info)\n",
      "File \u001b[0;32m~/miniforge3/envs/pnsn_ml_dev_apple/lib/python3.9/site-packages/obspy/core/trace.py:1184\u001b[0m, in \u001b[0;36mTrace.trim\u001b[0;34m(self, starttime, endtime, pad, nearest_sample, fill_value)\u001b[0m\n\u001b[1;32m   1181\u001b[0m \u001b[39m# check time order and swap eventually\u001b[39;00m\n\u001b[1;32m   1182\u001b[0m \u001b[39mif\u001b[39;00m (\u001b[39misinstance\u001b[39m(starttime, UTCDateTime) \u001b[39mand\u001b[39;00m\n\u001b[1;32m   1183\u001b[0m         \u001b[39misinstance\u001b[39m(endtime, UTCDateTime) \u001b[39mand\u001b[39;00m starttime \u001b[39m>\u001b[39m endtime):\n\u001b[0;32m-> 1184\u001b[0m     \u001b[39mraise\u001b[39;00m \u001b[39mValueError\u001b[39;00m(\u001b[39m\"\u001b[39m\u001b[39mstartime is larger than endtime\u001b[39m\u001b[39m\"\u001b[39m)\n\u001b[1;32m   1185\u001b[0m \u001b[39m# cut it\u001b[39;00m\n\u001b[1;32m   1186\u001b[0m \u001b[39mif\u001b[39;00m starttime:\n",
      "\u001b[0;31mValueError\u001b[0m: startime is larger than endtime"
     ]
    }
   ],
   "source": [
    "stream_dict_merged = Stream()\n",
    "for _k in NSLBI_dict.keys():\n",
    "    stream_dict_merged += NSLBI_dict[_k]\n",
    "pred_stream = ml.reassemble_multistation_preds(pred,swindex,model,NSLBI_dict)"
   ]
  },
  {
   "cell_type": "code",
   "execution_count": 7,
   "metadata": {},
   "outputs": [
    {
     "name": "stderr",
     "output_type": "stream",
     "text": [
      "/Users/nates/Code/PNSN/Sci-Prod-ML/ml_prediction/prediction_methods.py:290: RuntimeWarning: All-NaN axis encountered\n",
      "  stack[:, _wi:_wi+mdata] = merge_method([stack[:, _wi:_wi+mdata], _data], axis=0)\n"
     ]
    },
    {
     "ename": "ValueError",
     "evalue": "startime is larger than endtime",
     "output_type": "error",
     "traceback": [
      "\u001b[0;31m---------------------------------------------------------------------------\u001b[0m",
      "\u001b[0;31mValueError\u001b[0m                                Traceback (most recent call last)",
      "\u001b[1;32m/Users/nates/Code/PNSN/Sci-Prod-ML/ml_prediction/GappyDataProcTests.ipynb Cell 9\u001b[0m line \u001b[0;36m2\n\u001b[1;32m      <a href='vscode-notebook-cell:/Users/nates/Code/PNSN/Sci-Prod-ML/ml_prediction/GappyDataProcTests.ipynb#X15sZmlsZQ%3D%3D?line=0'>1</a>\u001b[0m \u001b[39m# Convert windows back to stream\u001b[39;00m\n\u001b[0;32m----> <a href='vscode-notebook-cell:/Users/nates/Code/PNSN/Sci-Prod-ML/ml_prediction/GappyDataProcTests.ipynb#X15sZmlsZQ%3D%3D?line=1'>2</a>\u001b[0m pred_st \u001b[39m=\u001b[39m pp\u001b[39m.\u001b[39;49m_reassemble_multistation(pred, swindex, model, st_dict)\n",
      "File \u001b[0;32m~/Code/PNSN/Sci-Prod-ML/ml_prediction/ml_multistation_tests.py:271\u001b[0m, in \u001b[0;36m_reassemble_multistation\u001b[0;34m(preds, swindex, model, st_dict, mod_wt_code, pred_codes)\u001b[0m\n\u001b[1;32m    269\u001b[0m _stack \u001b[39m=\u001b[39m ml\u001b[39m.\u001b[39mrestructure_predictions(_preds, _swindex[\u001b[39m1\u001b[39m], model)\n\u001b[1;32m    270\u001b[0m \u001b[39m# Convert substack to stream\u001b[39;00m\n\u001b[0;32m--> 271\u001b[0m _stream \u001b[39m=\u001b[39m ml\u001b[39m.\u001b[39;49mstack2stream(_stack, _st_src, model,\n\u001b[1;32m    272\u001b[0m                           mod_wt_code\u001b[39m=\u001b[39;49mmod_wt_code,\n\u001b[1;32m    273\u001b[0m                           pred_codes\u001b[39m=\u001b[39;49mpred_codes)\n\u001b[1;32m    274\u001b[0m \u001b[39m# Update pred_streams\u001b[39;00m\n\u001b[1;32m    275\u001b[0m pred_stream \u001b[39m+\u001b[39m\u001b[39m=\u001b[39m _stream\n",
      "File \u001b[0;32m~/Code/PNSN/Sci-Prod-ML/ml_prediction/prediction_methods.py:378\u001b[0m, in \u001b[0;36mstack2stream\u001b[0;34m(stack, source_stream, model, mod_wt_code, pred_codes, trim)\u001b[0m\n\u001b[1;32m    376\u001b[0m     \u001b[39m# Trim off first and last blinding\u001b[39;00m\n\u001b[1;32m    377\u001b[0m     \u001b[39mif\u001b[39;00m trim:\n\u001b[0;32m--> 378\u001b[0m         _tr \u001b[39m=\u001b[39m _tr\u001b[39m.\u001b[39;49mtrim(starttime\u001b[39m=\u001b[39;49m_ts, endtime\u001b[39m=\u001b[39;49m_te)\n\u001b[1;32m    379\u001b[0m \u001b[39mreturn\u001b[39;00m pred_stream\n",
      "File \u001b[0;32m~/miniforge3/envs/pnsn_ml_dev_apple/lib/python3.9/site-packages/decorator.py:232\u001b[0m, in \u001b[0;36mdecorate.<locals>.fun\u001b[0;34m(*args, **kw)\u001b[0m\n\u001b[1;32m    230\u001b[0m \u001b[39mif\u001b[39;00m \u001b[39mnot\u001b[39;00m kwsyntax:\n\u001b[1;32m    231\u001b[0m     args, kw \u001b[39m=\u001b[39m fix(args, kw, sig)\n\u001b[0;32m--> 232\u001b[0m \u001b[39mreturn\u001b[39;00m caller(func, \u001b[39m*\u001b[39;49m(extras \u001b[39m+\u001b[39;49m args), \u001b[39m*\u001b[39;49m\u001b[39m*\u001b[39;49mkw)\n",
      "File \u001b[0;32m~/miniforge3/envs/pnsn_ml_dev_apple/lib/python3.9/site-packages/obspy/core/trace.py:282\u001b[0m, in \u001b[0;36m_add_processing_info\u001b[0;34m(func, *args, **kwargs)\u001b[0m\n\u001b[1;32m    280\u001b[0m info \u001b[39m=\u001b[39m info \u001b[39m%\u001b[39m \u001b[39m\"\u001b[39m\u001b[39m::\u001b[39m\u001b[39m\"\u001b[39m\u001b[39m.\u001b[39mjoin(arguments)\n\u001b[1;32m    281\u001b[0m \u001b[39mself\u001b[39m \u001b[39m=\u001b[39m args[\u001b[39m0\u001b[39m]\n\u001b[0;32m--> 282\u001b[0m result \u001b[39m=\u001b[39m func(\u001b[39m*\u001b[39;49margs, \u001b[39m*\u001b[39;49m\u001b[39m*\u001b[39;49mkwargs)\n\u001b[1;32m    283\u001b[0m \u001b[39m# Attach after executing the function to avoid having it attached\u001b[39;00m\n\u001b[1;32m    284\u001b[0m \u001b[39m# while the operation failed.\u001b[39;00m\n\u001b[1;32m    285\u001b[0m \u001b[39mself\u001b[39m\u001b[39m.\u001b[39m_internal_add_processing_info(info)\n",
      "File \u001b[0;32m~/miniforge3/envs/pnsn_ml_dev_apple/lib/python3.9/site-packages/obspy/core/trace.py:1184\u001b[0m, in \u001b[0;36mTrace.trim\u001b[0;34m(self, starttime, endtime, pad, nearest_sample, fill_value)\u001b[0m\n\u001b[1;32m   1181\u001b[0m \u001b[39m# check time order and swap eventually\u001b[39;00m\n\u001b[1;32m   1182\u001b[0m \u001b[39mif\u001b[39;00m (\u001b[39misinstance\u001b[39m(starttime, UTCDateTime) \u001b[39mand\u001b[39;00m\n\u001b[1;32m   1183\u001b[0m         \u001b[39misinstance\u001b[39m(endtime, UTCDateTime) \u001b[39mand\u001b[39;00m starttime \u001b[39m>\u001b[39m endtime):\n\u001b[0;32m-> 1184\u001b[0m     \u001b[39mraise\u001b[39;00m \u001b[39mValueError\u001b[39;00m(\u001b[39m\"\u001b[39m\u001b[39mstartime is larger than endtime\u001b[39m\u001b[39m\"\u001b[39m)\n\u001b[1;32m   1185\u001b[0m \u001b[39m# cut it\u001b[39;00m\n\u001b[1;32m   1186\u001b[0m \u001b[39mif\u001b[39;00m starttime:\n",
      "\u001b[0;31mValueError\u001b[0m: startime is larger than endtime"
     ]
    }
   ],
   "source": [
    "# Convert windows back to stream\n",
    "pred_st = pp._reassemble_multistation(pred, swindex, model, st_dict)"
   ]
  },
  {
   "cell_type": "code",
   "execution_count": null,
   "metadata": {},
   "outputs": [],
   "source": [
    "# Check resampled data\n",
    "st2 = Stream()\n",
    "for _k in st_dict.keys():\n",
    "    st2 += st_dict[_k]\n",
    "st2.snuffle(ntracks=90)"
   ]
  }
 ],
 "metadata": {
  "kernelspec": {
   "display_name": "pnsn_ml_dev_apple",
   "language": "python",
   "name": "python3"
  },
  "language_info": {
   "codemirror_mode": {
    "name": "ipython",
    "version": 3
   },
   "file_extension": ".py",
   "mimetype": "text/x-python",
   "name": "python",
   "nbconvert_exporter": "python",
   "pygments_lexer": "ipython3",
   "version": "3.9.15"
  }
 },
 "nbformat": 4,
 "nbformat_minor": 2
}
