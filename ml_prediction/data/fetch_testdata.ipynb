{
 "cells": [
  {
   "cell_type": "markdown",
   "metadata": {},
   "source": [
    "# fetch_testdata.ipynb\n",
    "This notebook documents queries for earthquake data and metadata used as testdata in assessing code base functionality and tuning (hyper)parameter selection for eventual code deployment  \n",
    "\n",
    ":auth: Nathan T. Stevens  \n",
    ":email: ntsteven (at) uw.edu  \n",
    ":org: Pacific Northwest Seismic Network  \n",
    ":license: MIT (2023)  \n",
    "\n",
    "\n",
    ":references:  \n",
    "Ni, Yiyu, Alexander Hutko, Francesca Skene, Marine Denolle, Stephen Malone, Paul Bodin, Renate Hartog, and Amy Wright. “Curated Pacific Northwest AI-Ready Seismic Dataset.” Seismica 2, no. 1 (May 8, 2023). https://doi.org/10.26443/seismica.v2i1.368.\n",
    "\n",
    "\n"
   ]
  },
  {
   "cell_type": "code",
   "execution_count": 2,
   "metadata": {},
   "outputs": [],
   "source": [
    "import os\n",
    "import sys\n",
    "import pandas as pd\n",
    "from obspy import UTCDateTime, Stream\n",
    "from obspy.clients.fdsn import Client\n",
    "from obspy.geodetics import kilometers2degrees as kms2degs\n",
    "from tqdm import tqdm\n",
    "import plotly.express as px\n",
    "\n",
    "\n",
    "# from time import time\n",
    "# # Import repo-specific data holders\n",
    "# sys.path.append('..')\n",
    "# from classes.EventMiniDB import EventMiniDB, MiniCat"
   ]
  },
  {
   "cell_type": "code",
   "execution_count": 3,
   "metadata": {},
   "outputs": [],
   "source": [
    "# Define data save root directory (in this case, we go up a level and right back into 'data')\n",
    "OUT_ROOT = os.path.join('..','data')\n",
    "# Define root location for local PNW_Store data subset (see Ni et al., 2023)\n",
    "# PNW_ROOT = os.path.join('/Volumes','TheWall','PNW_Store_Local')"
   ]
  },
  {
   "cell_type": "markdown",
   "metadata": {},
   "source": [
    "# Test Dataset 1: All broadband and strong motion recordings within 50 km of Bremerton, WA on May 11-12 2017\n",
    "This dataset includes 3-component, 4-component, and 6-component recordings of the Ml 3.5 mainshock on May 11th 2017 with sampling rates ranging from 40 to 200 samples per second and a number of synchronous instances of gappy data.\n",
    "\n",
    "Use the `Client` class methods to conduct this query"
   ]
  },
  {
   "cell_type": "code",
   "execution_count": 4,
   "metadata": {},
   "outputs": [
    {
     "name": "stdout",
     "output_type": "stream",
     "text": [
      "Loading inventory from Client\n",
      "Saving inventory to disk\n"
     ]
    },
    {
     "data": {
      "text/html": [
       "<div>\n",
       "<style scoped>\n",
       "    .dataframe tbody tr th:only-of-type {\n",
       "        vertical-align: middle;\n",
       "    }\n",
       "\n",
       "    .dataframe tbody tr th {\n",
       "        vertical-align: top;\n",
       "    }\n",
       "\n",
       "    .dataframe thead th {\n",
       "        text-align: right;\n",
       "    }\n",
       "</style>\n",
       "<table border=\"1\" class=\"dataframe\">\n",
       "  <thead>\n",
       "    <tr style=\"text-align: right;\">\n",
       "      <th></th>\n",
       "      <th>net</th>\n",
       "      <th>sta</th>\n",
       "      <th>nchan</th>\n",
       "      <th>lat</th>\n",
       "      <th>lon</th>\n",
       "      <th>elev_m</th>\n",
       "      <th>ts_start</th>\n",
       "      <th>ts_end</th>\n",
       "      <th>coverage_frac</th>\n",
       "    </tr>\n",
       "  </thead>\n",
       "  <tbody>\n",
       "    <tr>\n",
       "      <th>0</th>\n",
       "      <td>UW</td>\n",
       "      <td>ALCT</td>\n",
       "      <td>3</td>\n",
       "      <td>47.646900</td>\n",
       "      <td>-122.037700</td>\n",
       "      <td>55.0</td>\n",
       "      <td>2017-05-11</td>\n",
       "      <td>2017-05-11 23:59:59</td>\n",
       "      <td>1.0</td>\n",
       "    </tr>\n",
       "    <tr>\n",
       "      <th>1</th>\n",
       "      <td>UW</td>\n",
       "      <td>ALKI</td>\n",
       "      <td>3</td>\n",
       "      <td>47.575100</td>\n",
       "      <td>-122.417600</td>\n",
       "      <td>1.0</td>\n",
       "      <td>2017-05-11</td>\n",
       "      <td>2017-05-11 23:59:59</td>\n",
       "      <td>1.0</td>\n",
       "    </tr>\n",
       "    <tr>\n",
       "      <th>2</th>\n",
       "      <td>UW</td>\n",
       "      <td>BABE</td>\n",
       "      <td>3</td>\n",
       "      <td>47.605650</td>\n",
       "      <td>-122.536520</td>\n",
       "      <td>84.1</td>\n",
       "      <td>2017-05-11</td>\n",
       "      <td>2017-05-11 23:59:59</td>\n",
       "      <td>1.0</td>\n",
       "    </tr>\n",
       "    <tr>\n",
       "      <th>3</th>\n",
       "      <td>UW</td>\n",
       "      <td>BEVT</td>\n",
       "      <td>3</td>\n",
       "      <td>47.924970</td>\n",
       "      <td>-122.278110</td>\n",
       "      <td>174.1</td>\n",
       "      <td>2017-05-11</td>\n",
       "      <td>2017-05-11 23:59:59</td>\n",
       "      <td>1.0</td>\n",
       "    </tr>\n",
       "    <tr>\n",
       "      <th>4</th>\n",
       "      <td>UW</td>\n",
       "      <td>BHW</td>\n",
       "      <td>1</td>\n",
       "      <td>47.836360</td>\n",
       "      <td>-122.030570</td>\n",
       "      <td>152.0</td>\n",
       "      <td>2017-05-11</td>\n",
       "      <td>2017-05-11 23:59:59</td>\n",
       "      <td>1.0</td>\n",
       "    </tr>\n",
       "    <tr>\n",
       "      <th>...</th>\n",
       "      <td>...</td>\n",
       "      <td>...</td>\n",
       "      <td>...</td>\n",
       "      <td>...</td>\n",
       "      <td>...</td>\n",
       "      <td>...</td>\n",
       "      <td>...</td>\n",
       "      <td>...</td>\n",
       "      <td>...</td>\n",
       "    </tr>\n",
       "    <tr>\n",
       "      <th>93</th>\n",
       "      <td>UW</td>\n",
       "      <td>TBPA</td>\n",
       "      <td>3</td>\n",
       "      <td>47.257880</td>\n",
       "      <td>-122.368180</td>\n",
       "      <td>2.0</td>\n",
       "      <td>2017-05-11</td>\n",
       "      <td>2017-05-11 23:59:59</td>\n",
       "      <td>1.0</td>\n",
       "    </tr>\n",
       "    <tr>\n",
       "      <th>94</th>\n",
       "      <td>UW</td>\n",
       "      <td>TKCO</td>\n",
       "      <td>3</td>\n",
       "      <td>47.536680</td>\n",
       "      <td>-122.301650</td>\n",
       "      <td>5.0</td>\n",
       "      <td>2017-05-11</td>\n",
       "      <td>2017-05-11 23:59:59</td>\n",
       "      <td>1.0</td>\n",
       "    </tr>\n",
       "    <tr>\n",
       "      <th>95</th>\n",
       "      <td>UW</td>\n",
       "      <td>UPS</td>\n",
       "      <td>3</td>\n",
       "      <td>47.263939</td>\n",
       "      <td>-122.483643</td>\n",
       "      <td>113.0</td>\n",
       "      <td>2017-05-11</td>\n",
       "      <td>2017-05-11 23:59:59</td>\n",
       "      <td>1.0</td>\n",
       "    </tr>\n",
       "    <tr>\n",
       "      <th>96</th>\n",
       "      <td>UW</td>\n",
       "      <td>VVHS</td>\n",
       "      <td>4</td>\n",
       "      <td>47.423355</td>\n",
       "      <td>-122.455276</td>\n",
       "      <td>98.0</td>\n",
       "      <td>2017-05-11</td>\n",
       "      <td>2017-05-11 23:59:59</td>\n",
       "      <td>1.0</td>\n",
       "    </tr>\n",
       "    <tr>\n",
       "      <th>97</th>\n",
       "      <td>UW</td>\n",
       "      <td>WISC</td>\n",
       "      <td>3</td>\n",
       "      <td>47.609257</td>\n",
       "      <td>-122.175529</td>\n",
       "      <td>56.0</td>\n",
       "      <td>2017-05-11</td>\n",
       "      <td>2017-05-11 23:59:59</td>\n",
       "      <td>1.0</td>\n",
       "    </tr>\n",
       "  </tbody>\n",
       "</table>\n",
       "<p>98 rows × 9 columns</p>\n",
       "</div>"
      ],
      "text/plain": [
       "   net   sta  nchan        lat         lon  elev_m   ts_start  \\\n",
       "0   UW  ALCT      3  47.646900 -122.037700    55.0 2017-05-11   \n",
       "1   UW  ALKI      3  47.575100 -122.417600     1.0 2017-05-11   \n",
       "2   UW  BABE      3  47.605650 -122.536520    84.1 2017-05-11   \n",
       "3   UW  BEVT      3  47.924970 -122.278110   174.1 2017-05-11   \n",
       "4   UW   BHW      1  47.836360 -122.030570   152.0 2017-05-11   \n",
       "..  ..   ...    ...        ...         ...     ...        ...   \n",
       "93  UW  TBPA      3  47.257880 -122.368180     2.0 2017-05-11   \n",
       "94  UW  TKCO      3  47.536680 -122.301650     5.0 2017-05-11   \n",
       "95  UW   UPS      3  47.263939 -122.483643   113.0 2017-05-11   \n",
       "96  UW  VVHS      4  47.423355 -122.455276    98.0 2017-05-11   \n",
       "97  UW  WISC      3  47.609257 -122.175529    56.0 2017-05-11   \n",
       "\n",
       "                ts_end  coverage_frac  \n",
       "0  2017-05-11 23:59:59            1.0  \n",
       "1  2017-05-11 23:59:59            1.0  \n",
       "2  2017-05-11 23:59:59            1.0  \n",
       "3  2017-05-11 23:59:59            1.0  \n",
       "4  2017-05-11 23:59:59            1.0  \n",
       "..                 ...            ...  \n",
       "93 2017-05-11 23:59:59            1.0  \n",
       "94 2017-05-11 23:59:59            1.0  \n",
       "95 2017-05-11 23:59:59            1.0  \n",
       "96 2017-05-11 23:59:59            1.0  \n",
       "97 2017-05-11 23:59:59            1.0  \n",
       "\n",
       "[98 rows x 9 columns]"
      ]
     },
     "metadata": {},
     "output_type": "display_data"
    }
   ],
   "source": [
    "# Start creating subdirectory structure if it doesn't already exist\n",
    "set1_root = os.path.join(OUT_ROOT,'test_dataset_1')\n",
    "try: \n",
    "    os.mkdir(set1_root)\n",
    "except FileExistsError:\n",
    "    pass\n",
    "\n",
    "# Time Bounds\n",
    "TS = UTCDateTime(2017,5,11)\n",
    "TE = UTCDateTime(2017,5,11,23,59,59)\n",
    "# Center search on the Ml 3.5 mainshock\n",
    "lat0, lon0 = 47.5887, -122.5842\n",
    "max_rad_km = 50.\n",
    "# Compose channel list\n",
    "chan_list = []\n",
    "# Get band codes 'B', 'H', and 'E'\n",
    "for _bc in 'BHE':\n",
    "    # Get instrument codes 'H' and 'N'\n",
    "    for _ic in 'HN':\n",
    "        # Get all reasonable component codes\n",
    "        for _cc in 'ZNE123':\n",
    "            # Add unique combinations to list\n",
    "            if _bc + _ic + _cc not in chan_list:\n",
    "                chan_list.append(_bc + _ic + _cc)\n",
    "\n",
    "# Mash into a single long string to pass to client.get_stations()\n",
    "cstr = chan_list[0]\n",
    "for _c in chan_list[1:]:\n",
    "    cstr += f',{_c}'\n",
    "\n",
    "inv_kwargs = {'network':'UW',\n",
    "              'starttime': TS, 'endtime': TE,\n",
    "              'latitude': lat0, 'longitude': lon0,\n",
    "              'maxradius': kms2degs(max_rad_km),\n",
    "              'channel': cstr, 'level': 'response'}\n",
    "\n",
    "# Initialize client\n",
    "client = Client(\"IRIS\")\n",
    "# Run Station Query\n",
    "print('Loading inventory from Client')\n",
    "inv = client.get_stations(**inv_kwargs)\n",
    "print('Saving inventory to disk')\n",
    "# Write station inventory to disk\n",
    "inv.write(os.path.join(set1_root, 'stations.xml'),format='STATIONXML')\n",
    "\n",
    "# Convert obspy.Inventory into pandas.DataFrame\n",
    "holder = []\n",
    "for _n in inv.networks:\n",
    "    for _s in _n.stations:\n",
    "        #       net      sta      nchan              lat          lon           Elev_m\n",
    "        line = [_n.code, _s.code, len(_s.channels), _s.latitude, _s.longitude, _s.elevation]\n",
    "        if _s.start_date >= TS:\n",
    "            start_timestamp = pd.Timestamp(_s.start_date.isoformat())\n",
    "        else:\n",
    "            start_timestamp = pd.Timestamp(TS.isoformat())\n",
    "            \n",
    "        if _s.end_date is None:\n",
    "            end_timestamp = pd.Timestamp(TE.isoformat())\n",
    "        elif _s.end_date < TE:\n",
    "            end_timestamp = pd.Timestamp(_s.end_date.isoformat())\n",
    "        else:\n",
    "            end_timestamp = pd.Timestamp(TE.isoformat())\n",
    "            \n",
    "        frac_complete = (end_timestamp - start_timestamp).total_seconds()/(TE - TS)\n",
    "        line += [start_timestamp, end_timestamp, frac_complete]\n",
    "        holder.append(line)\n",
    "\n",
    "df_inv = pd.DataFrame(holder, columns=['net','sta','nchan','lat','lon','elev_m','ts_start','ts_end','coverage_frac'])\n",
    "display(df_inv)\n"
   ]
  },
  {
   "cell_type": "code",
   "execution_count": null,
   "metadata": {},
   "outputs": [],
   "source": []
  },
  {
   "cell_type": "code",
   "execution_count": 5,
   "metadata": {},
   "outputs": [
    {
     "data": {
      "application/vnd.plotly.v1+json": {
       "config": {
        "plotlyServerURL": "https://plot.ly"
       },
       "data": [
        {
         "customdata": [
          [
           "UW",
           "ALCT",
           3,
           1
          ],
          [
           "UW",
           "ALKI",
           3,
           1
          ],
          [
           "UW",
           "BABE",
           3,
           1
          ],
          [
           "UW",
           "BEVT",
           3,
           1
          ],
          [
           "UW",
           "BHW",
           1,
           1
          ],
          [
           "UW",
           "BRKS",
           3,
           1
          ],
          [
           "UW",
           "BSFP",
           3,
           1
          ],
          [
           "UW",
           "DOSE",
           6,
           1
          ],
          [
           "UW",
           "EARN",
           3,
           1
          ],
          [
           "UW",
           "EVGW",
           3,
           1
          ],
          [
           "UW",
           "FINN",
           3,
           1
          ],
          [
           "UW",
           "GMW",
           4,
           1
          ],
          [
           "UW",
           "GNW",
           6,
           1
          ],
          [
           "UW",
           "GTWN",
           3,
           1
          ],
          [
           "UW",
           "HART",
           3,
           1
          ],
          [
           "UW",
           "HDW",
           2,
           1
          ],
          [
           "UW",
           "HICC",
           3,
           1
          ],
          [
           "UW",
           "HOLY",
           3,
           1
          ],
          [
           "UW",
           "KCAM",
           3,
           1
          ],
          [
           "UW",
           "KDK",
           3,
           1
          ],
          [
           "UW",
           "KIMB",
           3,
           1
          ],
          [
           "UW",
           "KIMR",
           3,
           1
          ],
          [
           "UW",
           "KINR",
           3,
           1
          ],
          [
           "UW",
           "KITP",
           3,
           1
          ],
          [
           "UW",
           "KNEL",
           3,
           1
          ],
          [
           "UW",
           "LAWT",
           3,
           1
          ],
          [
           "UW",
           "LEOT",
           3,
           1
          ],
          [
           "UW",
           "LYNC",
           3,
           1
          ],
          [
           "UW",
           "MARY",
           3,
           1
          ],
          [
           "UW",
           "MNWA",
           3,
           1
          ],
          [
           "UW",
           "MOLE",
           3,
           1
          ],
          [
           "UW",
           "MPL",
           3,
           1
          ],
          [
           "UW",
           "NIHS",
           3,
           1
          ],
          [
           "UW",
           "NOWS",
           3,
           1
          ],
          [
           "UW",
           "PAYL",
           3,
           1
          ],
          [
           "UW",
           "PIER",
           3,
           1
          ],
          [
           "UW",
           "PNLK",
           3,
           1
          ],
          [
           "UW",
           "PSNS",
           3,
           1
          ],
          [
           "UW",
           "QADA",
           6,
           1
          ],
          [
           "UW",
           "QARB",
           3,
           1
          ],
          [
           "UW",
           "QBIT",
           3,
           1
          ],
          [
           "UW",
           "QBOG",
           3,
           1
          ],
          [
           "UW",
           "QBOV",
           3,
           1
          ],
          [
           "UW",
           "QBSH",
           3,
           1
          ],
          [
           "UW",
           "QCMM",
           3,
           1
          ],
          [
           "UW",
           "QCOM",
           3,
           1
          ],
          [
           "UW",
           "QCOR",
           3,
           1
          ],
          [
           "UW",
           "QDHS",
           3,
           1
          ],
          [
           "UW",
           "QDLP",
           3,
           1
          ],
          [
           "UW",
           "QEMI",
           3,
           1
          ],
          [
           "UW",
           "QESB",
           3,
           1
          ],
          [
           "UW",
           "QGFY",
           3,
           1
          ],
          [
           "UW",
           "QGNG",
           3,
           1
          ],
          [
           "UW",
           "QHAN",
           3,
           1
          ],
          [
           "UW",
           "QHRH",
           3,
           1
          ],
          [
           "UW",
           "QJEA",
           3,
           1
          ],
          [
           "UW",
           "QKEV",
           3,
           1
          ],
          [
           "UW",
           "QKSO",
           3,
           1
          ],
          [
           "UW",
           "QKTN",
           3,
           1
          ],
          [
           "UW",
           "QLBR",
           3,
           1
          ],
          [
           "UW",
           "QMAC",
           3,
           1
          ],
          [
           "UW",
           "QMAL",
           3,
           1
          ],
          [
           "UW",
           "QMAP",
           3,
           1
          ],
          [
           "UW",
           "QMAS",
           3,
           1
          ],
          [
           "UW",
           "QMIN",
           3,
           1
          ],
          [
           "UW",
           "QMLO",
           3,
           1
          ],
          [
           "UW",
           "QNKP",
           3,
           1
          ],
          [
           "UW",
           "QNPB",
           3,
           1
          ],
          [
           "UW",
           "QNWT",
           3,
           1
          ],
          [
           "UW",
           "QOUT",
           3,
           1
          ],
          [
           "UW",
           "QPAL",
           3,
           1
          ],
          [
           "UW",
           "QPBC",
           3,
           1
          ],
          [
           "UW",
           "QPRK",
           3,
           1
          ],
          [
           "UW",
           "QRCR",
           3,
           1
          ],
          [
           "UW",
           "QRMB",
           3,
           1
          ],
          [
           "UW",
           "QRNR",
           3,
           1
          ],
          [
           "UW",
           "QSKT",
           3,
           1
          ],
          [
           "UW",
           "QSNL",
           3,
           1
          ],
          [
           "UW",
           "QSNZ",
           3,
           1
          ],
          [
           "UW",
           "QSRV",
           3,
           1
          ],
          [
           "UW",
           "QTKM",
           3,
           1
          ],
          [
           "UW",
           "QTNB",
           3,
           1
          ],
          [
           "UW",
           "QVAS",
           3,
           1
          ],
          [
           "UW",
           "QXRD",
           3,
           1
          ],
          [
           "UW",
           "RAD1",
           3,
           1
          ],
          [
           "UW",
           "RAD4",
           3,
           1
          ],
          [
           "UW",
           "RAD6",
           3,
           1
          ],
          [
           "UW",
           "SCC",
           3,
           1
          ],
          [
           "UW",
           "SEA",
           3,
           1
          ],
          [
           "UW",
           "SLA",
           12,
           1
          ],
          [
           "UW",
           "SP2",
           6,
           1
          ],
          [
           "UW",
           "SSS2",
           3,
           1
          ],
          [
           "UW",
           "SWID",
           3,
           1
          ],
          [
           "UW",
           "TBPA",
           3,
           1
          ],
          [
           "UW",
           "TKCO",
           3,
           1
          ],
          [
           "UW",
           "UPS",
           3,
           1
          ],
          [
           "UW",
           "VVHS",
           4,
           1
          ],
          [
           "UW",
           "WISC",
           3,
           1
          ]
         ],
         "hovertemplate": "<b>%{hovertext}</b><br><br>nchan=%{marker.color}<br>sta=%{customdata[1]}<br>lat=%{lat}<br>lon=%{lon}<br>net=%{customdata[0]}<br>coverage_frac=%{customdata[3]}<extra></extra>",
         "hovertext": [
          "ALCT",
          "ALKI",
          "BABE",
          "BEVT",
          "BHW",
          "BRKS",
          "BSFP",
          "DOSE",
          "EARN",
          "EVGW",
          "FINN",
          "GMW",
          "GNW",
          "GTWN",
          "HART",
          "HDW",
          "HICC",
          "HOLY",
          "KCAM",
          "KDK",
          "KIMB",
          "KIMR",
          "KINR",
          "KITP",
          "KNEL",
          "LAWT",
          "LEOT",
          "LYNC",
          "MARY",
          "MNWA",
          "MOLE",
          "MPL",
          "NIHS",
          "NOWS",
          "PAYL",
          "PIER",
          "PNLK",
          "PSNS",
          "QADA",
          "QARB",
          "QBIT",
          "QBOG",
          "QBOV",
          "QBSH",
          "QCMM",
          "QCOM",
          "QCOR",
          "QDHS",
          "QDLP",
          "QEMI",
          "QESB",
          "QGFY",
          "QGNG",
          "QHAN",
          "QHRH",
          "QJEA",
          "QKEV",
          "QKSO",
          "QKTN",
          "QLBR",
          "QMAC",
          "QMAL",
          "QMAP",
          "QMAS",
          "QMIN",
          "QMLO",
          "QNKP",
          "QNPB",
          "QNWT",
          "QOUT",
          "QPAL",
          "QPBC",
          "QPRK",
          "QRCR",
          "QRMB",
          "QRNR",
          "QSKT",
          "QSNL",
          "QSNZ",
          "QSRV",
          "QTKM",
          "QTNB",
          "QVAS",
          "QXRD",
          "RAD1",
          "RAD4",
          "RAD6",
          "SCC",
          "SEA",
          "SLA",
          "SP2",
          "SSS2",
          "SWID",
          "TBPA",
          "TKCO",
          "UPS",
          "VVHS",
          "WISC"
         ],
         "lat": [
          47.6469,
          47.5751,
          47.60565,
          47.92497,
          47.83636,
          47.755196,
          47.531864,
          47.7172,
          47.7409,
          47.85422,
          47.72033,
          47.5488,
          47.56413,
          47.551212,
          47.583765,
          47.648312,
          47.38998,
          47.5654,
          47.5442,
          47.59503,
          47.5748,
          47.502669,
          47.752022,
          47.675201,
          47.38052,
          47.65694,
          47.76718,
          47.82555,
          47.66195,
          47.565029,
          47.65439,
          47.468609,
          47.7412,
          47.6863,
          47.19284,
          47.5835,
          47.58162,
          47.562729,
          47.672798,
          47.6403,
          47.72215,
          47.69325,
          47.62231,
          47.52796,
          47.28638,
          47.61823,
          47.65514,
          47.58414,
          47.50655,
          47.63748,
          47.627502,
          47.60656,
          47.69009,
          47.57523,
          47.47731,
          47.37622,
          47.30724,
          47.26988,
          47.8086,
          47.46955,
          47.34549,
          47.67499,
          47.45056,
          47.58774,
          47.58788,
          47.36405,
          47.71848,
          47.43327,
          47.63694,
          47.51009,
          47.65631,
          47.8018,
          47.64448,
          47.48674,
          47.77483,
          47.51982,
          47.21344,
          47.72346,
          47.62633,
          47.65424,
          47.22864,
          47.28922,
          47.582371,
          47.62001,
          47.63613,
          47.638039,
          47.633671,
          47.749649,
          47.654209,
          47.582088,
          47.55629,
          47.5818,
          48.01285,
          47.25788,
          47.53668,
          47.263939,
          47.423355,
          47.609257
         ],
         "legendgroup": "",
         "lon": [
          -122.0377,
          -122.4176,
          -122.53652,
          -122.27811,
          -122.03057,
          -122.290131,
          -122.30777,
          -122.9718,
          -122.0438,
          -122.15462,
          -122.23027,
          -122.78546,
          -122.82498,
          -122.322006,
          -122.350098,
          -123.055496,
          -122.29918,
          -122.3836,
          -122.31848,
          -122.33353,
          -122.3028,
          -122.768563,
          -122.644035,
          -122.629745,
          -122.25193,
          -122.39062,
          -122.117,
          -122.29384,
          -122.12142,
          -122.534142,
          -122.30937,
          -122.184578,
          -122.22263,
          -122.25444,
          -122.31303,
          -122.3402,
          -122.03483,
          -122.637634,
          -122.389633,
          -122.2938,
          -122.34992,
          -122.35712,
          -122.1976,
          -122.03202,
          -122.50765,
          -122.33357,
          -122.33183,
          -122.39656,
          -122.14735,
          -122.30854,
          -122.110126,
          -122.19511,
          -122.395653,
          -122.381866,
          -122.20142,
          -122.22317,
          -122.21716,
          -122.47907,
          -122.5293,
          -122.35948,
          -122.32254,
          -122.30705,
          -122.33313,
          -122.28966,
          -122.24559,
          -122.08796,
          -122.3705,
          -122.34238,
          -122.3944,
          -122.39303,
          -122.35632,
          -122.32652,
          -122.41672,
          -122.20673,
          -122.38951,
          -122.259592,
          -122.53312,
          -122.297522,
          -122.31575,
          -122.30938,
          -122.44819,
          -122.5569,
          -122.115483,
          -122.139338,
          -122.363338,
          -122.35497,
          -122.351162,
          -122.361053,
          -122.30938,
          -122.331451,
          -122.249229,
          -122.33109,
          -122.41101,
          -122.36818,
          -122.30165,
          -122.483643,
          -122.455276,
          -122.175529
         ],
         "marker": {
          "color": [
           3,
           3,
           3,
           3,
           1,
           3,
           3,
           6,
           3,
           3,
           3,
           4,
           6,
           3,
           3,
           2,
           3,
           3,
           3,
           3,
           3,
           3,
           3,
           3,
           3,
           3,
           3,
           3,
           3,
           3,
           3,
           3,
           3,
           3,
           3,
           3,
           3,
           3,
           6,
           3,
           3,
           3,
           3,
           3,
           3,
           3,
           3,
           3,
           3,
           3,
           3,
           3,
           3,
           3,
           3,
           3,
           3,
           3,
           3,
           3,
           3,
           3,
           3,
           3,
           3,
           3,
           3,
           3,
           3,
           3,
           3,
           3,
           3,
           3,
           3,
           3,
           3,
           3,
           3,
           3,
           3,
           3,
           3,
           3,
           3,
           3,
           3,
           3,
           3,
           12,
           6,
           3,
           3,
           3,
           3,
           3,
           4,
           3
          ],
          "coloraxis": "coloraxis",
          "size": [
           3,
           3,
           3,
           3,
           1,
           3,
           3,
           6,
           3,
           3,
           3,
           4,
           6,
           3,
           3,
           2,
           3,
           3,
           3,
           3,
           3,
           3,
           3,
           3,
           3,
           3,
           3,
           3,
           3,
           3,
           3,
           3,
           3,
           3,
           3,
           3,
           3,
           3,
           6,
           3,
           3,
           3,
           3,
           3,
           3,
           3,
           3,
           3,
           3,
           3,
           3,
           3,
           3,
           3,
           3,
           3,
           3,
           3,
           3,
           3,
           3,
           3,
           3,
           3,
           3,
           3,
           3,
           3,
           3,
           3,
           3,
           3,
           3,
           3,
           3,
           3,
           3,
           3,
           3,
           3,
           3,
           3,
           3,
           3,
           3,
           3,
           3,
           3,
           3,
           12,
           6,
           3,
           3,
           3,
           3,
           3,
           4,
           3
          ],
          "sizemode": "area",
          "sizeref": 0.03
         },
         "mode": "markers+text",
         "name": "",
         "showlegend": false,
         "subplot": "mapbox",
         "text": [
          "ALCT",
          "ALKI",
          "BABE",
          "BEVT",
          "BHW",
          "BRKS",
          "BSFP",
          "DOSE",
          "EARN",
          "EVGW",
          "FINN",
          "GMW",
          "GNW",
          "GTWN",
          "HART",
          "HDW",
          "HICC",
          "HOLY",
          "KCAM",
          "KDK",
          "KIMB",
          "KIMR",
          "KINR",
          "KITP",
          "KNEL",
          "LAWT",
          "LEOT",
          "LYNC",
          "MARY",
          "MNWA",
          "MOLE",
          "MPL",
          "NIHS",
          "NOWS",
          "PAYL",
          "PIER",
          "PNLK",
          "PSNS",
          "QADA",
          "QARB",
          "QBIT",
          "QBOG",
          "QBOV",
          "QBSH",
          "QCMM",
          "QCOM",
          "QCOR",
          "QDHS",
          "QDLP",
          "QEMI",
          "QESB",
          "QGFY",
          "QGNG",
          "QHAN",
          "QHRH",
          "QJEA",
          "QKEV",
          "QKSO",
          "QKTN",
          "QLBR",
          "QMAC",
          "QMAL",
          "QMAP",
          "QMAS",
          "QMIN",
          "QMLO",
          "QNKP",
          "QNPB",
          "QNWT",
          "QOUT",
          "QPAL",
          "QPBC",
          "QPRK",
          "QRCR",
          "QRMB",
          "QRNR",
          "QSKT",
          "QSNL",
          "QSNZ",
          "QSRV",
          "QTKM",
          "QTNB",
          "QVAS",
          "QXRD",
          "RAD1",
          "RAD4",
          "RAD6",
          "SCC",
          "SEA",
          "SLA",
          "SP2",
          "SSS2",
          "SWID",
          "TBPA",
          "TKCO",
          "UPS",
          "VVHS",
          "WISC"
         ],
         "type": "scattermapbox"
        }
       ],
       "layout": {
        "coloraxis": {
         "colorbar": {
          "title": {
           "text": "nchan"
          }
         },
         "colorscale": [
          [
           0,
           "#0d0887"
          ],
          [
           0.1111111111111111,
           "#46039f"
          ],
          [
           0.2222222222222222,
           "#7201a8"
          ],
          [
           0.3333333333333333,
           "#9c179e"
          ],
          [
           0.4444444444444444,
           "#bd3786"
          ],
          [
           0.5555555555555556,
           "#d8576b"
          ],
          [
           0.6666666666666666,
           "#ed7953"
          ],
          [
           0.7777777777777778,
           "#fb9f3a"
          ],
          [
           0.8888888888888888,
           "#fdca26"
          ],
          [
           1,
           "#f0f921"
          ]
         ]
        },
        "geo": {
         "resolution": 110
        },
        "height": 800,
        "legend": {
         "itemsizing": "constant",
         "tracegroupgap": 0
        },
        "mapbox": {
         "center": {
          "lat": 47.585453632653056,
          "lon": -122.34351787755102
         },
         "domain": {
          "x": [
           0,
           1
          ],
          "y": [
           0,
           1
          ]
         },
         "style": "carto-positron",
         "zoom": 9
        },
        "margin": {
         "t": 60
        },
        "template": {
         "data": {
          "bar": [
           {
            "error_x": {
             "color": "#2a3f5f"
            },
            "error_y": {
             "color": "#2a3f5f"
            },
            "marker": {
             "line": {
              "color": "#E5ECF6",
              "width": 0.5
             },
             "pattern": {
              "fillmode": "overlay",
              "size": 10,
              "solidity": 0.2
             }
            },
            "type": "bar"
           }
          ],
          "barpolar": [
           {
            "marker": {
             "line": {
              "color": "#E5ECF6",
              "width": 0.5
             },
             "pattern": {
              "fillmode": "overlay",
              "size": 10,
              "solidity": 0.2
             }
            },
            "type": "barpolar"
           }
          ],
          "carpet": [
           {
            "aaxis": {
             "endlinecolor": "#2a3f5f",
             "gridcolor": "white",
             "linecolor": "white",
             "minorgridcolor": "white",
             "startlinecolor": "#2a3f5f"
            },
            "baxis": {
             "endlinecolor": "#2a3f5f",
             "gridcolor": "white",
             "linecolor": "white",
             "minorgridcolor": "white",
             "startlinecolor": "#2a3f5f"
            },
            "type": "carpet"
           }
          ],
          "choropleth": [
           {
            "colorbar": {
             "outlinewidth": 0,
             "ticks": ""
            },
            "type": "choropleth"
           }
          ],
          "contour": [
           {
            "colorbar": {
             "outlinewidth": 0,
             "ticks": ""
            },
            "colorscale": [
             [
              0,
              "#0d0887"
             ],
             [
              0.1111111111111111,
              "#46039f"
             ],
             [
              0.2222222222222222,
              "#7201a8"
             ],
             [
              0.3333333333333333,
              "#9c179e"
             ],
             [
              0.4444444444444444,
              "#bd3786"
             ],
             [
              0.5555555555555556,
              "#d8576b"
             ],
             [
              0.6666666666666666,
              "#ed7953"
             ],
             [
              0.7777777777777778,
              "#fb9f3a"
             ],
             [
              0.8888888888888888,
              "#fdca26"
             ],
             [
              1,
              "#f0f921"
             ]
            ],
            "type": "contour"
           }
          ],
          "contourcarpet": [
           {
            "colorbar": {
             "outlinewidth": 0,
             "ticks": ""
            },
            "type": "contourcarpet"
           }
          ],
          "heatmap": [
           {
            "colorbar": {
             "outlinewidth": 0,
             "ticks": ""
            },
            "colorscale": [
             [
              0,
              "#0d0887"
             ],
             [
              0.1111111111111111,
              "#46039f"
             ],
             [
              0.2222222222222222,
              "#7201a8"
             ],
             [
              0.3333333333333333,
              "#9c179e"
             ],
             [
              0.4444444444444444,
              "#bd3786"
             ],
             [
              0.5555555555555556,
              "#d8576b"
             ],
             [
              0.6666666666666666,
              "#ed7953"
             ],
             [
              0.7777777777777778,
              "#fb9f3a"
             ],
             [
              0.8888888888888888,
              "#fdca26"
             ],
             [
              1,
              "#f0f921"
             ]
            ],
            "type": "heatmap"
           }
          ],
          "heatmapgl": [
           {
            "colorbar": {
             "outlinewidth": 0,
             "ticks": ""
            },
            "colorscale": [
             [
              0,
              "#0d0887"
             ],
             [
              0.1111111111111111,
              "#46039f"
             ],
             [
              0.2222222222222222,
              "#7201a8"
             ],
             [
              0.3333333333333333,
              "#9c179e"
             ],
             [
              0.4444444444444444,
              "#bd3786"
             ],
             [
              0.5555555555555556,
              "#d8576b"
             ],
             [
              0.6666666666666666,
              "#ed7953"
             ],
             [
              0.7777777777777778,
              "#fb9f3a"
             ],
             [
              0.8888888888888888,
              "#fdca26"
             ],
             [
              1,
              "#f0f921"
             ]
            ],
            "type": "heatmapgl"
           }
          ],
          "histogram": [
           {
            "marker": {
             "pattern": {
              "fillmode": "overlay",
              "size": 10,
              "solidity": 0.2
             }
            },
            "type": "histogram"
           }
          ],
          "histogram2d": [
           {
            "colorbar": {
             "outlinewidth": 0,
             "ticks": ""
            },
            "colorscale": [
             [
              0,
              "#0d0887"
             ],
             [
              0.1111111111111111,
              "#46039f"
             ],
             [
              0.2222222222222222,
              "#7201a8"
             ],
             [
              0.3333333333333333,
              "#9c179e"
             ],
             [
              0.4444444444444444,
              "#bd3786"
             ],
             [
              0.5555555555555556,
              "#d8576b"
             ],
             [
              0.6666666666666666,
              "#ed7953"
             ],
             [
              0.7777777777777778,
              "#fb9f3a"
             ],
             [
              0.8888888888888888,
              "#fdca26"
             ],
             [
              1,
              "#f0f921"
             ]
            ],
            "type": "histogram2d"
           }
          ],
          "histogram2dcontour": [
           {
            "colorbar": {
             "outlinewidth": 0,
             "ticks": ""
            },
            "colorscale": [
             [
              0,
              "#0d0887"
             ],
             [
              0.1111111111111111,
              "#46039f"
             ],
             [
              0.2222222222222222,
              "#7201a8"
             ],
             [
              0.3333333333333333,
              "#9c179e"
             ],
             [
              0.4444444444444444,
              "#bd3786"
             ],
             [
              0.5555555555555556,
              "#d8576b"
             ],
             [
              0.6666666666666666,
              "#ed7953"
             ],
             [
              0.7777777777777778,
              "#fb9f3a"
             ],
             [
              0.8888888888888888,
              "#fdca26"
             ],
             [
              1,
              "#f0f921"
             ]
            ],
            "type": "histogram2dcontour"
           }
          ],
          "mesh3d": [
           {
            "colorbar": {
             "outlinewidth": 0,
             "ticks": ""
            },
            "type": "mesh3d"
           }
          ],
          "parcoords": [
           {
            "line": {
             "colorbar": {
              "outlinewidth": 0,
              "ticks": ""
             }
            },
            "type": "parcoords"
           }
          ],
          "pie": [
           {
            "automargin": true,
            "type": "pie"
           }
          ],
          "scatter": [
           {
            "fillpattern": {
             "fillmode": "overlay",
             "size": 10,
             "solidity": 0.2
            },
            "type": "scatter"
           }
          ],
          "scatter3d": [
           {
            "line": {
             "colorbar": {
              "outlinewidth": 0,
              "ticks": ""
             }
            },
            "marker": {
             "colorbar": {
              "outlinewidth": 0,
              "ticks": ""
             }
            },
            "type": "scatter3d"
           }
          ],
          "scattercarpet": [
           {
            "marker": {
             "colorbar": {
              "outlinewidth": 0,
              "ticks": ""
             }
            },
            "type": "scattercarpet"
           }
          ],
          "scattergeo": [
           {
            "marker": {
             "colorbar": {
              "outlinewidth": 0,
              "ticks": ""
             }
            },
            "type": "scattergeo"
           }
          ],
          "scattergl": [
           {
            "marker": {
             "colorbar": {
              "outlinewidth": 0,
              "ticks": ""
             }
            },
            "type": "scattergl"
           }
          ],
          "scattermapbox": [
           {
            "marker": {
             "colorbar": {
              "outlinewidth": 0,
              "ticks": ""
             }
            },
            "type": "scattermapbox"
           }
          ],
          "scatterpolar": [
           {
            "marker": {
             "colorbar": {
              "outlinewidth": 0,
              "ticks": ""
             }
            },
            "type": "scatterpolar"
           }
          ],
          "scatterpolargl": [
           {
            "marker": {
             "colorbar": {
              "outlinewidth": 0,
              "ticks": ""
             }
            },
            "type": "scatterpolargl"
           }
          ],
          "scatterternary": [
           {
            "marker": {
             "colorbar": {
              "outlinewidth": 0,
              "ticks": ""
             }
            },
            "type": "scatterternary"
           }
          ],
          "surface": [
           {
            "colorbar": {
             "outlinewidth": 0,
             "ticks": ""
            },
            "colorscale": [
             [
              0,
              "#0d0887"
             ],
             [
              0.1111111111111111,
              "#46039f"
             ],
             [
              0.2222222222222222,
              "#7201a8"
             ],
             [
              0.3333333333333333,
              "#9c179e"
             ],
             [
              0.4444444444444444,
              "#bd3786"
             ],
             [
              0.5555555555555556,
              "#d8576b"
             ],
             [
              0.6666666666666666,
              "#ed7953"
             ],
             [
              0.7777777777777778,
              "#fb9f3a"
             ],
             [
              0.8888888888888888,
              "#fdca26"
             ],
             [
              1,
              "#f0f921"
             ]
            ],
            "type": "surface"
           }
          ],
          "table": [
           {
            "cells": {
             "fill": {
              "color": "#EBF0F8"
             },
             "line": {
              "color": "white"
             }
            },
            "header": {
             "fill": {
              "color": "#C8D4E3"
             },
             "line": {
              "color": "white"
             }
            },
            "type": "table"
           }
          ]
         },
         "layout": {
          "annotationdefaults": {
           "arrowcolor": "#2a3f5f",
           "arrowhead": 0,
           "arrowwidth": 1
          },
          "autotypenumbers": "strict",
          "coloraxis": {
           "colorbar": {
            "outlinewidth": 0,
            "ticks": ""
           }
          },
          "colorscale": {
           "diverging": [
            [
             0,
             "#8e0152"
            ],
            [
             0.1,
             "#c51b7d"
            ],
            [
             0.2,
             "#de77ae"
            ],
            [
             0.3,
             "#f1b6da"
            ],
            [
             0.4,
             "#fde0ef"
            ],
            [
             0.5,
             "#f7f7f7"
            ],
            [
             0.6,
             "#e6f5d0"
            ],
            [
             0.7,
             "#b8e186"
            ],
            [
             0.8,
             "#7fbc41"
            ],
            [
             0.9,
             "#4d9221"
            ],
            [
             1,
             "#276419"
            ]
           ],
           "sequential": [
            [
             0,
             "#0d0887"
            ],
            [
             0.1111111111111111,
             "#46039f"
            ],
            [
             0.2222222222222222,
             "#7201a8"
            ],
            [
             0.3333333333333333,
             "#9c179e"
            ],
            [
             0.4444444444444444,
             "#bd3786"
            ],
            [
             0.5555555555555556,
             "#d8576b"
            ],
            [
             0.6666666666666666,
             "#ed7953"
            ],
            [
             0.7777777777777778,
             "#fb9f3a"
            ],
            [
             0.8888888888888888,
             "#fdca26"
            ],
            [
             1,
             "#f0f921"
            ]
           ],
           "sequentialminus": [
            [
             0,
             "#0d0887"
            ],
            [
             0.1111111111111111,
             "#46039f"
            ],
            [
             0.2222222222222222,
             "#7201a8"
            ],
            [
             0.3333333333333333,
             "#9c179e"
            ],
            [
             0.4444444444444444,
             "#bd3786"
            ],
            [
             0.5555555555555556,
             "#d8576b"
            ],
            [
             0.6666666666666666,
             "#ed7953"
            ],
            [
             0.7777777777777778,
             "#fb9f3a"
            ],
            [
             0.8888888888888888,
             "#fdca26"
            ],
            [
             1,
             "#f0f921"
            ]
           ]
          },
          "colorway": [
           "#636efa",
           "#EF553B",
           "#00cc96",
           "#ab63fa",
           "#FFA15A",
           "#19d3f3",
           "#FF6692",
           "#B6E880",
           "#FF97FF",
           "#FECB52"
          ],
          "font": {
           "color": "#2a3f5f"
          },
          "geo": {
           "bgcolor": "white",
           "lakecolor": "white",
           "landcolor": "#E5ECF6",
           "showlakes": true,
           "showland": true,
           "subunitcolor": "white"
          },
          "hoverlabel": {
           "align": "left"
          },
          "hovermode": "closest",
          "mapbox": {
           "style": "light"
          },
          "paper_bgcolor": "white",
          "plot_bgcolor": "#E5ECF6",
          "polar": {
           "angularaxis": {
            "gridcolor": "white",
            "linecolor": "white",
            "ticks": ""
           },
           "bgcolor": "#E5ECF6",
           "radialaxis": {
            "gridcolor": "white",
            "linecolor": "white",
            "ticks": ""
           }
          },
          "scene": {
           "xaxis": {
            "backgroundcolor": "#E5ECF6",
            "gridcolor": "white",
            "gridwidth": 2,
            "linecolor": "white",
            "showbackground": true,
            "ticks": "",
            "zerolinecolor": "white"
           },
           "yaxis": {
            "backgroundcolor": "#E5ECF6",
            "gridcolor": "white",
            "gridwidth": 2,
            "linecolor": "white",
            "showbackground": true,
            "ticks": "",
            "zerolinecolor": "white"
           },
           "zaxis": {
            "backgroundcolor": "#E5ECF6",
            "gridcolor": "white",
            "gridwidth": 2,
            "linecolor": "white",
            "showbackground": true,
            "ticks": "",
            "zerolinecolor": "white"
           }
          },
          "shapedefaults": {
           "line": {
            "color": "#2a3f5f"
           }
          },
          "ternary": {
           "aaxis": {
            "gridcolor": "white",
            "linecolor": "white",
            "ticks": ""
           },
           "baxis": {
            "gridcolor": "white",
            "linecolor": "white",
            "ticks": ""
           },
           "bgcolor": "#E5ECF6",
           "caxis": {
            "gridcolor": "white",
            "linecolor": "white",
            "ticks": ""
           }
          },
          "title": {
           "x": 0.05
          },
          "xaxis": {
           "automargin": true,
           "gridcolor": "white",
           "linecolor": "white",
           "ticks": "",
           "title": {
            "standoff": 15
           },
           "zerolinecolor": "white",
           "zerolinewidth": 2
          },
          "yaxis": {
           "automargin": true,
           "gridcolor": "white",
           "linecolor": "white",
           "ticks": "",
           "title": {
            "standoff": 15
           },
           "zerolinecolor": "white",
           "zerolinewidth": 2
          }
         }
        },
        "width": 800
       }
      }
     },
     "metadata": {},
     "output_type": "display_data"
    }
   ],
   "source": [
    "# Do some visualization with plotly\n",
    "fig = px.scatter_mapbox(df_inv,lat='lat',lon='lon',color='nchan',size='nchan',\n",
    "                        hover_name='sta',hover_data=['net','sta','nchan','coverage_frac'],\n",
    "                        height=800,width=800, zoom=9, text='sta')#, opacity='coverage_frac')\n",
    "fig.update_layout(mapbox_style='carto-positron')\n",
    "fig.update_geos(resolution=110)"
   ]
  },
  {
   "cell_type": "code",
   "execution_count": 6,
   "metadata": {},
   "outputs": [
    {
     "name": "stdout",
     "output_type": "stream",
     "text": [
      "Starting to pull waveform data\n",
      "Running stattion data pulls for network UW\n"
     ]
    },
    {
     "name": "stderr",
     "output_type": "stream",
     "text": [
      " 15%|█▌        | 15/98 [09:32<49:10, 35.55s/it]  "
     ]
    }
   ],
   "source": [
    "print('Starting to pull waveform data')\n",
    "NSLBI_list = []\n",
    "wfdisc_holder = []\n",
    "for _n in inv.networks:\n",
    "    print(f'Running stattion data pulls for network {_n.code}')\n",
    "    for _s in tqdm(_n.stations):\n",
    "        for _c in _s.channels:\n",
    "            _nslbi = f'{_n.code}.{_s.code}.{_c.location_code}.{_c.code[:2]}?'\n",
    "            if _nslbi not in NSLBI_list:\n",
    "                NSLBI_list.append(_nslbi)\n",
    "                _ts = TS\n",
    "                # Define save subdirectory structure ROOT/{NetCode}/{StaCode}\n",
    "                _save_dir = os.path.join(set1_root, _n.code, _s.code)\n",
    "                while _ts < TE:\n",
    "                    # Form kwargs\n",
    "                    wfq_kwargs = dict(zip(['network','station','location','channel'],_nslbi.split('.')))\n",
    "                    # Run data pull\n",
    "                    try:\n",
    "                        st = client.get_waveforms(**wfq_kwargs, starttime=_ts, endtime=_ts + 3600)\n",
    "                    except:\n",
    "                        st = Stream()\n",
    "\n",
    "                    if len(st) > 0:\n",
    "                        wf_ts = min([_tr.stats.starttime.isoformat() for _tr in st])\n",
    "                        wf_te = max([_tr.stats.endtime.isoformat() for _tr in st])\n",
    "                        try:\n",
    "                            os.makedirs(_save_dir)\n",
    "                        except FileExistsError:\n",
    "                            pass\n",
    "                        # _save_dir/{NetCode}.{StaCode}.{LocCode}.{BandChar}{InstChar}.{Year}{Jdate:03d}.mseed\n",
    "                        _save_file = f'{_n.code:s}.{_s.code:s}.{_c.location_code:s}.{_c.code[:2]:s}?.{_ts.year:d}.{_ts.julday:03d}.{_ts.hour:02d}.mseed'\n",
    "                        _save_pf = os.path.join(_save_dir,_save_file)\n",
    "                        if ~os.path.exists(_save_pf):\n",
    "                            st.write(_save_pf, fmt='MSEED')\n",
    "                        wfdisc_line = [_s.code,_c.code[:2],wf_ts, wf_te, _c.sample_rate, _save_dir, _save_file, pd.Timestamp.now()]\n",
    "                        wfdisc_holder.append(wfdisc_line)\n",
    "                    # Advance time indexing\n",
    "                    _ts += 3600\n",
    "\n",
    "df_wfdisc = pd.DataFrame(wfdisc_holder,columns=['sta','bandinst','time','endtime','samprate','dir','dfile','lddate'])\n",
    "df_wfdisc.to_csv(os.path.join(set1_root,'wfdisc.csv'),header=True,index=True)"
   ]
  }
 ],
 "metadata": {
  "kernelspec": {
   "display_name": "pnsn_ml_dev_M2",
   "language": "python",
   "name": "python3"
  },
  "language_info": {
   "codemirror_mode": {
    "name": "ipython",
    "version": 3
   },
   "file_extension": ".py",
   "mimetype": "text/x-python",
   "name": "python",
   "nbconvert_exporter": "python",
   "pygments_lexer": "ipython3",
   "version": "3.9.18"
  }
 },
 "nbformat": 4,
 "nbformat_minor": 2
}
